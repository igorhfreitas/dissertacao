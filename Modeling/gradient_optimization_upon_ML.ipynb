{
 "cells": [
  {
   "cell_type": "code",
   "execution_count": 21,
   "metadata": {},
   "outputs": [],
   "source": [
    "import sklearn\n",
    "import scipy\n",
    "from pycaret.regression import *\n",
    "import botorch\n",
    "import torch\n",
    "import gpytorch\n",
    "import pandas as pd\n",
    "import numpy as np"
   ]
  },
  {
   "cell_type": "markdown",
   "metadata": {},
   "source": [
    "# Linear Regression com normalização"
   ]
  },
  {
   "cell_type": "code",
   "execution_count": 22,
   "metadata": {},
   "outputs": [
    {
     "data": {
      "text/html": [
       "<div>\n",
       "<style scoped>\n",
       "    .dataframe tbody tr th:only-of-type {\n",
       "        vertical-align: middle;\n",
       "    }\n",
       "\n",
       "    .dataframe tbody tr th {\n",
       "        vertical-align: top;\n",
       "    }\n",
       "\n",
       "    .dataframe thead th {\n",
       "        text-align: right;\n",
       "    }\n",
       "</style>\n",
       "<table border=\"1\" class=\"dataframe\">\n",
       "  <thead>\n",
       "    <tr style=\"text-align: right;\">\n",
       "      <th></th>\n",
       "      <th>material</th>\n",
       "      <th>depth</th>\n",
       "      <th>vc</th>\n",
       "      <th>rake_angle</th>\n",
       "      <th>clearance_angle</th>\n",
       "      <th>expected_cut_force</th>\n",
       "      <th>A</th>\n",
       "      <th>B</th>\n",
       "      <th>C</th>\n",
       "      <th>n</th>\n",
       "      <th>m</th>\n",
       "      <th>densidade</th>\n",
       "      <th>young_modulus</th>\n",
       "      <th>poisson_coef</th>\n",
       "    </tr>\n",
       "  </thead>\n",
       "  <tbody>\n",
       "    <tr>\n",
       "      <th>0</th>\n",
       "      <td>AISI_1020</td>\n",
       "      <td>0.5</td>\n",
       "      <td>99999</td>\n",
       "      <td>99999</td>\n",
       "      <td>5</td>\n",
       "      <td>9999999</td>\n",
       "      <td>213.00</td>\n",
       "      <td>53</td>\n",
       "      <td>0.0055</td>\n",
       "      <td>0.340</td>\n",
       "      <td>0.810</td>\n",
       "      <td>0.0027</td>\n",
       "      <td>206000</td>\n",
       "      <td>0.280</td>\n",
       "    </tr>\n",
       "    <tr>\n",
       "      <th>1</th>\n",
       "      <td>AISI_1045</td>\n",
       "      <td>0.5</td>\n",
       "      <td>99999</td>\n",
       "      <td>99999</td>\n",
       "      <td>5</td>\n",
       "      <td>9999999</td>\n",
       "      <td>553.00</td>\n",
       "      <td>600</td>\n",
       "      <td>0.0134</td>\n",
       "      <td>0.234</td>\n",
       "      <td>1.000</td>\n",
       "      <td>0.0027</td>\n",
       "      <td>210000</td>\n",
       "      <td>0.269</td>\n",
       "    </tr>\n",
       "    <tr>\n",
       "      <th>2</th>\n",
       "      <td>AISI_4340</td>\n",
       "      <td>0.5</td>\n",
       "      <td>99999</td>\n",
       "      <td>99999</td>\n",
       "      <td>5</td>\n",
       "      <td>9999999</td>\n",
       "      <td>792.00</td>\n",
       "      <td>510</td>\n",
       "      <td>0.0140</td>\n",
       "      <td>1.030</td>\n",
       "      <td>0.260</td>\n",
       "      <td>0.0027</td>\n",
       "      <td>209000</td>\n",
       "      <td>0.280</td>\n",
       "    </tr>\n",
       "    <tr>\n",
       "      <th>3</th>\n",
       "      <td>AISI_4340_52_HRC</td>\n",
       "      <td>0.5</td>\n",
       "      <td>99999</td>\n",
       "      <td>99999</td>\n",
       "      <td>5</td>\n",
       "      <td>9999999</td>\n",
       "      <td>1638.00</td>\n",
       "      <td>1034</td>\n",
       "      <td>0.0058</td>\n",
       "      <td>0.460</td>\n",
       "      <td>1.003</td>\n",
       "      <td>0.0027</td>\n",
       "      <td>222000</td>\n",
       "      <td>0.290</td>\n",
       "    </tr>\n",
       "    <tr>\n",
       "      <th>4</th>\n",
       "      <td>STEEL_304</td>\n",
       "      <td>0.5</td>\n",
       "      <td>99999</td>\n",
       "      <td>99999</td>\n",
       "      <td>5</td>\n",
       "      <td>9999999</td>\n",
       "      <td>310.00</td>\n",
       "      <td>1000</td>\n",
       "      <td>0.0700</td>\n",
       "      <td>0.650</td>\n",
       "      <td>1.000</td>\n",
       "      <td>0.0027</td>\n",
       "      <td>209000</td>\n",
       "      <td>0.280</td>\n",
       "    </tr>\n",
       "    <tr>\n",
       "      <th>5</th>\n",
       "      <td>STEEL_52100</td>\n",
       "      <td>0.5</td>\n",
       "      <td>99999</td>\n",
       "      <td>99999</td>\n",
       "      <td>5</td>\n",
       "      <td>9999999</td>\n",
       "      <td>774.78</td>\n",
       "      <td>134</td>\n",
       "      <td>0.0018</td>\n",
       "      <td>0.370</td>\n",
       "      <td>3.171</td>\n",
       "      <td>0.0027</td>\n",
       "      <td>222000</td>\n",
       "      <td>0.290</td>\n",
       "    </tr>\n",
       "  </tbody>\n",
       "</table>\n",
       "</div>"
      ],
      "text/plain": [
       "           material  depth     vc  rake_angle  clearance_angle  \\\n",
       "0         AISI_1020    0.5  99999       99999                5   \n",
       "1         AISI_1045    0.5  99999       99999                5   \n",
       "2         AISI_4340    0.5  99999       99999                5   \n",
       "3  AISI_4340_52_HRC    0.5  99999       99999                5   \n",
       "4         STEEL_304    0.5  99999       99999                5   \n",
       "5       STEEL_52100    0.5  99999       99999                5   \n",
       "\n",
       "   expected_cut_force        A     B       C      n      m  densidade  \\\n",
       "0             9999999   213.00    53  0.0055  0.340  0.810     0.0027   \n",
       "1             9999999   553.00   600  0.0134  0.234  1.000     0.0027   \n",
       "2             9999999   792.00   510  0.0140  1.030  0.260     0.0027   \n",
       "3             9999999  1638.00  1034  0.0058  0.460  1.003     0.0027   \n",
       "4             9999999   310.00  1000  0.0700  0.650  1.000     0.0027   \n",
       "5             9999999   774.78   134  0.0018  0.370  3.171     0.0027   \n",
       "\n",
       "   young_modulus  poisson_coef  \n",
       "0         206000         0.280  \n",
       "1         210000         0.269  \n",
       "2         209000         0.280  \n",
       "3         222000         0.290  \n",
       "4         209000         0.280  \n",
       "5         222000         0.290  "
      ]
     },
     "execution_count": 22,
     "metadata": {},
     "output_type": "execute_result"
    }
   ],
   "source": [
    "df=pd.DataFrame([[\"AISI_1020\",0.5,99999,99999,5,9999999,213,53,0.0055,0.34,0.81,2.70E-03,206000,0.28],\n",
    "              [\"AISI_1045\",0.5,99999,99999,5,9999999,553,600,0.0134,0.234,1.000,2.70E-03,210000,0.269],\n",
    "              [\"AISI_4340\",0.5,99999,99999,5,9999999,792,510,0.014,1.030,0.26,2.70E-03,209000,0.28],\n",
    "              [\"AISI_4340_52_HRC\",0.5,99999,99999,5,9999999,1638,1034,0.0058,0.46,1.003,2.70E-03,222000,0.29],\n",
    "              [\"STEEL_304\",0.5,99999,99999,5,9999999,310,1000,0.07,0.65,1.000,2.70E-03,209000,0.28],\n",
    "              [\"STEEL_52100\",0.5,99999,99999,5,9999999,774.78,134,0.0018,0.37,3.171,2.70E-03,222000,0.29]],\n",
    "              columns=[\"material\",\"depth\",\"vc\",\"rake_angle\",\"clearance_angle\",\"expected_cut_force\",\n",
    "                        \"A\",\"B\",\"C\",\"n\",\"m\",\"densidade\",\"young_modulus\",\"poisson_coef\"])\n",
    "df"
   ]
  },
  {
   "cell_type": "code",
   "execution_count": 23,
   "metadata": {},
   "outputs": [],
   "source": [
    "def build_input(controlable_input, fixed_input,construct_dict):\n",
    "    final_input_df=pd.DataFrame()\n",
    "    for input in controlable_input:\n",
    "        for counter,parameter in enumerate(construct_dict.keys()):\n",
    "            fixed_input[parameter]=input[counter]\n",
    "        final_input_df=pd.concat([final_input_df,fixed_input])\n",
    "    return final_input_df"
   ]
  },
  {
   "cell_type": "code",
   "execution_count": 24,
   "metadata": {},
   "outputs": [],
   "source": [
    "construct_dict={\"rake_angle\":{\"sequence_len\":4,\"max_bound\":10,\"lower_bound\":-10,\"type\":\"int\"},\n",
    "                \"vc\":{\"sequence_len\":10,\"max_bound\":500,\"lower_bound\":30,\"type\":\"int\"},\n",
    "                #\"depth\":{\"sequence_len\":4,\"max_bound\":2,\"lower_bound\":0.1,\"type\":\"float\"}\n",
    "                }"
   ]
  },
  {
   "cell_type": "code",
   "execution_count": 25,
   "metadata": {},
   "outputs": [],
   "source": [
    "degree_to_radian=lambda x: x*np.pi/180\n",
    "radians_to_degree=lambda x: x*180/np.pi"
   ]
  },
  {
   "attachments": {},
   "cell_type": "markdown",
   "metadata": {},
   "source": [
    "# Minimização da força de corte"
   ]
  },
  {
   "cell_type": "code",
   "execution_count": 26,
   "metadata": {},
   "outputs": [
    {
     "name": "stdout",
     "output_type": "stream",
     "text": [
      "Transformation Pipeline and Model Successfully Loaded\n"
     ]
    }
   ],
   "source": [
    "lasso_v0=load_model(\"models/lasso_v0\")"
   ]
  },
  {
   "cell_type": "code",
   "execution_count": 32,
   "metadata": {},
   "outputs": [],
   "source": [
    "def objective_func(x,iloc_=0):\n",
    "    #x -> [[rake_angle,vc]] \n",
    "    x=[x]\n",
    "    inputs=build_input(x,df.iloc[[iloc_]],construct_dict)\n",
    "    cut_force=(predict_model(lasso_v0,inputs).drop_duplicates()[\"prediction_label\"].values)\n",
    "    return cut_force[0]"
   ]
  },
  {
   "attachments": {},
   "cell_type": "markdown",
   "metadata": {},
   "source": [
    "### Força bruta"
   ]
  },
  {
   "cell_type": "code",
   "execution_count": 49,
   "metadata": {},
   "outputs": [],
   "source": [
    "import itertools\n",
    "from itertools import permutations\n",
    " \n",
    "# initialize lists\n",
    "list_1 = [str(x) for x in np.linspace(-15,15,10)]\n",
    "list_2 = [str(x) for x in np.linspace(3000,5000,3)]\n",
    " \n",
    "unique_combinations = []\n",
    " \n",
    "permut = itertools.permutations(list_1, len(list_2))\n",
    " \n",
    "for comb in permut:\n",
    "    zipped = zip(comb, list_2)\n",
    "    unique_combinations.append(list(zipped))\n",
    "\n",
    "flat_list = [item for sublist in unique_combinations for item in sublist]"
   ]
  },
  {
   "cell_type": "code",
   "execution_count": 50,
   "metadata": {},
   "outputs": [
    {
     "data": {
      "text/plain": [
       "['-15.0',\n",
       " '-11.666666666666666',\n",
       " '-8.333333333333332',\n",
       " '-5.0',\n",
       " '-1.666666666666666',\n",
       " '1.6666666666666679',\n",
       " '5.0',\n",
       " '8.333333333333336',\n",
       " '11.666666666666668',\n",
       " '15.0']"
      ]
     },
     "execution_count": 50,
     "metadata": {},
     "output_type": "execute_result"
    }
   ],
   "source": [
    "list_1"
   ]
  },
  {
   "cell_type": "code",
   "execution_count": 51,
   "metadata": {},
   "outputs": [
    {
     "data": {
      "text/plain": [
       "2160"
      ]
     },
     "execution_count": 51,
     "metadata": {},
     "output_type": "execute_result"
    }
   ],
   "source": [
    "len(flat_list)"
   ]
  },
  {
   "cell_type": "code",
   "execution_count": 52,
   "metadata": {},
   "outputs": [
    {
     "data": {
      "text/html": [
       "<div>\n",
       "<style scoped>\n",
       "    .dataframe tbody tr th:only-of-type {\n",
       "        vertical-align: middle;\n",
       "    }\n",
       "\n",
       "    .dataframe tbody tr th {\n",
       "        vertical-align: top;\n",
       "    }\n",
       "\n",
       "    .dataframe thead th {\n",
       "        text-align: right;\n",
       "    }\n",
       "</style>\n",
       "<table border=\"1\" class=\"dataframe\">\n",
       "  <thead>\n",
       "    <tr style=\"text-align: right;\">\n",
       "      <th></th>\n",
       "      <th>rake_angle</th>\n",
       "      <th>vc</th>\n",
       "      <th>fcut</th>\n",
       "      <th>material</th>\n",
       "    </tr>\n",
       "  </thead>\n",
       "  <tbody>\n",
       "    <tr>\n",
       "      <th>2640</th>\n",
       "      <td>-1.666666666666666</td>\n",
       "      <td>5000.0</td>\n",
       "      <td>536.141973</td>\n",
       "      <td>AISI_1020</td>\n",
       "    </tr>\n",
       "    <tr>\n",
       "      <th>7990</th>\n",
       "      <td>-1.666666666666666</td>\n",
       "      <td>5000.0</td>\n",
       "      <td>1643.889324</td>\n",
       "      <td>STEEL_304</td>\n",
       "    </tr>\n",
       "    <tr>\n",
       "      <th>8135</th>\n",
       "      <td>-1.666666666666666</td>\n",
       "      <td>5000.0</td>\n",
       "      <td>2537.020786</td>\n",
       "      <td>STEEL_52100</td>\n",
       "    </tr>\n",
       "    <tr>\n",
       "      <th>5107</th>\n",
       "      <td>-1.666666666666666</td>\n",
       "      <td>5000.0</td>\n",
       "      <td>4600.020234</td>\n",
       "      <td>AISI_1045</td>\n",
       "    </tr>\n",
       "    <tr>\n",
       "      <th>11480</th>\n",
       "      <td>1.6666666666666679</td>\n",
       "      <td>5000.0</td>\n",
       "      <td>5592.608323</td>\n",
       "      <td>AISI_4340</td>\n",
       "    </tr>\n",
       "    <tr>\n",
       "      <th>6117</th>\n",
       "      <td>-5.0</td>\n",
       "      <td>5000.0</td>\n",
       "      <td>9448.432909</td>\n",
       "      <td>AISI_4340_52_HRC</td>\n",
       "    </tr>\n",
       "  </tbody>\n",
       "</table>\n",
       "</div>"
      ],
      "text/plain": [
       "               rake_angle      vc         fcut          material\n",
       "2640   -1.666666666666666  5000.0   536.141973         AISI_1020\n",
       "7990   -1.666666666666666  5000.0  1643.889324         STEEL_304\n",
       "8135   -1.666666666666666  5000.0  2537.020786       STEEL_52100\n",
       "5107   -1.666666666666666  5000.0  4600.020234         AISI_1045\n",
       "11480  1.6666666666666679  5000.0  5592.608323         AISI_4340\n",
       "6117                 -5.0  5000.0  9448.432909  AISI_4340_52_HRC"
      ]
     },
     "execution_count": 52,
     "metadata": {},
     "output_type": "execute_result"
    }
   ],
   "source": [
    "dict_={\"rake_angle\":[],\"vc\":[],\"fcut\":[],\"material\":[]}\n",
    "for i in flat_list:\n",
    "    for j in range(df.shape[0]):\n",
    "        dict_[\"rake_angle\"].append(i[0])\n",
    "        dict_[\"vc\"].append(i[1])\n",
    "        dict_[\"fcut\"].append(objective_func(i,j))\n",
    "        dict_[\"material\"].append(df.iloc[j][\"material\"])\n",
    "results=pd.DataFrame.from_dict(dict_).sort_values(\"fcut\")\n",
    "results.sort_values(\"fcut\").drop_duplicates(\"material\")"
   ]
  },
  {
   "attachments": {},
   "cell_type": "markdown",
   "metadata": {},
   "source": [
    "## método de minimização"
   ]
  },
  {
   "cell_type": "code",
   "execution_count": 12,
   "metadata": {},
   "outputs": [
    {
     "data": {
      "text/plain": [
       "   direc: array([[-9.77418153e-06, -1.88537057e-02],\n",
       "       [ 5.76224722e-04, -2.19862703e-06]])\n",
       "     fun: 4597.0312\n",
       " message: 'Optimization terminated successfully.'\n",
       "    nfev: 205\n",
       "     nit: 3\n",
       "  status: 0\n",
       " success: True\n",
       "       x: array([-2.59050471e-01,  4.99999751e+03])"
      ]
     },
     "execution_count": 12,
     "metadata": {},
     "output_type": "execute_result"
    }
   ],
   "source": [
    "from scipy.optimize import minimize\n",
    "\n",
    "degree_to_radian=lambda x: x*np.pi/180\n",
    "radians_to_degree=lambda x: x*180/np.pi\n",
    "\n",
    "bounds=[(degree_to_radian(-15),degree_to_radian(15)),(3000,5000)]\n",
    "\n",
    "output=minimize(objective_func,x0=[0,4500],method=\"Powell\",bounds=bounds)\n",
    "output"
   ]
  },
  {
   "cell_type": "code",
   "execution_count": 120,
   "metadata": {},
   "outputs": [
    {
     "name": "stdout",
     "output_type": "stream",
     "text": [
      "rake_angle : -859.4367\n",
      "vc : 4500.0000\n"
     ]
    }
   ],
   "source": [
    "for param,value in zip([\"rake_angle\",\"vc\"],output[\"x\"]):\n",
    "    if param == \"rake_angle\":\n",
    "        value=radians_to_degree(value)\n",
    "    print(\"{} : {:.4f}\".format(param,value))"
   ]
  },
  {
   "cell_type": "code",
   "execution_count": 121,
   "metadata": {},
   "outputs": [
    {
     "data": {
      "text/plain": [
       "   direc: array([[ 0.00000000e+00,  1.00000000e+00],\n",
       "       [ 7.26664562e-04, -2.57638701e-02]])\n",
       "     fun: 4601.0977\n",
       " message: 'Optimization terminated successfully.'\n",
       "    nfev: 156\n",
       "     nit: 2\n",
       "  status: 0\n",
       " success: True\n",
       "       x: array([8.98614923e-01, 4.99999718e+03])"
      ]
     },
     "execution_count": 121,
     "metadata": {},
     "output_type": "execute_result"
    }
   ],
   "source": [
    "from scipy.optimize import minimize\n",
    "\n",
    "degree_to_radian=lambda x: x*np.pi/180\n",
    "radians_to_degree=lambda x: x*180/np.pi\n",
    "\n",
    "bounds=[(-15,15),(3000,5000)]\n",
    "\n",
    "output=minimize(objective_func,x0=[15,4500],method=\"Powell\",bounds=bounds)\n",
    "output"
   ]
  },
  {
   "cell_type": "code",
   "execution_count": 147,
   "metadata": {},
   "outputs": [
    {
     "data": {
      "text/plain": [
       "[[15.0, 3000.0],\n",
       " [-15.0, 4000.0],\n",
       " [-15.0, 5000.0],\n",
       " [-15.0, 3000.0],\n",
       " [0.0, 4000.0],\n",
       " [0.0, 3000.0],\n",
       " [15.0, 4000.0],\n",
       " [15.0, 5000.0],\n",
       " [0.0, 5000.0]]"
      ]
     },
     "execution_count": 147,
     "metadata": {},
     "output_type": "execute_result"
    }
   ],
   "source": [
    "x0_list=[[float(rake),float(vc)] for rake,vc in list(set(flat_list))]\n",
    "x0_list"
   ]
  },
  {
   "cell_type": "code",
   "execution_count": 148,
   "metadata": {},
   "outputs": [
    {
     "name": "stdout",
     "output_type": "stream",
     "text": [
      "Chutes iniciais: [15.0, 3000.0]\n",
      "      fun: 5202.91\n",
      " hess_inv: <2x2 LbfgsInvHessProduct with dtype=float64>\n",
      "      jac: array([-0.,  0.])\n",
      "  message: 'CONVERGENCE: NORM_OF_PROJECTED_GRADIENT_<=_PGTOL'\n",
      "     nfev: 3\n",
      "      nit: 0\n",
      "     njev: 1\n",
      "   status: 0\n",
      "  success: True\n",
      "        x: array([  15., 3000.])\n",
      "Chutes iniciais: [-15.0, 4000.0]\n",
      "      fun: 5663.8945\n",
      " hess_inv: <2x2 LbfgsInvHessProduct with dtype=float64>\n",
      "      jac: array([0., 0.])\n",
      "  message: 'CONVERGENCE: NORM_OF_PROJECTED_GRADIENT_<=_PGTOL'\n",
      "     nfev: 3\n",
      "      nit: 0\n",
      "     njev: 1\n",
      "   status: 0\n",
      "  success: True\n",
      "        x: array([ -15., 4000.])\n",
      "Chutes iniciais: [-15.0, 5000.0]\n",
      "      fun: 5059.824\n",
      " hess_inv: <2x2 LbfgsInvHessProduct with dtype=float64>\n",
      "      jac: array([ 0., -0.])\n",
      "  message: 'CONVERGENCE: NORM_OF_PROJECTED_GRADIENT_<=_PGTOL'\n",
      "     nfev: 3\n",
      "      nit: 0\n",
      "     njev: 1\n",
      "   status: 0\n",
      "  success: True\n",
      "        x: array([ -15., 5000.])\n",
      "Chutes iniciais: [-15.0, 3000.0]\n",
      "      fun: 5865.385\n",
      " hess_inv: <2x2 LbfgsInvHessProduct with dtype=float64>\n",
      "      jac: array([0., 0.])\n",
      "  message: 'CONVERGENCE: NORM_OF_PROJECTED_GRADIENT_<=_PGTOL'\n",
      "     nfev: 3\n",
      "      nit: 0\n",
      "     njev: 1\n",
      "   status: 0\n",
      "  success: True\n",
      "        x: array([ -15., 3000.])\n",
      "Chutes iniciais: [0.0, 4000.0]\n",
      "      fun: 5020.09\n",
      " hess_inv: <2x2 LbfgsInvHessProduct with dtype=float64>\n",
      "      jac: array([0., 0.])\n",
      "  message: 'CONVERGENCE: NORM_OF_PROJECTED_GRADIENT_<=_PGTOL'\n",
      "     nfev: 3\n",
      "      nit: 0\n",
      "     njev: 1\n",
      "   status: 0\n",
      "  success: True\n",
      "        x: array([   0., 4000.])\n",
      "Chutes iniciais: [0.0, 3000.0]\n",
      "      fun: 5040.176\n",
      " hess_inv: <2x2 LbfgsInvHessProduct with dtype=float64>\n",
      "      jac: array([0., 0.])\n",
      "  message: 'CONVERGENCE: NORM_OF_PROJECTED_GRADIENT_<=_PGTOL'\n",
      "     nfev: 3\n",
      "      nit: 0\n",
      "     njev: 1\n",
      "   status: 0\n",
      "  success: True\n",
      "        x: array([   0., 3000.])\n",
      "Chutes iniciais: [15.0, 4000.0]\n",
      "      fun: 5364.2344\n",
      " hess_inv: <2x2 LbfgsInvHessProduct with dtype=float64>\n",
      "      jac: array([-0.,  0.])\n",
      "  message: 'CONVERGENCE: NORM_OF_PROJECTED_GRADIENT_<=_PGTOL'\n",
      "     nfev: 3\n",
      "      nit: 0\n",
      "     njev: 1\n",
      "   status: 0\n",
      "  success: True\n",
      "        x: array([  15., 4000.])\n",
      "Chutes iniciais: [15.0, 5000.0]\n",
      "      fun: 5122.9766\n",
      " hess_inv: <2x2 LbfgsInvHessProduct with dtype=float64>\n",
      "      jac: array([-0., -0.])\n",
      "  message: 'CONVERGENCE: NORM_OF_PROJECTED_GRADIENT_<=_PGTOL'\n",
      "     nfev: 3\n",
      "      nit: 0\n",
      "     njev: 1\n",
      "   status: 0\n",
      "  success: True\n",
      "        x: array([  15., 5000.])\n",
      "Chutes iniciais: [0.0, 5000.0]\n",
      "      fun: 4597.4297\n",
      " hess_inv: <2x2 LbfgsInvHessProduct with dtype=float64>\n",
      "      jac: array([ 0., -0.])\n",
      "  message: 'CONVERGENCE: NORM_OF_PROJECTED_GRADIENT_<=_PGTOL'\n",
      "     nfev: 3\n",
      "      nit: 0\n",
      "     njev: 1\n",
      "   status: 0\n",
      "  success: True\n",
      "        x: array([   0., 5000.])\n"
     ]
    }
   ],
   "source": [
    "from scipy.optimize import minimize\n",
    "\n",
    "degree_to_radian=lambda x: x*np.pi/180\n",
    "radians_to_degree=lambda x: x*180/np.pi\n",
    "\n",
    "bounds=[(-15,15),(3000,5000)]\n",
    "for x0 in x0_list:\n",
    "    print(f\"Chutes iniciais: {x0}\")\n",
    "    output=minimize(objective_func,x0=x0,bounds=bounds)\n",
    "    print(output)"
   ]
  },
  {
   "attachments": {},
   "cell_type": "markdown",
   "metadata": {},
   "source": [
    "## Usando Lin Prog para isso visto que é uma função linear"
   ]
  },
  {
   "cell_type": "code",
   "execution_count": 70,
   "metadata": {},
   "outputs": [
    {
     "name": "stdout",
     "output_type": "stream",
     "text": [
      "vc:0.6383768916130066\n",
      "rake_angle:-1.8660235404968262\n",
      "depth vc:-0.13880175352096558\n",
      "vc clearance_angle:0.28536170721054077\n",
      "vc C:-3.5359292030334473\n",
      "vc n:0.3298444151878357\n",
      "vc m:0.1361583173274994\n",
      "vc poisson_coef:-1.7311007976531982\n",
      "rake_angle^2:2.1954288482666016\n",
      "rake_angle clearance_angle:-15.03478717803955\n",
      "rake_angle C:1314.893310546875\n",
      "rake_angle n:-58.446876525878906\n",
      "rake_angle m:-11.31787395477295\n",
      "rake_angle poisson_coef:51.31021499633789\n"
     ]
    }
   ],
   "source": [
    "for name,coef in zip(lasso_v0[\"polynomial_features\"].transformer.get_feature_names_out(),lasso_v0[1].coef_):\n",
    "    if abs(coef)>0.1:\n",
    "        if \"rake_angle\" in name or \"vc\" in name:\n",
    "            print(\"{}:{}\".format(name,coef))"
   ]
  },
  {
   "cell_type": "code",
   "execution_count": null,
   "metadata": {},
   "outputs": [],
   "source": [
    "from scipy.optimize import linprog\n",
    "\n",
    "linprog(objective_func, A_ub=None, b_ub=None, A_eq=None, b_eq=None, bounds=None, method='highs', callback=None, options=None, x0=None, integrality=None)[source]\n"
   ]
  },
  {
   "attachments": {},
   "cell_type": "markdown",
   "metadata": {},
   "source": [
    "# ToDo: Maximização do MRR e minimização da proxy de temperatura com restrições de potência"
   ]
  },
  {
   "cell_type": "code",
   "execution_count": 23,
   "metadata": {},
   "outputs": [],
   "source": [
    "def objective_func(x):\n",
    "    #x -> [[rake_angle,vc]] \n",
    "    mrr=-0.5*(-(x[0]*0.3*0.7))\n",
    "    inputs=build_input(x,input_test,construct_dict)\n",
    "    proxy_temperatura=0.5*(predict_model(model,inputs).drop_duplicates()[\"prediction_label\"].values*np.sin(\"rake_angle\"))\n",
    "    return mrr+proxy_temperatura\n",
    "\n",
    "bounds=[(3000,5000),(0.2,0.5),(0.5,1),(degree_to_radian(-15),degree_to_radian(15))]\n",
    "\n",
    "def constraint_func(x):\n",
    "    tension=650\n",
    "    Pmax=450000\n",
    "    inputs=build_input(x,input_test,construct_dict)\n",
    "    return -(b*h*(tension*(predict_model(model,inputs).drop_duplicates()[\"prediction_label\"].values-Pmax)))"
   ]
  },
  {
   "cell_type": "code",
   "execution_count": 18,
   "metadata": {},
   "outputs": [
    {
     "ename": "TypeError",
     "evalue": "'int' object is not subscriptable",
     "output_type": "error",
     "traceback": [
      "\u001b[1;31m---------------------------------------------------------------------------\u001b[0m",
      "\u001b[1;31mTypeError\u001b[0m                                 Traceback (most recent call last)",
      "\u001b[1;32m<ipython-input-18-94c13daa9f0a>\u001b[0m in \u001b[0;36m<module>\u001b[1;34m\u001b[0m\n\u001b[1;32m----> 1\u001b[1;33m \u001b[0mobjective_func\u001b[0m\u001b[1;33m(\u001b[0m\u001b[1;33m[\u001b[0m\u001b[1;36m10\u001b[0m\u001b[1;33m,\u001b[0m\u001b[1;36m3000\u001b[0m\u001b[1;33m]\u001b[0m\u001b[1;33m)\u001b[0m\u001b[1;33m\u001b[0m\u001b[1;33m\u001b[0m\u001b[0m\n\u001b[0m",
      "\u001b[1;32m<ipython-input-17-ee71137af34b>\u001b[0m in \u001b[0;36mobjective_func\u001b[1;34m(x)\u001b[0m\n\u001b[0;32m      2\u001b[0m     \u001b[1;31m#x -> [[rake_angle,vc]]\u001b[0m\u001b[1;33m\u001b[0m\u001b[1;33m\u001b[0m\u001b[1;33m\u001b[0m\u001b[0m\n\u001b[0;32m      3\u001b[0m     \u001b[0mmrr\u001b[0m\u001b[1;33m=\u001b[0m\u001b[1;33m-\u001b[0m\u001b[1;36m0.5\u001b[0m\u001b[1;33m*\u001b[0m\u001b[1;33m(\u001b[0m\u001b[1;33m-\u001b[0m\u001b[1;33m(\u001b[0m\u001b[0mx\u001b[0m\u001b[1;33m[\u001b[0m\u001b[1;36m0\u001b[0m\u001b[1;33m]\u001b[0m\u001b[1;33m*\u001b[0m\u001b[1;36m0.3\u001b[0m\u001b[1;33m*\u001b[0m\u001b[1;36m0.7\u001b[0m\u001b[1;33m)\u001b[0m\u001b[1;33m)\u001b[0m\u001b[1;33m\u001b[0m\u001b[1;33m\u001b[0m\u001b[0m\n\u001b[1;32m----> 4\u001b[1;33m     \u001b[0minputs\u001b[0m\u001b[1;33m=\u001b[0m\u001b[0mbuild_input\u001b[0m\u001b[1;33m(\u001b[0m\u001b[0mx\u001b[0m\u001b[1;33m,\u001b[0m\u001b[0minput_test\u001b[0m\u001b[1;33m,\u001b[0m\u001b[0mconstruct_dict\u001b[0m\u001b[1;33m)\u001b[0m\u001b[1;33m\u001b[0m\u001b[1;33m\u001b[0m\u001b[0m\n\u001b[0m\u001b[0;32m      5\u001b[0m     \u001b[0mproxy_temperatura\u001b[0m\u001b[1;33m=\u001b[0m\u001b[1;36m0.5\u001b[0m\u001b[1;33m*\u001b[0m\u001b[1;33m(\u001b[0m\u001b[0mpredict_model\u001b[0m\u001b[1;33m(\u001b[0m\u001b[0mmodel\u001b[0m\u001b[1;33m,\u001b[0m\u001b[0minputs\u001b[0m\u001b[1;33m)\u001b[0m\u001b[1;33m.\u001b[0m\u001b[0mdrop_duplicates\u001b[0m\u001b[1;33m(\u001b[0m\u001b[1;33m)\u001b[0m\u001b[1;33m[\u001b[0m\u001b[1;34m\"prediction_label\"\u001b[0m\u001b[1;33m]\u001b[0m\u001b[1;33m.\u001b[0m\u001b[0mvalues\u001b[0m\u001b[1;33m*\u001b[0m\u001b[0mnp\u001b[0m\u001b[1;33m.\u001b[0m\u001b[0msin\u001b[0m\u001b[1;33m(\u001b[0m\u001b[0mrake_angle\u001b[0m\u001b[1;33m)\u001b[0m\u001b[1;33m)\u001b[0m\u001b[1;33m\u001b[0m\u001b[1;33m\u001b[0m\u001b[0m\n\u001b[0;32m      6\u001b[0m     \u001b[1;32mreturn\u001b[0m \u001b[0mmrr\u001b[0m\u001b[1;33m+\u001b[0m\u001b[0mproxy_temperatura\u001b[0m\u001b[1;33m\u001b[0m\u001b[1;33m\u001b[0m\u001b[0m\n",
      "\u001b[1;32m<ipython-input-8-50382a22c0b8>\u001b[0m in \u001b[0;36mbuild_input\u001b[1;34m(controlable_input, fixed_input, construct_dict)\u001b[0m\n\u001b[0;32m      4\u001b[0m     \u001b[1;32mfor\u001b[0m \u001b[0minput\u001b[0m \u001b[1;32min\u001b[0m \u001b[0mcontrolable_input\u001b[0m\u001b[1;33m:\u001b[0m\u001b[1;33m\u001b[0m\u001b[1;33m\u001b[0m\u001b[0m\n\u001b[0;32m      5\u001b[0m         \u001b[1;32mfor\u001b[0m \u001b[0mcounter\u001b[0m\u001b[1;33m,\u001b[0m\u001b[0mparameter\u001b[0m \u001b[1;32min\u001b[0m \u001b[0menumerate\u001b[0m\u001b[1;33m(\u001b[0m\u001b[0mconstruct_dict\u001b[0m\u001b[1;33m.\u001b[0m\u001b[0mkeys\u001b[0m\u001b[1;33m(\u001b[0m\u001b[1;33m)\u001b[0m\u001b[1;33m)\u001b[0m\u001b[1;33m:\u001b[0m\u001b[1;33m\u001b[0m\u001b[1;33m\u001b[0m\u001b[0m\n\u001b[1;32m----> 6\u001b[1;33m             \u001b[0mfixed_input\u001b[0m\u001b[1;33m[\u001b[0m\u001b[0mparameter\u001b[0m\u001b[1;33m]\u001b[0m\u001b[1;33m=\u001b[0m\u001b[0minput\u001b[0m\u001b[1;33m[\u001b[0m\u001b[0mcounter\u001b[0m\u001b[1;33m]\u001b[0m\u001b[1;33m\u001b[0m\u001b[1;33m\u001b[0m\u001b[0m\n\u001b[0m\u001b[0;32m      7\u001b[0m         \u001b[0mfinal_input_df\u001b[0m\u001b[1;33m=\u001b[0m\u001b[0mpd\u001b[0m\u001b[1;33m.\u001b[0m\u001b[0mconcat\u001b[0m\u001b[1;33m(\u001b[0m\u001b[1;33m[\u001b[0m\u001b[0mfinal_input_df\u001b[0m\u001b[1;33m,\u001b[0m\u001b[0mfixed_input\u001b[0m\u001b[1;33m]\u001b[0m\u001b[1;33m)\u001b[0m\u001b[1;33m\u001b[0m\u001b[1;33m\u001b[0m\u001b[0m\n\u001b[0;32m      8\u001b[0m     \u001b[1;32mreturn\u001b[0m \u001b[0mfinal_input_df\u001b[0m\u001b[1;33m\u001b[0m\u001b[1;33m\u001b[0m\u001b[0m\n",
      "\u001b[1;31mTypeError\u001b[0m: 'int' object is not subscriptable"
     ]
    }
   ],
   "source": [
    "objective_func([10,3000])"
   ]
  },
  {
   "cell_type": "code",
   "execution_count": null,
   "metadata": {},
   "outputs": [],
   "source": [
    "s = setup(df, target = 'expected_cut_force',fold_shuffle=True,numeric_features=list(df.drop(\"expected_cut_force\",axis=1).columns),\n",
    "          ignore_features=[\"d1\",\"d2\",\"d3\",\"d4\",\"d5\",\"densidade\",],\n",
    "          imputation_type='iterative',\n",
    "          polynomial_features=False,\n",
    "          normalize=True)\n",
    "lr = create_model('lr')\n",
    "evaluate_model(lr)"
   ]
  },
  {
   "cell_type": "code",
   "execution_count": null,
   "metadata": {},
   "outputs": [],
   "source": [
    "features=[\n",
    "    \"A\",\n",
    "    \"poisson_coef\",\n",
    "    \"young_modulus\",\n",
    "    \"m\",\n",
    "    \"n\",\n",
    "    \"B\",\n",
    "    \"C\",\n",
    "    \"rake_angle\",\n",
    "    \"vc\",\n",
    "    \"clearance_angle\"\n",
    "    ]\n",
    "for feature,coef in zip(features,sorted(abs(lr.coef_),reverse=True)):\n",
    "  print(f\"{feature} : {coef}\")"
   ]
  },
  {
   "cell_type": "code",
   "execution_count": null,
   "metadata": {},
   "outputs": [],
   "source": [
    "from scipy.optimize import linprog\n",
    "\n",
    "c=[15.42108154296875,42.14762878417969]\n",
    "bounds=[(3000,5000),(-10,15)]\n",
    "linprog(c, bounds=bounds)"
   ]
  },
  {
   "cell_type": "code",
   "execution_count": null,
   "metadata": {},
   "outputs": [],
   "source": [
    "df[features].assign(rake_angle=-10,vc=3000)"
   ]
  },
  {
   "cell_type": "code",
   "execution_count": null,
   "metadata": {},
   "outputs": [],
   "source": [
    "predict_model(lr,data=df.assign(rake_angle_orig=df[\"rake_angle\"],vc_orig=df[\"vc\"],rake_angle=-10,vc=3000))"
   ]
  },
  {
   "cell_type": "markdown",
   "metadata": {},
   "source": [
    "## Verificando linear regression parâmetros"
   ]
  },
  {
   "cell_type": "code",
   "execution_count": null,
   "metadata": {},
   "outputs": [],
   "source": [
    "import statsmodels.api as sm\n",
    "\n",
    "mod = sm.OLS(df[\"expected_cut_force\"], df[[\"depth\",\"vc\",\"rake_angle\",\"A\",\"B\",\"C\",\"n\",\"m\"]])\n",
    "res = mod.fit()\n",
    "print(res.summary())"
   ]
  },
  {
   "cell_type": "code",
   "execution_count": null,
   "metadata": {},
   "outputs": [],
   "source": [
    "from sklearn.preprocessing import StandardScaler\n",
    "from sklearn.model_selection import train_test_split\n",
    "\n",
    "scaler=StandardScaler()\n",
    "X_train,X_test,y_train,y_test=train_test_split(df[[\"depth\",\"vc\",\"rake_angle\",\"A\",\"B\",\"C\",\"n\",\"m\"]],df[\"expected_cut_force\"],\n",
    "                                               test_size=0.33, random_state=42)\n",
    "X_train=pd.DataFrame(scaler.fit_transform(X_train),columns=X_train.columns,index=y_train.index)\n",
    "X_test=pd.DataFrame(scaler.transform(X_test),columns=X_test.columns,index=y_test.index)"
   ]
  },
  {
   "cell_type": "code",
   "execution_count": null,
   "metadata": {},
   "outputs": [],
   "source": [
    "mod = sm.OLS(y_train, X_train)\n",
    "res = mod.fit()\n",
    "print(res.summary())"
   ]
  },
  {
   "cell_type": "code",
   "execution_count": null,
   "metadata": {},
   "outputs": [],
   "source": [
    "from scipy.optimize import linprog\n",
    "\n",
    "c=[-0.0346,-4.4994]\n",
    "bounds=[(3000,5000),(-10,15)]\n",
    "linprog(c, bounds=bounds)"
   ]
  },
  {
   "cell_type": "code",
   "execution_count": null,
   "metadata": {},
   "outputs": [],
   "source": [
    "lr"
   ]
  },
  {
   "cell_type": "code",
   "execution_count": null,
   "metadata": {},
   "outputs": [],
   "source": [
    "plot_df=df.groupby([\"A\",\"B\",\"C\",\"n\",\"m\",\"d1\",\"d2\",\"d3\",\"d4\",\"d5\",\"vc\",\"rake_angle\"]).agg(\n",
    "    {\"expected_cut_force\":\"mean\"}\n",
    ").reset_index().reset_index().drop(\n",
    "  [\"d1\",\"d2\",\"d3\",\"d4\",\"d5\",],axis=1\n",
    ")\n",
    "plot_df"
   ]
  },
  {
   "cell_type": "code",
   "execution_count": null,
   "metadata": {},
   "outputs": [],
   "source": [
    "import plotly.graph_objs as go\n",
    "import plotly.express as px\n",
    "\n",
    "fig = px.scatter(plot_df.astype({\"vc\":str}), x=\"rake_angle\", y=\"expected_cut_force\",color=\"vc\",hover_data=[\"A\",\"B\",\"C\",\"n\",\"m\"])\n",
    "\n",
    "display(fig)"
   ]
  }
 ],
 "metadata": {
  "kernelspec": {
   "display_name": "Dissertacao_nightly",
   "language": "python",
   "name": "python3"
  },
  "language_info": {
   "codemirror_mode": {
    "name": "ipython",
    "version": 3
   },
   "file_extension": ".py",
   "mimetype": "text/x-python",
   "name": "python",
   "nbconvert_exporter": "python",
   "pygments_lexer": "ipython3",
   "version": "3.9.4"
  },
  "orig_nbformat": 4
 },
 "nbformat": 4,
 "nbformat_minor": 2
}
