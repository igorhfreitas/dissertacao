{
  "cells": [
    {
      "cell_type": "code",
      "execution_count": 1,
      "metadata": {},
      "outputs": [
        {
          "name": "stderr",
          "output_type": "stream",
          "text": [
            "c:\\Users\\99823827\\Anaconda3\\envs\\Dissertacao_nightly\\lib\\site-packages\\numpy\\_distributor_init.py:30: UserWarning: loaded more than 1 DLL from .libs:\n",
            "c:\\Users\\99823827\\Anaconda3\\envs\\Dissertacao_nightly\\lib\\site-packages\\numpy\\.libs\\libopenblas.FB5AE2TYXYH2IJRDKGDGQ3XBKLKTF43H.gfortran-win_amd64.dll\n",
            "c:\\Users\\99823827\\Anaconda3\\envs\\Dissertacao_nightly\\lib\\site-packages\\numpy\\.libs\\libopenblas.WCDJNK7YVMPZQ2ME2ZZHJJRJ3JIKNDB7.gfortran-win_amd64.dll\n",
            "  warnings.warn(\"loaded more than 1 DLL from .libs:\"\n",
            "c:\\Users\\99823827\\Anaconda3\\envs\\Dissertacao_nightly\\lib\\site-packages\\scipy\\__init__.py:138: UserWarning: A NumPy version >=1.16.5 and <1.23.0 is required for this version of SciPy (detected version 1.23.5)\n",
            "  warnings.warn(f\"A NumPy version >={np_minversion} and <{np_maxversion} is required for this version of \"\n"
          ]
        }
      ],
      "source": [
        "import sklearn\n",
        "import scipy\n",
        "import pycaret\n",
        "import botorch\n",
        "import torch\n",
        "import gpytorch\n",
        "import pandas as pd"
      ]
    },
    {
      "cell_type": "code",
      "execution_count": 2,
      "metadata": {
        "colab": {
          "base_uri": "https://localhost:8080/",
          "height": 424
        },
        "id": "Oa3WjsYu9Y22",
        "outputId": "6a86172b-695e-48b6-b348-4b3996b31ca7"
      },
      "outputs": [
        {
          "data": {
            "text/html": [
              "<div>\n",
              "<style scoped>\n",
              "    .dataframe tbody tr th:only-of-type {\n",
              "        vertical-align: middle;\n",
              "    }\n",
              "\n",
              "    .dataframe tbody tr th {\n",
              "        vertical-align: top;\n",
              "    }\n",
              "\n",
              "    .dataframe thead th {\n",
              "        text-align: right;\n",
              "    }\n",
              "</style>\n",
              "<table border=\"1\" class=\"dataframe\">\n",
              "  <thead>\n",
              "    <tr style=\"text-align: right;\">\n",
              "      <th></th>\n",
              "      <th>depth</th>\n",
              "      <th>vc</th>\n",
              "      <th>rake_angle</th>\n",
              "      <th>clearance_angle</th>\n",
              "      <th>expected_cut_force</th>\n",
              "      <th>A</th>\n",
              "      <th>B</th>\n",
              "      <th>C</th>\n",
              "      <th>n</th>\n",
              "      <th>m</th>\n",
              "      <th>d1</th>\n",
              "      <th>d2</th>\n",
              "      <th>d3</th>\n",
              "      <th>d4</th>\n",
              "      <th>d5</th>\n",
              "      <th>densidade</th>\n",
              "      <th>young_modulus</th>\n",
              "      <th>poisson_coef</th>\n",
              "    </tr>\n",
              "  </thead>\n",
              "  <tbody>\n",
              "    <tr>\n",
              "      <th>0.0</th>\n",
              "      <td>0.5</td>\n",
              "      <td>3000.0</td>\n",
              "      <td>-10.0</td>\n",
              "      <td>5.0</td>\n",
              "      <td>6063.298535</td>\n",
              "      <td>553.0</td>\n",
              "      <td>600.0</td>\n",
              "      <td>0.0134</td>\n",
              "      <td>0.234</td>\n",
              "      <td>1.0</td>\n",
              "      <td>0.06</td>\n",
              "      <td>3.31</td>\n",
              "      <td>-1.96</td>\n",
              "      <td>0.0018</td>\n",
              "      <td>0.58</td>\n",
              "      <td>2.700000e-09</td>\n",
              "      <td>210000.0</td>\n",
              "      <td>0.269</td>\n",
              "    </tr>\n",
              "    <tr>\n",
              "      <th>1.0</th>\n",
              "      <td>0.5</td>\n",
              "      <td>3000.0</td>\n",
              "      <td>-7.0</td>\n",
              "      <td>5.0</td>\n",
              "      <td>4420.143506</td>\n",
              "      <td>553.0</td>\n",
              "      <td>600.0</td>\n",
              "      <td>0.0134</td>\n",
              "      <td>0.234</td>\n",
              "      <td>1.0</td>\n",
              "      <td>0.06</td>\n",
              "      <td>3.31</td>\n",
              "      <td>-1.96</td>\n",
              "      <td>0.0018</td>\n",
              "      <td>0.58</td>\n",
              "      <td>2.700000e-09</td>\n",
              "      <td>210000.0</td>\n",
              "      <td>0.269</td>\n",
              "    </tr>\n",
              "    <tr>\n",
              "      <th>2.0</th>\n",
              "      <td>0.5</td>\n",
              "      <td>3000.0</td>\n",
              "      <td>-4.0</td>\n",
              "      <td>5.0</td>\n",
              "      <td>5492.385645</td>\n",
              "      <td>553.0</td>\n",
              "      <td>600.0</td>\n",
              "      <td>0.0134</td>\n",
              "      <td>0.234</td>\n",
              "      <td>1.0</td>\n",
              "      <td>0.06</td>\n",
              "      <td>3.31</td>\n",
              "      <td>-1.96</td>\n",
              "      <td>0.0018</td>\n",
              "      <td>0.58</td>\n",
              "      <td>2.700000e-09</td>\n",
              "      <td>210000.0</td>\n",
              "      <td>0.269</td>\n",
              "    </tr>\n",
              "    <tr>\n",
              "      <th>3.0</th>\n",
              "      <td>0.5</td>\n",
              "      <td>3000.0</td>\n",
              "      <td>-1.0</td>\n",
              "      <td>5.0</td>\n",
              "      <td>4820.064746</td>\n",
              "      <td>553.0</td>\n",
              "      <td>600.0</td>\n",
              "      <td>0.0134</td>\n",
              "      <td>0.234</td>\n",
              "      <td>1.0</td>\n",
              "      <td>0.06</td>\n",
              "      <td>3.31</td>\n",
              "      <td>-1.96</td>\n",
              "      <td>0.0018</td>\n",
              "      <td>0.58</td>\n",
              "      <td>2.700000e-09</td>\n",
              "      <td>210000.0</td>\n",
              "      <td>0.269</td>\n",
              "    </tr>\n",
              "    <tr>\n",
              "      <th>4.0</th>\n",
              "      <td>0.5</td>\n",
              "      <td>3000.0</td>\n",
              "      <td>2.0</td>\n",
              "      <td>5.0</td>\n",
              "      <td>3987.947656</td>\n",
              "      <td>553.0</td>\n",
              "      <td>600.0</td>\n",
              "      <td>0.0134</td>\n",
              "      <td>0.234</td>\n",
              "      <td>1.0</td>\n",
              "      <td>0.06</td>\n",
              "      <td>3.31</td>\n",
              "      <td>-1.96</td>\n",
              "      <td>0.0018</td>\n",
              "      <td>0.58</td>\n",
              "      <td>2.700000e-09</td>\n",
              "      <td>210000.0</td>\n",
              "      <td>0.269</td>\n",
              "    </tr>\n",
              "    <tr>\n",
              "      <th>...</th>\n",
              "      <td>...</td>\n",
              "      <td>...</td>\n",
              "      <td>...</td>\n",
              "      <td>...</td>\n",
              "      <td>...</td>\n",
              "      <td>...</td>\n",
              "      <td>...</td>\n",
              "      <td>...</td>\n",
              "      <td>...</td>\n",
              "      <td>...</td>\n",
              "      <td>...</td>\n",
              "      <td>...</td>\n",
              "      <td>...</td>\n",
              "      <td>...</td>\n",
              "      <td>...</td>\n",
              "      <td>...</td>\n",
              "      <td>...</td>\n",
              "      <td>...</td>\n",
              "    </tr>\n",
              "    <tr>\n",
              "      <th>319.0</th>\n",
              "      <td>0.5</td>\n",
              "      <td>4500.0</td>\n",
              "      <td>2.0</td>\n",
              "      <td>5.0</td>\n",
              "      <td>4818.066699</td>\n",
              "      <td>553.0</td>\n",
              "      <td>600.0</td>\n",
              "      <td>0.0134</td>\n",
              "      <td>0.234</td>\n",
              "      <td>1.0</td>\n",
              "      <td>0.06</td>\n",
              "      <td>3.31</td>\n",
              "      <td>-1.96</td>\n",
              "      <td>0.0018</td>\n",
              "      <td>0.58</td>\n",
              "      <td>2.700000e-09</td>\n",
              "      <td>210000.0</td>\n",
              "      <td>0.269</td>\n",
              "    </tr>\n",
              "    <tr>\n",
              "      <th>320.0</th>\n",
              "      <td>0.5</td>\n",
              "      <td>4500.0</td>\n",
              "      <td>5.0</td>\n",
              "      <td>5.0</td>\n",
              "      <td>3898.750684</td>\n",
              "      <td>553.0</td>\n",
              "      <td>600.0</td>\n",
              "      <td>0.0134</td>\n",
              "      <td>0.234</td>\n",
              "      <td>1.0</td>\n",
              "      <td>0.06</td>\n",
              "      <td>3.31</td>\n",
              "      <td>-1.96</td>\n",
              "      <td>0.0018</td>\n",
              "      <td>0.58</td>\n",
              "      <td>2.700000e-09</td>\n",
              "      <td>210000.0</td>\n",
              "      <td>0.269</td>\n",
              "    </tr>\n",
              "    <tr>\n",
              "      <th>321.0</th>\n",
              "      <td>0.5</td>\n",
              "      <td>4500.0</td>\n",
              "      <td>8.0</td>\n",
              "      <td>5.0</td>\n",
              "      <td>5058.776172</td>\n",
              "      <td>553.0</td>\n",
              "      <td>600.0</td>\n",
              "      <td>0.0134</td>\n",
              "      <td>0.234</td>\n",
              "      <td>1.0</td>\n",
              "      <td>0.06</td>\n",
              "      <td>3.31</td>\n",
              "      <td>-1.96</td>\n",
              "      <td>0.0018</td>\n",
              "      <td>0.58</td>\n",
              "      <td>2.700000e-09</td>\n",
              "      <td>210000.0</td>\n",
              "      <td>0.269</td>\n",
              "    </tr>\n",
              "    <tr>\n",
              "      <th>322.0</th>\n",
              "      <td>0.5</td>\n",
              "      <td>4500.0</td>\n",
              "      <td>11.0</td>\n",
              "      <td>5.0</td>\n",
              "      <td>5383.911328</td>\n",
              "      <td>553.0</td>\n",
              "      <td>600.0</td>\n",
              "      <td>0.0134</td>\n",
              "      <td>0.234</td>\n",
              "      <td>1.0</td>\n",
              "      <td>0.06</td>\n",
              "      <td>3.31</td>\n",
              "      <td>-1.96</td>\n",
              "      <td>0.0018</td>\n",
              "      <td>0.58</td>\n",
              "      <td>2.700000e-09</td>\n",
              "      <td>210000.0</td>\n",
              "      <td>0.269</td>\n",
              "    </tr>\n",
              "    <tr>\n",
              "      <th>323.0</th>\n",
              "      <td>0.5</td>\n",
              "      <td>4500.0</td>\n",
              "      <td>14.0</td>\n",
              "      <td>5.0</td>\n",
              "      <td>4805.151855</td>\n",
              "      <td>553.0</td>\n",
              "      <td>600.0</td>\n",
              "      <td>0.0134</td>\n",
              "      <td>0.234</td>\n",
              "      <td>1.0</td>\n",
              "      <td>0.06</td>\n",
              "      <td>3.31</td>\n",
              "      <td>-1.96</td>\n",
              "      <td>0.0018</td>\n",
              "      <td>0.58</td>\n",
              "      <td>2.700000e-09</td>\n",
              "      <td>210000.0</td>\n",
              "      <td>0.269</td>\n",
              "    </tr>\n",
              "  </tbody>\n",
              "</table>\n",
              "<p>324 rows × 18 columns</p>\n",
              "</div>"
            ],
            "text/plain": [
              "       depth      vc  rake_angle  clearance_angle  expected_cut_force      A  \\\n",
              "0.0      0.5  3000.0       -10.0              5.0         6063.298535  553.0   \n",
              "1.0      0.5  3000.0        -7.0              5.0         4420.143506  553.0   \n",
              "2.0      0.5  3000.0        -4.0              5.0         5492.385645  553.0   \n",
              "3.0      0.5  3000.0        -1.0              5.0         4820.064746  553.0   \n",
              "4.0      0.5  3000.0         2.0              5.0         3987.947656  553.0   \n",
              "...      ...     ...         ...              ...                 ...    ...   \n",
              "319.0    0.5  4500.0         2.0              5.0         4818.066699  553.0   \n",
              "320.0    0.5  4500.0         5.0              5.0         3898.750684  553.0   \n",
              "321.0    0.5  4500.0         8.0              5.0         5058.776172  553.0   \n",
              "322.0    0.5  4500.0        11.0              5.0         5383.911328  553.0   \n",
              "323.0    0.5  4500.0        14.0              5.0         4805.151855  553.0   \n",
              "\n",
              "           B       C      n    m    d1    d2    d3      d4    d5  \\\n",
              "0.0    600.0  0.0134  0.234  1.0  0.06  3.31 -1.96  0.0018  0.58   \n",
              "1.0    600.0  0.0134  0.234  1.0  0.06  3.31 -1.96  0.0018  0.58   \n",
              "2.0    600.0  0.0134  0.234  1.0  0.06  3.31 -1.96  0.0018  0.58   \n",
              "3.0    600.0  0.0134  0.234  1.0  0.06  3.31 -1.96  0.0018  0.58   \n",
              "4.0    600.0  0.0134  0.234  1.0  0.06  3.31 -1.96  0.0018  0.58   \n",
              "...      ...     ...    ...  ...   ...   ...   ...     ...   ...   \n",
              "319.0  600.0  0.0134  0.234  1.0  0.06  3.31 -1.96  0.0018  0.58   \n",
              "320.0  600.0  0.0134  0.234  1.0  0.06  3.31 -1.96  0.0018  0.58   \n",
              "321.0  600.0  0.0134  0.234  1.0  0.06  3.31 -1.96  0.0018  0.58   \n",
              "322.0  600.0  0.0134  0.234  1.0  0.06  3.31 -1.96  0.0018  0.58   \n",
              "323.0  600.0  0.0134  0.234  1.0  0.06  3.31 -1.96  0.0018  0.58   \n",
              "\n",
              "          densidade  young_modulus  poisson_coef  \n",
              "0.0    2.700000e-09       210000.0         0.269  \n",
              "1.0    2.700000e-09       210000.0         0.269  \n",
              "2.0    2.700000e-09       210000.0         0.269  \n",
              "3.0    2.700000e-09       210000.0         0.269  \n",
              "4.0    2.700000e-09       210000.0         0.269  \n",
              "...             ...            ...           ...  \n",
              "319.0  2.700000e-09       210000.0         0.269  \n",
              "320.0  2.700000e-09       210000.0         0.269  \n",
              "321.0  2.700000e-09       210000.0         0.269  \n",
              "322.0  2.700000e-09       210000.0         0.269  \n",
              "323.0  2.700000e-09       210000.0         0.269  \n",
              "\n",
              "[324 rows x 18 columns]"
            ]
          },
          "execution_count": 2,
          "metadata": {},
          "output_type": "execute_result"
        }
      ],
      "source": [
        "df=pd.read_csv(\"..\\data_gen\\data_to_modeling.csv\",sep='\\t',dtype='float',index_col=0)\n",
        "df"
      ]
    },
    {
      "cell_type": "code",
      "execution_count": 3,
      "metadata": {},
      "outputs": [],
      "source": [
        "ignore_features=[\"d1\",\"d2\",\"d3\",\"d4\",\"d5\",\"densidade\",] #devido a erro no pycaret, vou fazer exclusão forçada das variáveis\n",
        "df_1=df.drop(ignore_features,axis=1)"
      ]
    },
    {
      "cell_type": "code",
      "execution_count": 4,
      "metadata": {},
      "outputs": [
        {
          "data": {
            "text/plain": [
              "depth                 False\n",
              "vc                    False\n",
              "rake_angle            False\n",
              "clearance_angle       False\n",
              "expected_cut_force    False\n",
              "A                     False\n",
              "B                     False\n",
              "C                     False\n",
              "n                     False\n",
              "m                     False\n",
              "young_modulus         False\n",
              "poisson_coef          False\n",
              "dtype: bool"
            ]
          },
          "execution_count": 4,
          "metadata": {},
          "output_type": "execute_result"
        }
      ],
      "source": [
        "df_1.isna().any()"
      ]
    },
    {
      "attachments": {},
      "cell_type": "markdown",
      "metadata": {},
      "source": [
        "# Modelagem com expansão nas features"
      ]
    },
    {
      "cell_type": "code",
      "execution_count": 5,
      "metadata": {
        "colab": {
          "base_uri": "https://localhost:8080/",
          "height": 1000,
          "referenced_widgets": [
            "72b7c9f0f43743248157fb2952da1c34",
            "8295692aea2745a281ef5804b324409b",
            "8ca6b5ee632341e4940906cbdb7cc32f",
            "5969a9734e6941f7baa9661d8cae849d",
            "b8f3bdc1190345d89c1b912985db23e2",
            "8c3d2680fa7b44dba91bee8319e2e7fe"
          ]
        },
        "id": "8V07IsM-9pMD",
        "outputId": "c8129036-4469-45bd-ca77-3bd6748cbc1f"
      },
      "outputs": [
        {
          "data": {
            "text/html": [
              "<style type=\"text/css\">\n",
              "#T_2c9dc_row8_col1, #T_2c9dc_row10_col1 {\n",
              "  background-color: lightgreen;\n",
              "}\n",
              "</style>\n",
              "<table id=\"T_2c9dc\">\n",
              "  <thead>\n",
              "    <tr>\n",
              "      <th class=\"blank level0\" >&nbsp;</th>\n",
              "      <th id=\"T_2c9dc_level0_col0\" class=\"col_heading level0 col0\" >Description</th>\n",
              "      <th id=\"T_2c9dc_level0_col1\" class=\"col_heading level0 col1\" >Value</th>\n",
              "    </tr>\n",
              "  </thead>\n",
              "  <tbody>\n",
              "    <tr>\n",
              "      <th id=\"T_2c9dc_level0_row0\" class=\"row_heading level0 row0\" >0</th>\n",
              "      <td id=\"T_2c9dc_row0_col0\" class=\"data row0 col0\" >Session id</td>\n",
              "      <td id=\"T_2c9dc_row0_col1\" class=\"data row0 col1\" >4949</td>\n",
              "    </tr>\n",
              "    <tr>\n",
              "      <th id=\"T_2c9dc_level0_row1\" class=\"row_heading level0 row1\" >1</th>\n",
              "      <td id=\"T_2c9dc_row1_col0\" class=\"data row1 col0\" >Target</td>\n",
              "      <td id=\"T_2c9dc_row1_col1\" class=\"data row1 col1\" >expected_cut_force</td>\n",
              "    </tr>\n",
              "    <tr>\n",
              "      <th id=\"T_2c9dc_level0_row2\" class=\"row_heading level0 row2\" >2</th>\n",
              "      <td id=\"T_2c9dc_row2_col0\" class=\"data row2 col0\" >Target type</td>\n",
              "      <td id=\"T_2c9dc_row2_col1\" class=\"data row2 col1\" >Regression</td>\n",
              "    </tr>\n",
              "    <tr>\n",
              "      <th id=\"T_2c9dc_level0_row3\" class=\"row_heading level0 row3\" >3</th>\n",
              "      <td id=\"T_2c9dc_row3_col0\" class=\"data row3 col0\" >Original data shape</td>\n",
              "      <td id=\"T_2c9dc_row3_col1\" class=\"data row3 col1\" >(324, 12)</td>\n",
              "    </tr>\n",
              "    <tr>\n",
              "      <th id=\"T_2c9dc_level0_row4\" class=\"row_heading level0 row4\" >4</th>\n",
              "      <td id=\"T_2c9dc_row4_col0\" class=\"data row4 col0\" >Transformed data shape</td>\n",
              "      <td id=\"T_2c9dc_row4_col1\" class=\"data row4 col1\" >(324, 78)</td>\n",
              "    </tr>\n",
              "    <tr>\n",
              "      <th id=\"T_2c9dc_level0_row5\" class=\"row_heading level0 row5\" >5</th>\n",
              "      <td id=\"T_2c9dc_row5_col0\" class=\"data row5 col0\" >Transformed train set shape</td>\n",
              "      <td id=\"T_2c9dc_row5_col1\" class=\"data row5 col1\" >(226, 78)</td>\n",
              "    </tr>\n",
              "    <tr>\n",
              "      <th id=\"T_2c9dc_level0_row6\" class=\"row_heading level0 row6\" >6</th>\n",
              "      <td id=\"T_2c9dc_row6_col0\" class=\"data row6 col0\" >Transformed test set shape</td>\n",
              "      <td id=\"T_2c9dc_row6_col1\" class=\"data row6 col1\" >(98, 78)</td>\n",
              "    </tr>\n",
              "    <tr>\n",
              "      <th id=\"T_2c9dc_level0_row7\" class=\"row_heading level0 row7\" >7</th>\n",
              "      <td id=\"T_2c9dc_row7_col0\" class=\"data row7 col0\" >Numeric features</td>\n",
              "      <td id=\"T_2c9dc_row7_col1\" class=\"data row7 col1\" >11</td>\n",
              "    </tr>\n",
              "    <tr>\n",
              "      <th id=\"T_2c9dc_level0_row8\" class=\"row_heading level0 row8\" >8</th>\n",
              "      <td id=\"T_2c9dc_row8_col0\" class=\"data row8 col0\" >Preprocess</td>\n",
              "      <td id=\"T_2c9dc_row8_col1\" class=\"data row8 col1\" >True</td>\n",
              "    </tr>\n",
              "    <tr>\n",
              "      <th id=\"T_2c9dc_level0_row9\" class=\"row_heading level0 row9\" >9</th>\n",
              "      <td id=\"T_2c9dc_row9_col0\" class=\"data row9 col0\" >Imputation type</td>\n",
              "      <td id=\"T_2c9dc_row9_col1\" class=\"data row9 col1\" >None</td>\n",
              "    </tr>\n",
              "    <tr>\n",
              "      <th id=\"T_2c9dc_level0_row10\" class=\"row_heading level0 row10\" >10</th>\n",
              "      <td id=\"T_2c9dc_row10_col0\" class=\"data row10 col0\" >Polynomial features</td>\n",
              "      <td id=\"T_2c9dc_row10_col1\" class=\"data row10 col1\" >True</td>\n",
              "    </tr>\n",
              "    <tr>\n",
              "      <th id=\"T_2c9dc_level0_row11\" class=\"row_heading level0 row11\" >11</th>\n",
              "      <td id=\"T_2c9dc_row11_col0\" class=\"data row11 col0\" >Polynomial degree</td>\n",
              "      <td id=\"T_2c9dc_row11_col1\" class=\"data row11 col1\" >2</td>\n",
              "    </tr>\n",
              "    <tr>\n",
              "      <th id=\"T_2c9dc_level0_row12\" class=\"row_heading level0 row12\" >12</th>\n",
              "      <td id=\"T_2c9dc_row12_col0\" class=\"data row12 col0\" >Fold Generator</td>\n",
              "      <td id=\"T_2c9dc_row12_col1\" class=\"data row12 col1\" >KFold</td>\n",
              "    </tr>\n",
              "    <tr>\n",
              "      <th id=\"T_2c9dc_level0_row13\" class=\"row_heading level0 row13\" >13</th>\n",
              "      <td id=\"T_2c9dc_row13_col0\" class=\"data row13 col0\" >Fold Number</td>\n",
              "      <td id=\"T_2c9dc_row13_col1\" class=\"data row13 col1\" >10</td>\n",
              "    </tr>\n",
              "    <tr>\n",
              "      <th id=\"T_2c9dc_level0_row14\" class=\"row_heading level0 row14\" >14</th>\n",
              "      <td id=\"T_2c9dc_row14_col0\" class=\"data row14 col0\" >CPU Jobs</td>\n",
              "      <td id=\"T_2c9dc_row14_col1\" class=\"data row14 col1\" >-1</td>\n",
              "    </tr>\n",
              "    <tr>\n",
              "      <th id=\"T_2c9dc_level0_row15\" class=\"row_heading level0 row15\" >15</th>\n",
              "      <td id=\"T_2c9dc_row15_col0\" class=\"data row15 col0\" >Use GPU</td>\n",
              "      <td id=\"T_2c9dc_row15_col1\" class=\"data row15 col1\" >False</td>\n",
              "    </tr>\n",
              "    <tr>\n",
              "      <th id=\"T_2c9dc_level0_row16\" class=\"row_heading level0 row16\" >16</th>\n",
              "      <td id=\"T_2c9dc_row16_col0\" class=\"data row16 col0\" >Log Experiment</td>\n",
              "      <td id=\"T_2c9dc_row16_col1\" class=\"data row16 col1\" >False</td>\n",
              "    </tr>\n",
              "    <tr>\n",
              "      <th id=\"T_2c9dc_level0_row17\" class=\"row_heading level0 row17\" >17</th>\n",
              "      <td id=\"T_2c9dc_row17_col0\" class=\"data row17 col0\" >Experiment Name</td>\n",
              "      <td id=\"T_2c9dc_row17_col1\" class=\"data row17 col1\" >reg-default-name</td>\n",
              "    </tr>\n",
              "    <tr>\n",
              "      <th id=\"T_2c9dc_level0_row18\" class=\"row_heading level0 row18\" >18</th>\n",
              "      <td id=\"T_2c9dc_row18_col0\" class=\"data row18 col0\" >USI</td>\n",
              "      <td id=\"T_2c9dc_row18_col1\" class=\"data row18 col1\" >9905</td>\n",
              "    </tr>\n",
              "  </tbody>\n",
              "</table>\n"
            ],
            "text/plain": [
              "<pandas.io.formats.style.Styler at 0x1d681626370>"
            ]
          },
          "metadata": {},
          "output_type": "display_data"
        }
      ],
      "source": [
        "from pycaret.regression import *\n",
        "s = setup(df_1,\n",
        "          target = 'expected_cut_force',\n",
        "          fold_shuffle=True,\n",
        "          numeric_features=list(df_1.drop(\"expected_cut_force\",axis=1).columns),\n",
        "          imputation_type=None,\n",
        "          polynomial_features=True,\n",
        "          profile=False\n",
        ")"
      ]
    },
    {
      "cell_type": "code",
      "execution_count": 6,
      "metadata": {
        "colab": {
          "base_uri": "https://localhost:8080/",
          "height": 787,
          "referenced_widgets": [
            "8c0db815773b421fb7754ba4a9c28ab3",
            "27724d7aa080435c9ef60694e16014f9",
            "d41787be091443b28a7604b9089e90d1"
          ]
        },
        "id": "tRoQIkuV91m9",
        "outputId": "c3da98f5-a848-490b-bbbe-c6f48fae5508"
      },
      "outputs": [
        {
          "data": {
            "text/html": [
              "<div>\n",
              "<style scoped>\n",
              "    .dataframe tbody tr th:only-of-type {\n",
              "        vertical-align: middle;\n",
              "    }\n",
              "\n",
              "    .dataframe tbody tr th {\n",
              "        vertical-align: top;\n",
              "    }\n",
              "\n",
              "    .dataframe thead th {\n",
              "        text-align: right;\n",
              "    }\n",
              "</style>\n",
              "<table border=\"1\" class=\"dataframe\">\n",
              "  <thead>\n",
              "    <tr style=\"text-align: right;\">\n",
              "      <th></th>\n",
              "      <th></th>\n",
              "      <th></th>\n",
              "    </tr>\n",
              "    <tr>\n",
              "      <th></th>\n",
              "      <th></th>\n",
              "      <th></th>\n",
              "    </tr>\n",
              "  </thead>\n",
              "  <tbody>\n",
              "    <tr>\n",
              "      <th>Initiated</th>\n",
              "      <td>. . . . . . . . . . . . . . . . . .</td>\n",
              "      <td>16:32:53</td>\n",
              "    </tr>\n",
              "    <tr>\n",
              "      <th>Status</th>\n",
              "      <td>. . . . . . . . . . . . . . . . . .</td>\n",
              "      <td>Loading Estimator</td>\n",
              "    </tr>\n",
              "    <tr>\n",
              "      <th>Estimator</th>\n",
              "      <td>. . . . . . . . . . . . . . . . . .</td>\n",
              "      <td>Linear Regression</td>\n",
              "    </tr>\n",
              "  </tbody>\n",
              "</table>\n",
              "</div>"
            ],
            "text/plain": [
              "                                                                 \n",
              "                                                                 \n",
              "Initiated  . . . . . . . . . . . . . . . . . .           16:32:53\n",
              "Status     . . . . . . . . . . . . . . . . . .  Loading Estimator\n",
              "Estimator  . . . . . . . . . . . . . . . . . .  Linear Regression"
            ]
          },
          "metadata": {},
          "output_type": "display_data"
        },
        {
          "data": {
            "text/html": [
              "<style type=\"text/css\">\n",
              "#T_1ded0 th {\n",
              "  text-align: left;\n",
              "}\n",
              "#T_1ded0_row0_col0, #T_1ded0_row0_col1, #T_1ded0_row0_col2, #T_1ded0_row0_col3, #T_1ded0_row0_col6, #T_1ded0_row1_col0, #T_1ded0_row1_col1, #T_1ded0_row1_col4, #T_1ded0_row1_col5, #T_1ded0_row1_col6, #T_1ded0_row2_col0, #T_1ded0_row2_col1, #T_1ded0_row2_col2, #T_1ded0_row2_col3, #T_1ded0_row2_col4, #T_1ded0_row2_col5, #T_1ded0_row2_col6, #T_1ded0_row3_col0, #T_1ded0_row3_col1, #T_1ded0_row3_col2, #T_1ded0_row3_col3, #T_1ded0_row3_col4, #T_1ded0_row3_col5, #T_1ded0_row3_col6, #T_1ded0_row4_col0, #T_1ded0_row4_col2, #T_1ded0_row4_col3, #T_1ded0_row4_col4, #T_1ded0_row4_col5, #T_1ded0_row5_col0, #T_1ded0_row5_col1, #T_1ded0_row5_col2, #T_1ded0_row5_col3, #T_1ded0_row5_col4, #T_1ded0_row5_col5, #T_1ded0_row5_col6, #T_1ded0_row6_col0, #T_1ded0_row6_col1, #T_1ded0_row6_col2, #T_1ded0_row6_col3, #T_1ded0_row6_col4, #T_1ded0_row6_col5, #T_1ded0_row6_col6, #T_1ded0_row7_col0, #T_1ded0_row7_col1, #T_1ded0_row7_col2, #T_1ded0_row7_col3, #T_1ded0_row7_col4, #T_1ded0_row7_col5, #T_1ded0_row7_col6, #T_1ded0_row8_col0, #T_1ded0_row8_col1, #T_1ded0_row8_col2, #T_1ded0_row8_col3, #T_1ded0_row8_col4, #T_1ded0_row8_col5, #T_1ded0_row8_col6, #T_1ded0_row9_col0, #T_1ded0_row9_col1, #T_1ded0_row9_col2, #T_1ded0_row9_col3, #T_1ded0_row9_col4, #T_1ded0_row9_col5, #T_1ded0_row9_col6, #T_1ded0_row10_col0, #T_1ded0_row10_col1, #T_1ded0_row10_col2, #T_1ded0_row10_col3, #T_1ded0_row10_col4, #T_1ded0_row10_col5, #T_1ded0_row10_col6, #T_1ded0_row11_col0, #T_1ded0_row11_col1, #T_1ded0_row11_col2, #T_1ded0_row11_col3, #T_1ded0_row11_col4, #T_1ded0_row11_col5, #T_1ded0_row11_col6, #T_1ded0_row12_col0, #T_1ded0_row12_col1, #T_1ded0_row12_col2, #T_1ded0_row12_col3, #T_1ded0_row12_col4, #T_1ded0_row12_col5, #T_1ded0_row12_col6, #T_1ded0_row13_col0, #T_1ded0_row13_col1, #T_1ded0_row13_col2, #T_1ded0_row13_col3, #T_1ded0_row13_col4, #T_1ded0_row13_col5, #T_1ded0_row13_col6, #T_1ded0_row14_col0, #T_1ded0_row14_col1, #T_1ded0_row14_col2, #T_1ded0_row14_col3, #T_1ded0_row14_col4, #T_1ded0_row14_col5, #T_1ded0_row14_col6, #T_1ded0_row15_col0, #T_1ded0_row15_col1, #T_1ded0_row15_col2, #T_1ded0_row15_col3, #T_1ded0_row15_col4, #T_1ded0_row15_col5, #T_1ded0_row15_col6, #T_1ded0_row16_col0, #T_1ded0_row16_col1, #T_1ded0_row16_col2, #T_1ded0_row16_col3, #T_1ded0_row16_col4, #T_1ded0_row16_col5, #T_1ded0_row16_col6, #T_1ded0_row17_col0, #T_1ded0_row17_col1, #T_1ded0_row17_col2, #T_1ded0_row17_col3, #T_1ded0_row17_col4, #T_1ded0_row17_col5, #T_1ded0_row17_col6, #T_1ded0_row18_col0, #T_1ded0_row18_col1, #T_1ded0_row18_col2, #T_1ded0_row18_col3, #T_1ded0_row18_col4, #T_1ded0_row18_col5, #T_1ded0_row18_col6 {\n",
              "  text-align: left;\n",
              "}\n",
              "#T_1ded0_row0_col4, #T_1ded0_row0_col5, #T_1ded0_row1_col2, #T_1ded0_row1_col3, #T_1ded0_row4_col1, #T_1ded0_row4_col6 {\n",
              "  text-align: left;\n",
              "  background-color: yellow;\n",
              "}\n",
              "#T_1ded0_row0_col7, #T_1ded0_row1_col7, #T_1ded0_row2_col7, #T_1ded0_row3_col7, #T_1ded0_row4_col7, #T_1ded0_row5_col7, #T_1ded0_row6_col7, #T_1ded0_row7_col7, #T_1ded0_row8_col7, #T_1ded0_row9_col7, #T_1ded0_row10_col7, #T_1ded0_row11_col7, #T_1ded0_row12_col7, #T_1ded0_row13_col7, #T_1ded0_row14_col7, #T_1ded0_row16_col7, #T_1ded0_row17_col7, #T_1ded0_row18_col7 {\n",
              "  text-align: left;\n",
              "  background-color: lightgrey;\n",
              "}\n",
              "#T_1ded0_row15_col7 {\n",
              "  text-align: left;\n",
              "  background-color: yellow;\n",
              "  background-color: lightgrey;\n",
              "}\n",
              "</style>\n",
              "<table id=\"T_1ded0\">\n",
              "  <thead>\n",
              "    <tr>\n",
              "      <th class=\"blank level0\" >&nbsp;</th>\n",
              "      <th id=\"T_1ded0_level0_col0\" class=\"col_heading level0 col0\" >Model</th>\n",
              "      <th id=\"T_1ded0_level0_col1\" class=\"col_heading level0 col1\" >MAE</th>\n",
              "      <th id=\"T_1ded0_level0_col2\" class=\"col_heading level0 col2\" >MSE</th>\n",
              "      <th id=\"T_1ded0_level0_col3\" class=\"col_heading level0 col3\" >RMSE</th>\n",
              "      <th id=\"T_1ded0_level0_col4\" class=\"col_heading level0 col4\" >R2</th>\n",
              "      <th id=\"T_1ded0_level0_col5\" class=\"col_heading level0 col5\" >RMSLE</th>\n",
              "      <th id=\"T_1ded0_level0_col6\" class=\"col_heading level0 col6\" >MAPE</th>\n",
              "      <th id=\"T_1ded0_level0_col7\" class=\"col_heading level0 col7\" >TT (Sec)</th>\n",
              "    </tr>\n",
              "  </thead>\n",
              "  <tbody>\n",
              "    <tr>\n",
              "      <th id=\"T_1ded0_level0_row0\" class=\"row_heading level0 row0\" >gbr</th>\n",
              "      <td id=\"T_1ded0_row0_col0\" class=\"data row0 col0\" >Gradient Boosting Regressor</td>\n",
              "      <td id=\"T_1ded0_row0_col1\" class=\"data row0 col1\" >328.0190</td>\n",
              "      <td id=\"T_1ded0_row0_col2\" class=\"data row0 col2\" >232197.4455</td>\n",
              "      <td id=\"T_1ded0_row0_col3\" class=\"data row0 col3\" >476.3662</td>\n",
              "      <td id=\"T_1ded0_row0_col4\" class=\"data row0 col4\" >0.9616</td>\n",
              "      <td id=\"T_1ded0_row0_col5\" class=\"data row0 col5\" >0.0972</td>\n",
              "      <td id=\"T_1ded0_row0_col6\" class=\"data row0 col6\" >0.0729</td>\n",
              "      <td id=\"T_1ded0_row0_col7\" class=\"data row0 col7\" >0.1090</td>\n",
              "    </tr>\n",
              "    <tr>\n",
              "      <th id=\"T_1ded0_level0_row1\" class=\"row_heading level0 row1\" >lightgbm</th>\n",
              "      <td id=\"T_1ded0_row1_col0\" class=\"data row1 col0\" >Light Gradient Boosting Machine</td>\n",
              "      <td id=\"T_1ded0_row1_col1\" class=\"data row1 col1\" >330.2177</td>\n",
              "      <td id=\"T_1ded0_row1_col2\" class=\"data row1 col2\" >231067.3866</td>\n",
              "      <td id=\"T_1ded0_row1_col3\" class=\"data row1 col3\" >475.9762</td>\n",
              "      <td id=\"T_1ded0_row1_col4\" class=\"data row1 col4\" >0.9614</td>\n",
              "      <td id=\"T_1ded0_row1_col5\" class=\"data row1 col5\" >0.0988</td>\n",
              "      <td id=\"T_1ded0_row1_col6\" class=\"data row1 col6\" >0.0747</td>\n",
              "      <td id=\"T_1ded0_row1_col7\" class=\"data row1 col7\" >0.0950</td>\n",
              "    </tr>\n",
              "    <tr>\n",
              "      <th id=\"T_1ded0_level0_row2\" class=\"row_heading level0 row2\" >lasso</th>\n",
              "      <td id=\"T_1ded0_row2_col0\" class=\"data row2 col0\" >Lasso Regression</td>\n",
              "      <td id=\"T_1ded0_row2_col1\" class=\"data row2 col1\" >384.8438</td>\n",
              "      <td id=\"T_1ded0_row2_col2\" class=\"data row2 col2\" >247079.2453</td>\n",
              "      <td id=\"T_1ded0_row2_col3\" class=\"data row2 col3\" >492.6119</td>\n",
              "      <td id=\"T_1ded0_row2_col4\" class=\"data row2 col4\" >0.9589</td>\n",
              "      <td id=\"T_1ded0_row2_col5\" class=\"data row2 col5\" >0.1135</td>\n",
              "      <td id=\"T_1ded0_row2_col6\" class=\"data row2 col6\" >0.0922</td>\n",
              "      <td id=\"T_1ded0_row2_col7\" class=\"data row2 col7\" >0.3260</td>\n",
              "    </tr>\n",
              "    <tr>\n",
              "      <th id=\"T_1ded0_level0_row3\" class=\"row_heading level0 row3\" >en</th>\n",
              "      <td id=\"T_1ded0_row3_col0\" class=\"data row3 col0\" >Elastic Net</td>\n",
              "      <td id=\"T_1ded0_row3_col1\" class=\"data row3 col1\" >386.4239</td>\n",
              "      <td id=\"T_1ded0_row3_col2\" class=\"data row3 col2\" >248913.2438</td>\n",
              "      <td id=\"T_1ded0_row3_col3\" class=\"data row3 col3\" >494.5668</td>\n",
              "      <td id=\"T_1ded0_row3_col4\" class=\"data row3 col4\" >0.9587</td>\n",
              "      <td id=\"T_1ded0_row3_col5\" class=\"data row3 col5\" >0.1172</td>\n",
              "      <td id=\"T_1ded0_row3_col6\" class=\"data row3 col6\" >0.0934</td>\n",
              "      <td id=\"T_1ded0_row3_col7\" class=\"data row3 col7\" >0.0250</td>\n",
              "    </tr>\n",
              "    <tr>\n",
              "      <th id=\"T_1ded0_level0_row4\" class=\"row_heading level0 row4\" >rf</th>\n",
              "      <td id=\"T_1ded0_row4_col0\" class=\"data row4 col0\" >Random Forest Regressor</td>\n",
              "      <td id=\"T_1ded0_row4_col1\" class=\"data row4 col1\" >325.6559</td>\n",
              "      <td id=\"T_1ded0_row4_col2\" class=\"data row4 col2\" >253844.2913</td>\n",
              "      <td id=\"T_1ded0_row4_col3\" class=\"data row4 col3\" >500.2199</td>\n",
              "      <td id=\"T_1ded0_row4_col4\" class=\"data row4 col4\" >0.9586</td>\n",
              "      <td id=\"T_1ded0_row4_col5\" class=\"data row4 col5\" >0.0978</td>\n",
              "      <td id=\"T_1ded0_row4_col6\" class=\"data row4 col6\" >0.0698</td>\n",
              "      <td id=\"T_1ded0_row4_col7\" class=\"data row4 col7\" >0.1820</td>\n",
              "    </tr>\n",
              "    <tr>\n",
              "      <th id=\"T_1ded0_level0_row5\" class=\"row_heading level0 row5\" >catboost</th>\n",
              "      <td id=\"T_1ded0_row5_col0\" class=\"data row5 col0\" >CatBoost Regressor</td>\n",
              "      <td id=\"T_1ded0_row5_col1\" class=\"data row5 col1\" >332.3835</td>\n",
              "      <td id=\"T_1ded0_row5_col2\" class=\"data row5 col2\" >254575.2711</td>\n",
              "      <td id=\"T_1ded0_row5_col3\" class=\"data row5 col3\" >500.2000</td>\n",
              "      <td id=\"T_1ded0_row5_col4\" class=\"data row5 col4\" >0.9579</td>\n",
              "      <td id=\"T_1ded0_row5_col5\" class=\"data row5 col5\" >0.1019</td>\n",
              "      <td id=\"T_1ded0_row5_col6\" class=\"data row5 col6\" >0.0746</td>\n",
              "      <td id=\"T_1ded0_row5_col7\" class=\"data row5 col7\" >1.1240</td>\n",
              "    </tr>\n",
              "    <tr>\n",
              "      <th id=\"T_1ded0_level0_row6\" class=\"row_heading level0 row6\" >llar</th>\n",
              "      <td id=\"T_1ded0_row6_col0\" class=\"data row6 col0\" >Lasso Least Angle Regression</td>\n",
              "      <td id=\"T_1ded0_row6_col1\" class=\"data row6 col1\" >379.8804</td>\n",
              "      <td id=\"T_1ded0_row6_col2\" class=\"data row6 col2\" >254260.7359</td>\n",
              "      <td id=\"T_1ded0_row6_col3\" class=\"data row6 col3\" >499.2735</td>\n",
              "      <td id=\"T_1ded0_row6_col4\" class=\"data row6 col4\" >0.9574</td>\n",
              "      <td id=\"T_1ded0_row6_col5\" class=\"data row6 col5\" >0.1084</td>\n",
              "      <td id=\"T_1ded0_row6_col6\" class=\"data row6 col6\" >0.0860</td>\n",
              "      <td id=\"T_1ded0_row6_col7\" class=\"data row6 col7\" >0.0300</td>\n",
              "    </tr>\n",
              "    <tr>\n",
              "      <th id=\"T_1ded0_level0_row7\" class=\"row_heading level0 row7\" >omp</th>\n",
              "      <td id=\"T_1ded0_row7_col0\" class=\"data row7 col0\" >Orthogonal Matching Pursuit</td>\n",
              "      <td id=\"T_1ded0_row7_col1\" class=\"data row7 col1\" >381.3133</td>\n",
              "      <td id=\"T_1ded0_row7_col2\" class=\"data row7 col2\" >259550.6641</td>\n",
              "      <td id=\"T_1ded0_row7_col3\" class=\"data row7 col3\" >505.0152</td>\n",
              "      <td id=\"T_1ded0_row7_col4\" class=\"data row7 col4\" >0.9560</td>\n",
              "      <td id=\"T_1ded0_row7_col5\" class=\"data row7 col5\" >0.1103</td>\n",
              "      <td id=\"T_1ded0_row7_col6\" class=\"data row7 col6\" >0.0888</td>\n",
              "      <td id=\"T_1ded0_row7_col7\" class=\"data row7 col7\" >0.0280</td>\n",
              "    </tr>\n",
              "    <tr>\n",
              "      <th id=\"T_1ded0_level0_row8\" class=\"row_heading level0 row8\" >lr</th>\n",
              "      <td id=\"T_1ded0_row8_col0\" class=\"data row8 col0\" >Linear Regression</td>\n",
              "      <td id=\"T_1ded0_row8_col1\" class=\"data row8 col1\" >388.0120</td>\n",
              "      <td id=\"T_1ded0_row8_col2\" class=\"data row8 col2\" >267812.4344</td>\n",
              "      <td id=\"T_1ded0_row8_col3\" class=\"data row8 col3\" >513.0640</td>\n",
              "      <td id=\"T_1ded0_row8_col4\" class=\"data row8 col4\" >0.9552</td>\n",
              "      <td id=\"T_1ded0_row8_col5\" class=\"data row8 col5\" >0.1131</td>\n",
              "      <td id=\"T_1ded0_row8_col6\" class=\"data row8 col6\" >0.0901</td>\n",
              "      <td id=\"T_1ded0_row8_col7\" class=\"data row8 col7\" >0.8270</td>\n",
              "    </tr>\n",
              "    <tr>\n",
              "      <th id=\"T_1ded0_level0_row9\" class=\"row_heading level0 row9\" >ada</th>\n",
              "      <td id=\"T_1ded0_row9_col0\" class=\"data row9 col0\" >AdaBoost Regressor</td>\n",
              "      <td id=\"T_1ded0_row9_col1\" class=\"data row9 col1\" >409.4337</td>\n",
              "      <td id=\"T_1ded0_row9_col2\" class=\"data row9 col2\" >273027.3867</td>\n",
              "      <td id=\"T_1ded0_row9_col3\" class=\"data row9 col3\" >518.1395</td>\n",
              "      <td id=\"T_1ded0_row9_col4\" class=\"data row9 col4\" >0.9549</td>\n",
              "      <td id=\"T_1ded0_row9_col5\" class=\"data row9 col5\" >0.1184</td>\n",
              "      <td id=\"T_1ded0_row9_col6\" class=\"data row9 col6\" >0.0985</td>\n",
              "      <td id=\"T_1ded0_row9_col7\" class=\"data row9 col7\" >0.0550</td>\n",
              "    </tr>\n",
              "    <tr>\n",
              "      <th id=\"T_1ded0_level0_row10\" class=\"row_heading level0 row10\" >xgboost</th>\n",
              "      <td id=\"T_1ded0_row10_col0\" class=\"data row10 col0\" >Extreme Gradient Boosting</td>\n",
              "      <td id=\"T_1ded0_row10_col1\" class=\"data row10 col1\" >348.5804</td>\n",
              "      <td id=\"T_1ded0_row10_col2\" class=\"data row10 col2\" >291449.9250</td>\n",
              "      <td id=\"T_1ded0_row10_col3\" class=\"data row10 col3\" >536.7678</td>\n",
              "      <td id=\"T_1ded0_row10_col4\" class=\"data row10 col4\" >0.9523</td>\n",
              "      <td id=\"T_1ded0_row10_col5\" class=\"data row10 col5\" >0.1065</td>\n",
              "      <td id=\"T_1ded0_row10_col6\" class=\"data row10 col6\" >0.0761</td>\n",
              "      <td id=\"T_1ded0_row10_col7\" class=\"data row10 col7\" >0.3820</td>\n",
              "    </tr>\n",
              "    <tr>\n",
              "      <th id=\"T_1ded0_level0_row11\" class=\"row_heading level0 row11\" >et</th>\n",
              "      <td id=\"T_1ded0_row11_col0\" class=\"data row11 col0\" >Extra Trees Regressor</td>\n",
              "      <td id=\"T_1ded0_row11_col1\" class=\"data row11 col1\" >353.4722</td>\n",
              "      <td id=\"T_1ded0_row11_col2\" class=\"data row11 col2\" >300820.6804</td>\n",
              "      <td id=\"T_1ded0_row11_col3\" class=\"data row11 col3\" >543.1050</td>\n",
              "      <td id=\"T_1ded0_row11_col4\" class=\"data row11 col4\" >0.9520</td>\n",
              "      <td id=\"T_1ded0_row11_col5\" class=\"data row11 col5\" >0.1078</td>\n",
              "      <td id=\"T_1ded0_row11_col6\" class=\"data row11 col6\" >0.0768</td>\n",
              "      <td id=\"T_1ded0_row11_col7\" class=\"data row11 col7\" >0.1500</td>\n",
              "    </tr>\n",
              "    <tr>\n",
              "      <th id=\"T_1ded0_level0_row12\" class=\"row_heading level0 row12\" >dt</th>\n",
              "      <td id=\"T_1ded0_row12_col0\" class=\"data row12 col0\" >Decision Tree Regressor</td>\n",
              "      <td id=\"T_1ded0_row12_col1\" class=\"data row12 col1\" >354.0039</td>\n",
              "      <td id=\"T_1ded0_row12_col2\" class=\"data row12 col2\" >293246.8516</td>\n",
              "      <td id=\"T_1ded0_row12_col3\" class=\"data row12 col3\" >535.8599</td>\n",
              "      <td id=\"T_1ded0_row12_col4\" class=\"data row12 col4\" >0.9498</td>\n",
              "      <td id=\"T_1ded0_row12_col5\" class=\"data row12 col5\" >0.1081</td>\n",
              "      <td id=\"T_1ded0_row12_col6\" class=\"data row12 col6\" >0.0777</td>\n",
              "      <td id=\"T_1ded0_row12_col7\" class=\"data row12 col7\" >0.0190</td>\n",
              "    </tr>\n",
              "    <tr>\n",
              "      <th id=\"T_1ded0_level0_row13\" class=\"row_heading level0 row13\" >ridge</th>\n",
              "      <td id=\"T_1ded0_row13_col0\" class=\"data row13 col0\" >Ridge Regression</td>\n",
              "      <td id=\"T_1ded0_row13_col1\" class=\"data row13 col1\" >574.2025</td>\n",
              "      <td id=\"T_1ded0_row13_col2\" class=\"data row13 col2\" >563008.2516</td>\n",
              "      <td id=\"T_1ded0_row13_col3\" class=\"data row13 col3\" >691.0924</td>\n",
              "      <td id=\"T_1ded0_row13_col4\" class=\"data row13 col4\" >0.8973</td>\n",
              "      <td id=\"T_1ded0_row13_col5\" class=\"data row13 col5\" >0.3173</td>\n",
              "      <td id=\"T_1ded0_row13_col6\" class=\"data row13 col6\" >0.1661</td>\n",
              "      <td id=\"T_1ded0_row13_col7\" class=\"data row13 col7\" >0.0220</td>\n",
              "    </tr>\n",
              "    <tr>\n",
              "      <th id=\"T_1ded0_level0_row14\" class=\"row_heading level0 row14\" >huber</th>\n",
              "      <td id=\"T_1ded0_row14_col0\" class=\"data row14 col0\" >Huber Regressor</td>\n",
              "      <td id=\"T_1ded0_row14_col1\" class=\"data row14 col1\" >908.9305</td>\n",
              "      <td id=\"T_1ded0_row14_col2\" class=\"data row14 col2\" >1978315.2770</td>\n",
              "      <td id=\"T_1ded0_row14_col3\" class=\"data row14 col3\" >1369.8325</td>\n",
              "      <td id=\"T_1ded0_row14_col4\" class=\"data row14 col4\" >0.6897</td>\n",
              "      <td id=\"T_1ded0_row14_col5\" class=\"data row14 col5\" >0.3502</td>\n",
              "      <td id=\"T_1ded0_row14_col6\" class=\"data row14 col6\" >0.2993</td>\n",
              "      <td id=\"T_1ded0_row14_col7\" class=\"data row14 col7\" >0.0730</td>\n",
              "    </tr>\n",
              "    <tr>\n",
              "      <th id=\"T_1ded0_level0_row15\" class=\"row_heading level0 row15\" >dummy</th>\n",
              "      <td id=\"T_1ded0_row15_col0\" class=\"data row15 col0\" >Dummy Regressor</td>\n",
              "      <td id=\"T_1ded0_row15_col1\" class=\"data row15 col1\" >2026.3659</td>\n",
              "      <td id=\"T_1ded0_row15_col2\" class=\"data row15 col2\" >7328814.0250</td>\n",
              "      <td id=\"T_1ded0_row15_col3\" class=\"data row15 col3\" >2663.6841</td>\n",
              "      <td id=\"T_1ded0_row15_col4\" class=\"data row15 col4\" >-0.0396</td>\n",
              "      <td id=\"T_1ded0_row15_col5\" class=\"data row15 col5\" >0.6912</td>\n",
              "      <td id=\"T_1ded0_row15_col6\" class=\"data row15 col6\" >0.8128</td>\n",
              "      <td id=\"T_1ded0_row15_col7\" class=\"data row15 col7\" >0.0180</td>\n",
              "    </tr>\n",
              "    <tr>\n",
              "      <th id=\"T_1ded0_level0_row16\" class=\"row_heading level0 row16\" >par</th>\n",
              "      <td id=\"T_1ded0_row16_col0\" class=\"data row16 col0\" >Passive Aggressive Regressor</td>\n",
              "      <td id=\"T_1ded0_row16_col1\" class=\"data row16 col1\" >2563.2603</td>\n",
              "      <td id=\"T_1ded0_row16_col2\" class=\"data row16 col2\" >11145345.3602</td>\n",
              "      <td id=\"T_1ded0_row16_col3\" class=\"data row16 col3\" >3197.4483</td>\n",
              "      <td id=\"T_1ded0_row16_col4\" class=\"data row16 col4\" >-1.1149</td>\n",
              "      <td id=\"T_1ded0_row16_col5\" class=\"data row16 col5\" >0.7947</td>\n",
              "      <td id=\"T_1ded0_row16_col6\" class=\"data row16 col6\" >0.9396</td>\n",
              "      <td id=\"T_1ded0_row16_col7\" class=\"data row16 col7\" >0.0250</td>\n",
              "    </tr>\n",
              "    <tr>\n",
              "      <th id=\"T_1ded0_level0_row17\" class=\"row_heading level0 row17\" >br</th>\n",
              "      <td id=\"T_1ded0_row17_col0\" class=\"data row17 col0\" >Bayesian Ridge</td>\n",
              "      <td id=\"T_1ded0_row17_col1\" class=\"data row17 col1\" >3465.9092</td>\n",
              "      <td id=\"T_1ded0_row17_col2\" class=\"data row17 col2\" >24367850.5250</td>\n",
              "      <td id=\"T_1ded0_row17_col3\" class=\"data row17 col3\" >4486.7753</td>\n",
              "      <td id=\"T_1ded0_row17_col4\" class=\"data row17 col4\" >-2.7231</td>\n",
              "      <td id=\"T_1ded0_row17_col5\" class=\"data row17 col5\" >0.8743</td>\n",
              "      <td id=\"T_1ded0_row17_col6\" class=\"data row17 col6\" >1.0514</td>\n",
              "      <td id=\"T_1ded0_row17_col7\" class=\"data row17 col7\" >0.0700</td>\n",
              "    </tr>\n",
              "    <tr>\n",
              "      <th id=\"T_1ded0_level0_row18\" class=\"row_heading level0 row18\" >lar</th>\n",
              "      <td id=\"T_1ded0_row18_col0\" class=\"data row18 col0\" >Least Angle Regression</td>\n",
              "      <td id=\"T_1ded0_row18_col1\" class=\"data row18 col1\" >9275839551296562528256.0000</td>\n",
              "      <td id=\"T_1ded0_row18_col2\" class=\"data row18 col2\" >inf</td>\n",
              "      <td id=\"T_1ded0_row18_col3\" class=\"data row18 col3\" >inf</td>\n",
              "      <td id=\"T_1ded0_row18_col4\" class=\"data row18 col4\" >-inf</td>\n",
              "      <td id=\"T_1ded0_row18_col5\" class=\"data row18 col5\" >40.8169</td>\n",
              "      <td id=\"T_1ded0_row18_col6\" class=\"data row18 col6\" >3455433217785672704.0000</td>\n",
              "      <td id=\"T_1ded0_row18_col7\" class=\"data row18 col7\" >0.0280</td>\n",
              "    </tr>\n",
              "  </tbody>\n",
              "</table>\n"
            ],
            "text/plain": [
              "<pandas.io.formats.style.Styler at 0x1d6363c6160>"
            ]
          },
          "metadata": {},
          "output_type": "display_data"
        }
      ],
      "source": [
        "best = compare_models()"
      ]
    },
    {
      "attachments": {},
      "cell_type": "markdown",
      "metadata": {},
      "source": [
        "## Investigando Lasso"
      ]
    },
    {
      "cell_type": "code",
      "execution_count": 7,
      "metadata": {},
      "outputs": [
        {
          "data": {
            "text/html": [
              "<style>#sk-container-id-1 {color: black;background-color: white;}#sk-container-id-1 pre{padding: 0;}#sk-container-id-1 div.sk-toggleable {background-color: white;}#sk-container-id-1 label.sk-toggleable__label {cursor: pointer;display: block;width: 100%;margin-bottom: 0;padding: 0.3em;box-sizing: border-box;text-align: center;}#sk-container-id-1 label.sk-toggleable__label-arrow:before {content: \"▸\";float: left;margin-right: 0.25em;color: #696969;}#sk-container-id-1 label.sk-toggleable__label-arrow:hover:before {color: black;}#sk-container-id-1 div.sk-estimator:hover label.sk-toggleable__label-arrow:before {color: black;}#sk-container-id-1 div.sk-toggleable__content {max-height: 0;max-width: 0;overflow: hidden;text-align: left;background-color: #f0f8ff;}#sk-container-id-1 div.sk-toggleable__content pre {margin: 0.2em;color: black;border-radius: 0.25em;background-color: #f0f8ff;}#sk-container-id-1 input.sk-toggleable__control:checked~div.sk-toggleable__content {max-height: 200px;max-width: 100%;overflow: auto;}#sk-container-id-1 input.sk-toggleable__control:checked~label.sk-toggleable__label-arrow:before {content: \"▾\";}#sk-container-id-1 div.sk-estimator input.sk-toggleable__control:checked~label.sk-toggleable__label {background-color: #d4ebff;}#sk-container-id-1 div.sk-label input.sk-toggleable__control:checked~label.sk-toggleable__label {background-color: #d4ebff;}#sk-container-id-1 input.sk-hidden--visually {border: 0;clip: rect(1px 1px 1px 1px);clip: rect(1px, 1px, 1px, 1px);height: 1px;margin: -1px;overflow: hidden;padding: 0;position: absolute;width: 1px;}#sk-container-id-1 div.sk-estimator {font-family: monospace;background-color: #f0f8ff;border: 1px dotted black;border-radius: 0.25em;box-sizing: border-box;margin-bottom: 0.5em;}#sk-container-id-1 div.sk-estimator:hover {background-color: #d4ebff;}#sk-container-id-1 div.sk-parallel-item::after {content: \"\";width: 100%;border-bottom: 1px solid gray;flex-grow: 1;}#sk-container-id-1 div.sk-label:hover label.sk-toggleable__label {background-color: #d4ebff;}#sk-container-id-1 div.sk-serial::before {content: \"\";position: absolute;border-left: 1px solid gray;box-sizing: border-box;top: 0;bottom: 0;left: 50%;z-index: 0;}#sk-container-id-1 div.sk-serial {display: flex;flex-direction: column;align-items: center;background-color: white;padding-right: 0.2em;padding-left: 0.2em;position: relative;}#sk-container-id-1 div.sk-item {position: relative;z-index: 1;}#sk-container-id-1 div.sk-parallel {display: flex;align-items: stretch;justify-content: center;background-color: white;position: relative;}#sk-container-id-1 div.sk-item::before, #sk-container-id-1 div.sk-parallel-item::before {content: \"\";position: absolute;border-left: 1px solid gray;box-sizing: border-box;top: 0;bottom: 0;left: 50%;z-index: -1;}#sk-container-id-1 div.sk-parallel-item {display: flex;flex-direction: column;z-index: 1;position: relative;background-color: white;}#sk-container-id-1 div.sk-parallel-item:first-child::after {align-self: flex-end;width: 50%;}#sk-container-id-1 div.sk-parallel-item:last-child::after {align-self: flex-start;width: 50%;}#sk-container-id-1 div.sk-parallel-item:only-child::after {width: 0;}#sk-container-id-1 div.sk-dashed-wrapped {border: 1px dashed gray;margin: 0 0.4em 0.5em 0.4em;box-sizing: border-box;padding-bottom: 0.4em;background-color: white;}#sk-container-id-1 div.sk-label label {font-family: monospace;font-weight: bold;display: inline-block;line-height: 1.2em;}#sk-container-id-1 div.sk-label-container {text-align: center;}#sk-container-id-1 div.sk-container {/* jupyter's `normalize.less` sets `[hidden] { display: none; }` but bootstrap.min.css set `[hidden] { display: none !important; }` so we also need the `!important` here to be able to override the default hidden behavior on the sphinx rendered scikit-learn.org. See: https://github.com/scikit-learn/scikit-learn/issues/21755 */display: inline-block !important;position: relative;}#sk-container-id-1 div.sk-text-repr-fallback {display: none;}</style><div id=\"sk-container-id-1\" class=\"sk-top-container\"><div class=\"sk-text-repr-fallback\"><pre>Lasso(random_state=4949)</pre><b>In a Jupyter environment, please rerun this cell to show the HTML representation or trust the notebook. <br />On GitHub, the HTML representation is unable to render, please try loading this page with nbviewer.org.</b></div><div class=\"sk-container\" hidden><div class=\"sk-item\"><div class=\"sk-estimator sk-toggleable\"><input class=\"sk-toggleable__control sk-hidden--visually\" id=\"sk-estimator-id-1\" type=\"checkbox\" checked><label for=\"sk-estimator-id-1\" class=\"sk-toggleable__label sk-toggleable__label-arrow\">Lasso</label><div class=\"sk-toggleable__content\"><pre>Lasso(random_state=4949)</pre></div></div></div></div></div>"
            ],
            "text/plain": [
              "Lasso(random_state=4949)"
            ]
          },
          "execution_count": 7,
          "metadata": {},
          "output_type": "execute_result"
        }
      ],
      "source": [
        "lasso=create_model(\"lasso\")\n",
        "lasso"
      ]
    },
    {
      "cell_type": "code",
      "execution_count": 10,
      "metadata": {},
      "outputs": [
        {
          "name": "stdout",
          "output_type": "stream",
          "text": [
            "A : 7.1817\n",
            "B : 2.0690\n",
            "depth*vc : 0.7248\n",
            "depth*A : 0.1497\n",
            "depth*B : 0.6022\n",
            "vc*rake_angle : 0.0024\n",
            "vc*clearance_angle : 0.1767\n",
            "vc*C : 0.0934\n",
            "vc*n : 0.3659\n",
            "vc*m : 0.1028\n",
            "rake_angle^2 : 2.8130\n",
            "rake_angle*A : 0.0385\n",
            "rake_angle*C : 772.3182\n",
            "rake_angle*poisson_coef : 34.8144\n",
            "clearance_angle*A : 0.1279\n",
            "clearance_angle*B : 0.1429\n",
            "A*n : 0.6142\n",
            "A*m : 0.4780\n",
            "B*n : 0.5485\n",
            "B*m : 2.0684\n"
          ]
        }
      ],
      "source": [
        "for feature_name, weight in zip(lasso.feature_names_in_,lasso.coef_):\n",
        "    if weight >0.0001:\n",
        "        print(\"{} : {:.4f}\".format(feature_name.replace(\" \",\"*\"),weight))"
      ]
    },
    {
      "cell_type": "code",
      "execution_count": 9,
      "metadata": {},
      "outputs": [
        {
          "data": {
            "image/png": "[encoded data removed]",
            "text/plain": [
              "<Figure size 700x600 with 1 Axes>"
            ]
          },
          "metadata": {
            "needs_background": "light"
          },
          "output_type": "display_data"
        }
      ],
      "source": [
        "plot_model(lasso,\"pipeline\")"
      ]
    },
    {
      "cell_type": "code",
      "execution_count": 29,
      "metadata": {},
      "outputs": [
        {
          "data": {
            "text/html": [],
            "text/plain": [
              "<IPython.core.display.HTML object>"
            ]
          },
          "metadata": {},
          "output_type": "display_data"
        },
        {
          "data": {
            "image/png": "[encoded data removed]",
            "text/plain": [
              "<Figure size 432x288 with 2 Axes>"
            ]
          },
          "metadata": {
            "needs_background": "light"
          },
          "output_type": "display_data"
        }
      ],
      "source": [
        "plot_model(lasso, plot='residuals')"
      ]
    },
    {
      "cell_type": "code",
      "execution_count": 30,
      "metadata": {},
      "outputs": [
        {
          "data": {
            "text/html": [],
            "text/plain": [
              "<IPython.core.display.HTML object>"
            ]
          },
          "metadata": {},
          "output_type": "display_data"
        },
        {
          "data": {
            "image/png": "[encoded data removed]",
            "text/plain": [
              "<Figure size 432x288 with 1 Axes>"
            ]
          },
          "metadata": {
            "needs_background": "light"
          },
          "output_type": "display_data"
        }
      ],
      "source": [
        "plot_model(lasso, plot='error')"
      ]
    },
    {
      "cell_type": "code",
      "execution_count": 31,
      "metadata": {},
      "outputs": [
        {
          "data": {
            "text/html": [],
            "text/plain": [
              "<IPython.core.display.HTML object>"
            ]
          },
          "metadata": {},
          "output_type": "display_data"
        },
        {
          "data": {
            "image/png": "[encoded data removed]",
            "text/plain": [
              "<Figure size 432x288 with 1 Axes>"
            ]
          },
          "metadata": {
            "needs_background": "light"
          },
          "output_type": "display_data"
        }
      ],
      "source": [
        "plot_model(lasso, plot='learning')"
      ]
    },
    {
      "cell_type": "code",
      "execution_count": 32,
      "metadata": {},
      "outputs": [
        {
          "data": {
            "text/html": [],
            "text/plain": [
              "<IPython.core.display.HTML object>"
            ]
          },
          "metadata": {},
          "output_type": "display_data"
        },
        {
          "data": {
            "image/png": "[encoded data removed]",
            "text/plain": [
              "<Figure size 432x288 with 1 Axes>"
            ]
          },
          "metadata": {
            "needs_background": "light"
          },
          "output_type": "display_data"
        }
      ],
      "source": [
        "plot_model(lasso, plot='vc')"
      ]
    },
    {
      "cell_type": "code",
      "execution_count": 33,
      "metadata": {},
      "outputs": [
        {
          "data": {
            "text/html": [],
            "text/plain": [
              "<IPython.core.display.HTML object>"
            ]
          },
          "metadata": {},
          "output_type": "display_data"
        },
        {
          "data": {
            "image/png": "[encoded data removed]",
            "text/plain": [
              "<Figure size 800x500 with 1 Axes>"
            ]
          },
          "metadata": {
            "needs_background": "light"
          },
          "output_type": "display_data"
        }
      ],
      "source": [
        "plot_model(lasso, plot='feature')"
      ]
    },
    {
      "cell_type": "code",
      "execution_count": 34,
      "metadata": {},
      "outputs": [
        {
          "name": "stdout",
          "output_type": "stream",
          "text": [
            "Transformation Pipeline and Model Successfully Saved\n"
          ]
        },
        {
          "data": {
            "text/plain": [
              "(Pipeline(memory=FastMemory(location=C:\\Users\\99823827\\AppData\\Local\\Temp\\joblib),\n",
              "          steps=[('polynomial_features',\n",
              "                  TransformerWrapper(transformer=PolynomialFeatures(include_bias=False))),\n",
              "                 ('trained_model', Lasso(random_state=6409))]),\n",
              " 'models/lasso_v0.pkl')"
            ]
          },
          "execution_count": 34,
          "metadata": {},
          "output_type": "execute_result"
        }
      ],
      "source": [
        "save_model(lasso,\"models/lasso_v0\",verbose=True)"
      ]
    },
    {
      "attachments": {},
      "cell_type": "markdown",
      "metadata": {},
      "source": [
        "### investigando estatisticas dos pesos do lasso"
      ]
    },
    {
      "cell_type": "code",
      "execution_count": null,
      "metadata": {},
      "outputs": [],
      "source": []
    },
    {
      "attachments": {},
      "cell_type": "markdown",
      "metadata": {},
      "source": [
        "## Investigando LightGBM"
      ]
    },
    {
      "cell_type": "code",
      "execution_count": 11,
      "metadata": {
        "colab": {
          "base_uri": "https://localhost:8080/",
          "height": 406,
          "referenced_widgets": [
            "ce39a9bab0cc4a229a4c13a9bdd02eca",
            "016b6a61e79646f8b61b890091cf0fc5",
            "c99042d5d1b242268f555b4842c38cfd",
            "fea7ad2c6fa3427783a1abd701bbf981",
            "2560c89001f5408e860e5944b8a3e048",
            "723b9c4e3fb143729d88bbc4ce235fed",
            "0f6a9e1487eb497883d0e0208188c440",
            "491999bc35564d98b73ac10a8ec02c87",
            "c0e42a4b174245569a2ab85f9b0d255c",
            "2452a9f9a5194c27b95ebe6d0ab3b46a",
            "2151ad624fc74029814947816dd9a2db",
            "0bd2715e4a1a40199a769bf4bab0e82f",
            "f3219889b90e4340811f958965b90268",
            "f7c45e8ab2084a12896daf3b9e1faecc",
            "bff895f26b2f47acb063b289f9fa52b8",
            "263587581aac4ed98ef8eee5effa8cdb"
          ]
        },
        "id": "1mBWeBgaBU5L",
        "outputId": "697369d9-ac22-4734-f973-e374f2a12101"
      },
      "outputs": [
        {
          "data": {
            "text/html": [
              "<div>\n",
              "<style scoped>\n",
              "    .dataframe tbody tr th:only-of-type {\n",
              "        vertical-align: middle;\n",
              "    }\n",
              "\n",
              "    .dataframe tbody tr th {\n",
              "        vertical-align: top;\n",
              "    }\n",
              "\n",
              "    .dataframe thead th {\n",
              "        text-align: right;\n",
              "    }\n",
              "</style>\n",
              "<table border=\"1\" class=\"dataframe\">\n",
              "  <thead>\n",
              "    <tr style=\"text-align: right;\">\n",
              "      <th></th>\n",
              "      <th></th>\n",
              "      <th></th>\n",
              "    </tr>\n",
              "    <tr>\n",
              "      <th></th>\n",
              "      <th></th>\n",
              "      <th></th>\n",
              "    </tr>\n",
              "  </thead>\n",
              "  <tbody>\n",
              "    <tr>\n",
              "      <th>Initiated</th>\n",
              "      <td>. . . . . . . . . . . . . . . . . .</td>\n",
              "      <td>16:36:41</td>\n",
              "    </tr>\n",
              "    <tr>\n",
              "      <th>Status</th>\n",
              "      <td>. . . . . . . . . . . . . . . . . .</td>\n",
              "      <td>Fitting 10 Folds</td>\n",
              "    </tr>\n",
              "    <tr>\n",
              "      <th>Estimator</th>\n",
              "      <td>. . . . . . . . . . . . . . . . . .</td>\n",
              "      <td>Light Gradient Boosting Machine</td>\n",
              "    </tr>\n",
              "  </tbody>\n",
              "</table>\n",
              "</div>"
            ],
            "text/plain": [
              "                                                \\\n",
              "                                                 \n",
              "Initiated  . . . . . . . . . . . . . . . . . .   \n",
              "Status     . . . . . . . . . . . . . . . . . .   \n",
              "Estimator  . . . . . . . . . . . . . . . . . .   \n",
              "\n",
              "                                            \n",
              "                                            \n",
              "Initiated                         16:36:41  \n",
              "Status                    Fitting 10 Folds  \n",
              "Estimator  Light Gradient Boosting Machine  "
            ]
          },
          "metadata": {},
          "output_type": "display_data"
        },
        {
          "data": {
            "text/html": [
              "<style type=\"text/css\">\n",
              "#T_ce341_row10_col0, #T_ce341_row10_col1, #T_ce341_row10_col2, #T_ce341_row10_col3, #T_ce341_row10_col4, #T_ce341_row10_col5 {\n",
              "  background: yellow;\n",
              "}\n",
              "</style>\n",
              "<table id=\"T_ce341\">\n",
              "  <thead>\n",
              "    <tr>\n",
              "      <th class=\"blank level0\" >&nbsp;</th>\n",
              "      <th id=\"T_ce341_level0_col0\" class=\"col_heading level0 col0\" >MAE</th>\n",
              "      <th id=\"T_ce341_level0_col1\" class=\"col_heading level0 col1\" >MSE</th>\n",
              "      <th id=\"T_ce341_level0_col2\" class=\"col_heading level0 col2\" >RMSE</th>\n",
              "      <th id=\"T_ce341_level0_col3\" class=\"col_heading level0 col3\" >R2</th>\n",
              "      <th id=\"T_ce341_level0_col4\" class=\"col_heading level0 col4\" >RMSLE</th>\n",
              "      <th id=\"T_ce341_level0_col5\" class=\"col_heading level0 col5\" >MAPE</th>\n",
              "    </tr>\n",
              "    <tr>\n",
              "      <th class=\"index_name level0\" >Fold</th>\n",
              "      <th class=\"blank col0\" >&nbsp;</th>\n",
              "      <th class=\"blank col1\" >&nbsp;</th>\n",
              "      <th class=\"blank col2\" >&nbsp;</th>\n",
              "      <th class=\"blank col3\" >&nbsp;</th>\n",
              "      <th class=\"blank col4\" >&nbsp;</th>\n",
              "      <th class=\"blank col5\" >&nbsp;</th>\n",
              "    </tr>\n",
              "  </thead>\n",
              "  <tbody>\n",
              "    <tr>\n",
              "      <th id=\"T_ce341_level0_row0\" class=\"row_heading level0 row0\" >0</th>\n",
              "      <td id=\"T_ce341_row0_col0\" class=\"data row0 col0\" >345.5918</td>\n",
              "      <td id=\"T_ce341_row0_col1\" class=\"data row0 col1\" >241729.9034</td>\n",
              "      <td id=\"T_ce341_row0_col2\" class=\"data row0 col2\" >491.6604</td>\n",
              "      <td id=\"T_ce341_row0_col3\" class=\"data row0 col3\" >0.9124</td>\n",
              "      <td id=\"T_ce341_row0_col4\" class=\"data row0 col4\" >0.0992</td>\n",
              "      <td id=\"T_ce341_row0_col5\" class=\"data row0 col5\" >0.0744</td>\n",
              "    </tr>\n",
              "    <tr>\n",
              "      <th id=\"T_ce341_level0_row1\" class=\"row_heading level0 row1\" >1</th>\n",
              "      <td id=\"T_ce341_row1_col0\" class=\"data row1 col0\" >380.5299</td>\n",
              "      <td id=\"T_ce341_row1_col1\" class=\"data row1 col1\" >247881.3324</td>\n",
              "      <td id=\"T_ce341_row1_col2\" class=\"data row1 col2\" >497.8768</td>\n",
              "      <td id=\"T_ce341_row1_col3\" class=\"data row1 col3\" >0.9759</td>\n",
              "      <td id=\"T_ce341_row1_col4\" class=\"data row1 col4\" >0.1067</td>\n",
              "      <td id=\"T_ce341_row1_col5\" class=\"data row1 col5\" >0.0854</td>\n",
              "    </tr>\n",
              "    <tr>\n",
              "      <th id=\"T_ce341_level0_row2\" class=\"row_heading level0 row2\" >2</th>\n",
              "      <td id=\"T_ce341_row2_col0\" class=\"data row2 col0\" >308.6391</td>\n",
              "      <td id=\"T_ce341_row2_col1\" class=\"data row2 col1\" >215485.2509</td>\n",
              "      <td id=\"T_ce341_row2_col2\" class=\"data row2 col2\" >464.2039</td>\n",
              "      <td id=\"T_ce341_row2_col3\" class=\"data row2 col3\" >0.9750</td>\n",
              "      <td id=\"T_ce341_row2_col4\" class=\"data row2 col4\" >0.0955</td>\n",
              "      <td id=\"T_ce341_row2_col5\" class=\"data row2 col5\" >0.0660</td>\n",
              "    </tr>\n",
              "    <tr>\n",
              "      <th id=\"T_ce341_level0_row3\" class=\"row_heading level0 row3\" >3</th>\n",
              "      <td id=\"T_ce341_row3_col0\" class=\"data row3 col0\" >334.9931</td>\n",
              "      <td id=\"T_ce341_row3_col1\" class=\"data row3 col1\" >271191.4938</td>\n",
              "      <td id=\"T_ce341_row3_col2\" class=\"data row3 col2\" >520.7605</td>\n",
              "      <td id=\"T_ce341_row3_col3\" class=\"data row3 col3\" >0.9384</td>\n",
              "      <td id=\"T_ce341_row3_col4\" class=\"data row3 col4\" >0.1094</td>\n",
              "      <td id=\"T_ce341_row3_col5\" class=\"data row3 col5\" >0.0809</td>\n",
              "    </tr>\n",
              "    <tr>\n",
              "      <th id=\"T_ce341_level0_row4\" class=\"row_heading level0 row4\" >4</th>\n",
              "      <td id=\"T_ce341_row4_col0\" class=\"data row4 col0\" >341.6036</td>\n",
              "      <td id=\"T_ce341_row4_col1\" class=\"data row4 col1\" >180615.9043</td>\n",
              "      <td id=\"T_ce341_row4_col2\" class=\"data row4 col2\" >424.9893</td>\n",
              "      <td id=\"T_ce341_row4_col3\" class=\"data row4 col3\" >0.9696</td>\n",
              "      <td id=\"T_ce341_row4_col4\" class=\"data row4 col4\" >0.0801</td>\n",
              "      <td id=\"T_ce341_row4_col5\" class=\"data row4 col5\" >0.0645</td>\n",
              "    </tr>\n",
              "    <tr>\n",
              "      <th id=\"T_ce341_level0_row5\" class=\"row_heading level0 row5\" >5</th>\n",
              "      <td id=\"T_ce341_row5_col0\" class=\"data row5 col0\" >262.9066</td>\n",
              "      <td id=\"T_ce341_row5_col1\" class=\"data row5 col1\" >126250.5314</td>\n",
              "      <td id=\"T_ce341_row5_col2\" class=\"data row5 col2\" >355.3175</td>\n",
              "      <td id=\"T_ce341_row5_col3\" class=\"data row5 col3\" >0.9809</td>\n",
              "      <td id=\"T_ce341_row5_col4\" class=\"data row5 col4\" >0.0819</td>\n",
              "      <td id=\"T_ce341_row5_col5\" class=\"data row5 col5\" >0.0669</td>\n",
              "    </tr>\n",
              "    <tr>\n",
              "      <th id=\"T_ce341_level0_row6\" class=\"row_heading level0 row6\" >6</th>\n",
              "      <td id=\"T_ce341_row6_col0\" class=\"data row6 col0\" >327.2852</td>\n",
              "      <td id=\"T_ce341_row6_col1\" class=\"data row6 col1\" >255008.5691</td>\n",
              "      <td id=\"T_ce341_row6_col2\" class=\"data row6 col2\" >504.9837</td>\n",
              "      <td id=\"T_ce341_row6_col3\" class=\"data row6 col3\" >0.9669</td>\n",
              "      <td id=\"T_ce341_row6_col4\" class=\"data row6 col4\" >0.0965</td>\n",
              "      <td id=\"T_ce341_row6_col5\" class=\"data row6 col5\" >0.0763</td>\n",
              "    </tr>\n",
              "    <tr>\n",
              "      <th id=\"T_ce341_level0_row7\" class=\"row_heading level0 row7\" >7</th>\n",
              "      <td id=\"T_ce341_row7_col0\" class=\"data row7 col0\" >260.8577</td>\n",
              "      <td id=\"T_ce341_row7_col1\" class=\"data row7 col1\" >168067.7020</td>\n",
              "      <td id=\"T_ce341_row7_col2\" class=\"data row7 col2\" >409.9606</td>\n",
              "      <td id=\"T_ce341_row7_col3\" class=\"data row7 col3\" >0.9735</td>\n",
              "      <td id=\"T_ce341_row7_col4\" class=\"data row7 col4\" >0.0891</td>\n",
              "      <td id=\"T_ce341_row7_col5\" class=\"data row7 col5\" >0.0613</td>\n",
              "    </tr>\n",
              "    <tr>\n",
              "      <th id=\"T_ce341_level0_row8\" class=\"row_heading level0 row8\" >8</th>\n",
              "      <td id=\"T_ce341_row8_col0\" class=\"data row8 col0\" >414.9414</td>\n",
              "      <td id=\"T_ce341_row8_col1\" class=\"data row8 col1\" >380759.9828</td>\n",
              "      <td id=\"T_ce341_row8_col2\" class=\"data row8 col2\" >617.0575</td>\n",
              "      <td id=\"T_ce341_row8_col3\" class=\"data row8 col3\" >0.9410</td>\n",
              "      <td id=\"T_ce341_row8_col4\" class=\"data row8 col4\" >0.1378</td>\n",
              "      <td id=\"T_ce341_row8_col5\" class=\"data row8 col5\" >0.0983</td>\n",
              "    </tr>\n",
              "    <tr>\n",
              "      <th id=\"T_ce341_level0_row9\" class=\"row_heading level0 row9\" >9</th>\n",
              "      <td id=\"T_ce341_row9_col0\" class=\"data row9 col0\" >324.8287</td>\n",
              "      <td id=\"T_ce341_row9_col1\" class=\"data row9 col1\" >223683.1962</td>\n",
              "      <td id=\"T_ce341_row9_col2\" class=\"data row9 col2\" >472.9516</td>\n",
              "      <td id=\"T_ce341_row9_col3\" class=\"data row9 col3\" >0.9807</td>\n",
              "      <td id=\"T_ce341_row9_col4\" class=\"data row9 col4\" >0.0923</td>\n",
              "      <td id=\"T_ce341_row9_col5\" class=\"data row9 col5\" >0.0728</td>\n",
              "    </tr>\n",
              "    <tr>\n",
              "      <th id=\"T_ce341_level0_row10\" class=\"row_heading level0 row10\" >Mean</th>\n",
              "      <td id=\"T_ce341_row10_col0\" class=\"data row10 col0\" >330.2177</td>\n",
              "      <td id=\"T_ce341_row10_col1\" class=\"data row10 col1\" >231067.3866</td>\n",
              "      <td id=\"T_ce341_row10_col2\" class=\"data row10 col2\" >475.9762</td>\n",
              "      <td id=\"T_ce341_row10_col3\" class=\"data row10 col3\" >0.9614</td>\n",
              "      <td id=\"T_ce341_row10_col4\" class=\"data row10 col4\" >0.0988</td>\n",
              "      <td id=\"T_ce341_row10_col5\" class=\"data row10 col5\" >0.0747</td>\n",
              "    </tr>\n",
              "    <tr>\n",
              "      <th id=\"T_ce341_level0_row11\" class=\"row_heading level0 row11\" >Std</th>\n",
              "      <td id=\"T_ce341_row11_col0\" class=\"data row11 col0\" >44.6577</td>\n",
              "      <td id=\"T_ce341_row11_col1\" class=\"data row11 col1\" >65410.7104</td>\n",
              "      <td id=\"T_ce341_row11_col2\" class=\"data row11 col2\" >67.1868</td>\n",
              "      <td id=\"T_ce341_row11_col3\" class=\"data row11 col3\" >0.0218</td>\n",
              "      <td id=\"T_ce341_row11_col4\" class=\"data row11 col4\" >0.0158</td>\n",
              "      <td id=\"T_ce341_row11_col5\" class=\"data row11 col5\" >0.0107</td>\n",
              "    </tr>\n",
              "  </tbody>\n",
              "</table>\n"
            ],
            "text/plain": [
              "<pandas.io.formats.style.Styler at 0x1d63158bca0>"
            ]
          },
          "metadata": {},
          "output_type": "display_data"
        }
      ],
      "source": [
        "lgbm=create_model(\"lightgbm\")"
      ]
    },
    {
      "cell_type": "code",
      "execution_count": 12,
      "metadata": {},
      "outputs": [
        {
          "data": {
            "text/html": [
              "<style>#sk-container-id-2 {color: black;background-color: white;}#sk-container-id-2 pre{padding: 0;}#sk-container-id-2 div.sk-toggleable {background-color: white;}#sk-container-id-2 label.sk-toggleable__label {cursor: pointer;display: block;width: 100%;margin-bottom: 0;padding: 0.3em;box-sizing: border-box;text-align: center;}#sk-container-id-2 label.sk-toggleable__label-arrow:before {content: \"▸\";float: left;margin-right: 0.25em;color: #696969;}#sk-container-id-2 label.sk-toggleable__label-arrow:hover:before {color: black;}#sk-container-id-2 div.sk-estimator:hover label.sk-toggleable__label-arrow:before {color: black;}#sk-container-id-2 div.sk-toggleable__content {max-height: 0;max-width: 0;overflow: hidden;text-align: left;background-color: #f0f8ff;}#sk-container-id-2 div.sk-toggleable__content pre {margin: 0.2em;color: black;border-radius: 0.25em;background-color: #f0f8ff;}#sk-container-id-2 input.sk-toggleable__control:checked~div.sk-toggleable__content {max-height: 200px;max-width: 100%;overflow: auto;}#sk-container-id-2 input.sk-toggleable__control:checked~label.sk-toggleable__label-arrow:before {content: \"▾\";}#sk-container-id-2 div.sk-estimator input.sk-toggleable__control:checked~label.sk-toggleable__label {background-color: #d4ebff;}#sk-container-id-2 div.sk-label input.sk-toggleable__control:checked~label.sk-toggleable__label {background-color: #d4ebff;}#sk-container-id-2 input.sk-hidden--visually {border: 0;clip: rect(1px 1px 1px 1px);clip: rect(1px, 1px, 1px, 1px);height: 1px;margin: -1px;overflow: hidden;padding: 0;position: absolute;width: 1px;}#sk-container-id-2 div.sk-estimator {font-family: monospace;background-color: #f0f8ff;border: 1px dotted black;border-radius: 0.25em;box-sizing: border-box;margin-bottom: 0.5em;}#sk-container-id-2 div.sk-estimator:hover {background-color: #d4ebff;}#sk-container-id-2 div.sk-parallel-item::after {content: \"\";width: 100%;border-bottom: 1px solid gray;flex-grow: 1;}#sk-container-id-2 div.sk-label:hover label.sk-toggleable__label {background-color: #d4ebff;}#sk-container-id-2 div.sk-serial::before {content: \"\";position: absolute;border-left: 1px solid gray;box-sizing: border-box;top: 0;bottom: 0;left: 50%;z-index: 0;}#sk-container-id-2 div.sk-serial {display: flex;flex-direction: column;align-items: center;background-color: white;padding-right: 0.2em;padding-left: 0.2em;position: relative;}#sk-container-id-2 div.sk-item {position: relative;z-index: 1;}#sk-container-id-2 div.sk-parallel {display: flex;align-items: stretch;justify-content: center;background-color: white;position: relative;}#sk-container-id-2 div.sk-item::before, #sk-container-id-2 div.sk-parallel-item::before {content: \"\";position: absolute;border-left: 1px solid gray;box-sizing: border-box;top: 0;bottom: 0;left: 50%;z-index: -1;}#sk-container-id-2 div.sk-parallel-item {display: flex;flex-direction: column;z-index: 1;position: relative;background-color: white;}#sk-container-id-2 div.sk-parallel-item:first-child::after {align-self: flex-end;width: 50%;}#sk-container-id-2 div.sk-parallel-item:last-child::after {align-self: flex-start;width: 50%;}#sk-container-id-2 div.sk-parallel-item:only-child::after {width: 0;}#sk-container-id-2 div.sk-dashed-wrapped {border: 1px dashed gray;margin: 0 0.4em 0.5em 0.4em;box-sizing: border-box;padding-bottom: 0.4em;background-color: white;}#sk-container-id-2 div.sk-label label {font-family: monospace;font-weight: bold;display: inline-block;line-height: 1.2em;}#sk-container-id-2 div.sk-label-container {text-align: center;}#sk-container-id-2 div.sk-container {/* jupyter's `normalize.less` sets `[hidden] { display: none; }` but bootstrap.min.css set `[hidden] { display: none !important; }` so we also need the `!important` here to be able to override the default hidden behavior on the sphinx rendered scikit-learn.org. See: https://github.com/scikit-learn/scikit-learn/issues/21755 */display: inline-block !important;position: relative;}#sk-container-id-2 div.sk-text-repr-fallback {display: none;}</style><div id=\"sk-container-id-2\" class=\"sk-top-container\"><div class=\"sk-text-repr-fallback\"><pre>LGBMRegressor(random_state=4949)</pre><b>In a Jupyter environment, please rerun this cell to show the HTML representation or trust the notebook. <br />On GitHub, the HTML representation is unable to render, please try loading this page with nbviewer.org.</b></div><div class=\"sk-container\" hidden><div class=\"sk-item\"><div class=\"sk-estimator sk-toggleable\"><input class=\"sk-toggleable__control sk-hidden--visually\" id=\"sk-estimator-id-2\" type=\"checkbox\" checked><label for=\"sk-estimator-id-2\" class=\"sk-toggleable__label sk-toggleable__label-arrow\">LGBMRegressor</label><div class=\"sk-toggleable__content\"><pre>LGBMRegressor(random_state=4949)</pre></div></div></div></div></div>"
            ],
            "text/plain": [
              "LGBMRegressor(random_state=4949)"
            ]
          },
          "execution_count": 12,
          "metadata": {},
          "output_type": "execute_result"
        }
      ],
      "source": [
        "lgbm"
      ]
    },
    {
      "cell_type": "code",
      "execution_count": 14,
      "metadata": {},
      "outputs": [
        {
          "data": {
            "image/png": "[encoded data removed]",
            "text/plain": [
              "<Figure size 700x600 with 1 Axes>"
            ]
          },
          "metadata": {
            "needs_background": "light"
          },
          "output_type": "display_data"
        }
      ],
      "source": [
        "plot_model(lgbm, \"pipeline\")"
      ]
    },
    {
      "cell_type": "code",
      "execution_count": 15,
      "metadata": {
        "colab": {
          "base_uri": "https://localhost:8080/",
          "height": 1000,
          "referenced_widgets": [
            "f335fc2d8200411399f7917d568d664e",
            "9e86ddd416974f1fac1f92c1908a5b52",
            "87ef86fa09fd482fa70992424c1c8700"
          ]
        },
        "id": "dG8KVJGzqy66",
        "outputId": "7c755239-716e-4924-96ba-be5a8a6aa0f4"
      },
      "outputs": [
        {
          "data": {
            "text/html": [],
            "text/plain": [
              "<IPython.core.display.HTML object>"
            ]
          },
          "metadata": {},
          "output_type": "display_data"
        },
        {
          "data": {
            "image/png": "[encoded data removed]",
            "text/plain": [
              "<Figure size 432x288 with 2 Axes>"
            ]
          },
          "metadata": {
            "needs_background": "light"
          },
          "output_type": "display_data"
        }
      ],
      "source": [
        "plot_model(lgbm, plot='residuals')"
      ]
    },
    {
      "cell_type": "code",
      "execution_count": 16,
      "metadata": {},
      "outputs": [
        {
          "data": {
            "text/html": [],
            "text/plain": [
              "<IPython.core.display.HTML object>"
            ]
          },
          "metadata": {},
          "output_type": "display_data"
        },
        {
          "data": {
            "image/png": "[encoded data removed]",
            "text/plain": [
              "<Figure size 432x288 with 1 Axes>"
            ]
          },
          "metadata": {
            "needs_background": "light"
          },
          "output_type": "display_data"
        }
      ],
      "source": [
        "plot_model(lgbm, plot='error')"
      ]
    },
    {
      "cell_type": "code",
      "execution_count": 17,
      "metadata": {},
      "outputs": [
        {
          "data": {
            "text/html": [],
            "text/plain": [
              "<IPython.core.display.HTML object>"
            ]
          },
          "metadata": {},
          "output_type": "display_data"
        },
        {
          "data": {
            "image/png": "[encoded data removed]",
            "text/plain": [
              "<Figure size 432x288 with 1 Axes>"
            ]
          },
          "metadata": {
            "needs_background": "light"
          },
          "output_type": "display_data"
        }
      ],
      "source": [
        "plot_model(lgbm, plot='learning')"
      ]
    },
    {
      "cell_type": "code",
      "execution_count": 18,
      "metadata": {},
      "outputs": [
        {
          "data": {
            "text/html": [],
            "text/plain": [
              "<IPython.core.display.HTML object>"
            ]
          },
          "metadata": {},
          "output_type": "display_data"
        },
        {
          "data": {
            "image/png": "[encoded data removed]",
            "text/plain": [
              "<Figure size 432x288 with 1 Axes>"
            ]
          },
          "metadata": {
            "needs_background": "light"
          },
          "output_type": "display_data"
        }
      ],
      "source": [
        "plot_model(lgbm, plot='vc')"
      ]
    },
    {
      "cell_type": "code",
      "execution_count": 19,
      "metadata": {},
      "outputs": [
        {
          "data": {
            "text/html": [],
            "text/plain": [
              "<IPython.core.display.HTML object>"
            ]
          },
          "metadata": {},
          "output_type": "display_data"
        },
        {
          "data": {
            "image/png": "[encoded data removed]",
            "text/plain": [
              "<Figure size 800x500 with 1 Axes>"
            ]
          },
          "metadata": {
            "needs_background": "light"
          },
          "output_type": "display_data"
        }
      ],
      "source": [
        "plot_model(lgbm, plot='feature')"
      ]
    },
    {
      "cell_type": "code",
      "execution_count": 20,
      "metadata": {},
      "outputs": [
        {
          "name": "stdout",
          "output_type": "stream",
          "text": [
            "Transformation Pipeline and Model Successfully Saved\n"
          ]
        },
        {
          "data": {
            "text/plain": [
              "(Pipeline(memory=FastMemory(location=C:\\Users\\99823827\\AppData\\Local\\Temp\\joblib),\n",
              "          steps=[('polynomial_features',\n",
              "                  TransformerWrapper(transformer=PolynomialFeatures(include_bias=False))),\n",
              "                 ('trained_model', LGBMRegressor(random_state=4949))]),\n",
              " 'models/lgbm_v0.pkl')"
            ]
          },
          "execution_count": 20,
          "metadata": {},
          "output_type": "execute_result"
        }
      ],
      "source": [
        "save_model(lgbm,\"models/lgbm_v0\",verbose=True)"
      ]
    },
    {
      "attachments": {},
      "cell_type": "markdown",
      "metadata": {},
      "source": [
        "# Modelagem sem polynomial features"
      ]
    },
    {
      "cell_type": "code",
      "execution_count": 21,
      "metadata": {},
      "outputs": [
        {
          "data": {
            "text/html": [
              "<style type=\"text/css\">\n",
              "#T_2b41a_row8_col1 {\n",
              "  background-color: lightgreen;\n",
              "}\n",
              "</style>\n",
              "<table id=\"T_2b41a\">\n",
              "  <thead>\n",
              "    <tr>\n",
              "      <th class=\"blank level0\" >&nbsp;</th>\n",
              "      <th id=\"T_2b41a_level0_col0\" class=\"col_heading level0 col0\" >Description</th>\n",
              "      <th id=\"T_2b41a_level0_col1\" class=\"col_heading level0 col1\" >Value</th>\n",
              "    </tr>\n",
              "  </thead>\n",
              "  <tbody>\n",
              "    <tr>\n",
              "      <th id=\"T_2b41a_level0_row0\" class=\"row_heading level0 row0\" >0</th>\n",
              "      <td id=\"T_2b41a_row0_col0\" class=\"data row0 col0\" >Session id</td>\n",
              "      <td id=\"T_2b41a_row0_col1\" class=\"data row0 col1\" >1831</td>\n",
              "    </tr>\n",
              "    <tr>\n",
              "      <th id=\"T_2b41a_level0_row1\" class=\"row_heading level0 row1\" >1</th>\n",
              "      <td id=\"T_2b41a_row1_col0\" class=\"data row1 col0\" >Target</td>\n",
              "      <td id=\"T_2b41a_row1_col1\" class=\"data row1 col1\" >expected_cut_force</td>\n",
              "    </tr>\n",
              "    <tr>\n",
              "      <th id=\"T_2b41a_level0_row2\" class=\"row_heading level0 row2\" >2</th>\n",
              "      <td id=\"T_2b41a_row2_col0\" class=\"data row2 col0\" >Target type</td>\n",
              "      <td id=\"T_2b41a_row2_col1\" class=\"data row2 col1\" >Regression</td>\n",
              "    </tr>\n",
              "    <tr>\n",
              "      <th id=\"T_2b41a_level0_row3\" class=\"row_heading level0 row3\" >3</th>\n",
              "      <td id=\"T_2b41a_row3_col0\" class=\"data row3 col0\" >Original data shape</td>\n",
              "      <td id=\"T_2b41a_row3_col1\" class=\"data row3 col1\" >(324, 12)</td>\n",
              "    </tr>\n",
              "    <tr>\n",
              "      <th id=\"T_2b41a_level0_row4\" class=\"row_heading level0 row4\" >4</th>\n",
              "      <td id=\"T_2b41a_row4_col0\" class=\"data row4 col0\" >Transformed data shape</td>\n",
              "      <td id=\"T_2b41a_row4_col1\" class=\"data row4 col1\" >(324, 12)</td>\n",
              "    </tr>\n",
              "    <tr>\n",
              "      <th id=\"T_2b41a_level0_row5\" class=\"row_heading level0 row5\" >5</th>\n",
              "      <td id=\"T_2b41a_row5_col0\" class=\"data row5 col0\" >Transformed train set shape</td>\n",
              "      <td id=\"T_2b41a_row5_col1\" class=\"data row5 col1\" >(226, 12)</td>\n",
              "    </tr>\n",
              "    <tr>\n",
              "      <th id=\"T_2b41a_level0_row6\" class=\"row_heading level0 row6\" >6</th>\n",
              "      <td id=\"T_2b41a_row6_col0\" class=\"data row6 col0\" >Transformed test set shape</td>\n",
              "      <td id=\"T_2b41a_row6_col1\" class=\"data row6 col1\" >(98, 12)</td>\n",
              "    </tr>\n",
              "    <tr>\n",
              "      <th id=\"T_2b41a_level0_row7\" class=\"row_heading level0 row7\" >7</th>\n",
              "      <td id=\"T_2b41a_row7_col0\" class=\"data row7 col0\" >Numeric features</td>\n",
              "      <td id=\"T_2b41a_row7_col1\" class=\"data row7 col1\" >11</td>\n",
              "    </tr>\n",
              "    <tr>\n",
              "      <th id=\"T_2b41a_level0_row8\" class=\"row_heading level0 row8\" >8</th>\n",
              "      <td id=\"T_2b41a_row8_col0\" class=\"data row8 col0\" >Preprocess</td>\n",
              "      <td id=\"T_2b41a_row8_col1\" class=\"data row8 col1\" >True</td>\n",
              "    </tr>\n",
              "    <tr>\n",
              "      <th id=\"T_2b41a_level0_row9\" class=\"row_heading level0 row9\" >9</th>\n",
              "      <td id=\"T_2b41a_row9_col0\" class=\"data row9 col0\" >Imputation type</td>\n",
              "      <td id=\"T_2b41a_row9_col1\" class=\"data row9 col1\" >None</td>\n",
              "    </tr>\n",
              "    <tr>\n",
              "      <th id=\"T_2b41a_level0_row10\" class=\"row_heading level0 row10\" >10</th>\n",
              "      <td id=\"T_2b41a_row10_col0\" class=\"data row10 col0\" >Fold Generator</td>\n",
              "      <td id=\"T_2b41a_row10_col1\" class=\"data row10 col1\" >KFold</td>\n",
              "    </tr>\n",
              "    <tr>\n",
              "      <th id=\"T_2b41a_level0_row11\" class=\"row_heading level0 row11\" >11</th>\n",
              "      <td id=\"T_2b41a_row11_col0\" class=\"data row11 col0\" >Fold Number</td>\n",
              "      <td id=\"T_2b41a_row11_col1\" class=\"data row11 col1\" >10</td>\n",
              "    </tr>\n",
              "    <tr>\n",
              "      <th id=\"T_2b41a_level0_row12\" class=\"row_heading level0 row12\" >12</th>\n",
              "      <td id=\"T_2b41a_row12_col0\" class=\"data row12 col0\" >CPU Jobs</td>\n",
              "      <td id=\"T_2b41a_row12_col1\" class=\"data row12 col1\" >-1</td>\n",
              "    </tr>\n",
              "    <tr>\n",
              "      <th id=\"T_2b41a_level0_row13\" class=\"row_heading level0 row13\" >13</th>\n",
              "      <td id=\"T_2b41a_row13_col0\" class=\"data row13 col0\" >Use GPU</td>\n",
              "      <td id=\"T_2b41a_row13_col1\" class=\"data row13 col1\" >False</td>\n",
              "    </tr>\n",
              "    <tr>\n",
              "      <th id=\"T_2b41a_level0_row14\" class=\"row_heading level0 row14\" >14</th>\n",
              "      <td id=\"T_2b41a_row14_col0\" class=\"data row14 col0\" >Log Experiment</td>\n",
              "      <td id=\"T_2b41a_row14_col1\" class=\"data row14 col1\" >False</td>\n",
              "    </tr>\n",
              "    <tr>\n",
              "      <th id=\"T_2b41a_level0_row15\" class=\"row_heading level0 row15\" >15</th>\n",
              "      <td id=\"T_2b41a_row15_col0\" class=\"data row15 col0\" >Experiment Name</td>\n",
              "      <td id=\"T_2b41a_row15_col1\" class=\"data row15 col1\" >reg-default-name</td>\n",
              "    </tr>\n",
              "    <tr>\n",
              "      <th id=\"T_2b41a_level0_row16\" class=\"row_heading level0 row16\" >16</th>\n",
              "      <td id=\"T_2b41a_row16_col0\" class=\"data row16 col0\" >USI</td>\n",
              "      <td id=\"T_2b41a_row16_col1\" class=\"data row16 col1\" >0242</td>\n",
              "    </tr>\n",
              "  </tbody>\n",
              "</table>\n"
            ],
            "text/plain": [
              "<pandas.io.formats.style.Styler at 0x1d684d12df0>"
            ]
          },
          "metadata": {},
          "output_type": "display_data"
        }
      ],
      "source": [
        "s = setup(df_1,\n",
        "          target = 'expected_cut_force',\n",
        "          fold_shuffle=True,\n",
        "          numeric_features=list(df_1.drop(\"expected_cut_force\",axis=1).columns),\n",
        "          imputation_type=None,\n",
        "          polynomial_features=False,\n",
        "          profile=False\n",
        ")"
      ]
    },
    {
      "cell_type": "code",
      "execution_count": 23,
      "metadata": {},
      "outputs": [
        {
          "data": {
            "text/html": [
              "<div>\n",
              "<style scoped>\n",
              "    .dataframe tbody tr th:only-of-type {\n",
              "        vertical-align: middle;\n",
              "    }\n",
              "\n",
              "    .dataframe tbody tr th {\n",
              "        vertical-align: top;\n",
              "    }\n",
              "\n",
              "    .dataframe thead th {\n",
              "        text-align: right;\n",
              "    }\n",
              "</style>\n",
              "<table border=\"1\" class=\"dataframe\">\n",
              "  <thead>\n",
              "    <tr style=\"text-align: right;\">\n",
              "      <th></th>\n",
              "      <th></th>\n",
              "      <th></th>\n",
              "    </tr>\n",
              "    <tr>\n",
              "      <th></th>\n",
              "      <th></th>\n",
              "      <th></th>\n",
              "    </tr>\n",
              "  </thead>\n",
              "  <tbody>\n",
              "    <tr>\n",
              "      <th>Initiated</th>\n",
              "      <td>. . . . . . . . . . . . . . . . . .</td>\n",
              "      <td>16:53:47</td>\n",
              "    </tr>\n",
              "    <tr>\n",
              "      <th>Status</th>\n",
              "      <td>. . . . . . . . . . . . . . . . . .</td>\n",
              "      <td>Fitting 10 Folds</td>\n",
              "    </tr>\n",
              "    <tr>\n",
              "      <th>Estimator</th>\n",
              "      <td>. . . . . . . . . . . . . . . . . .</td>\n",
              "      <td>Linear Regression</td>\n",
              "    </tr>\n",
              "  </tbody>\n",
              "</table>\n",
              "</div>"
            ],
            "text/plain": [
              "                                                                 \n",
              "                                                                 \n",
              "Initiated  . . . . . . . . . . . . . . . . . .           16:53:47\n",
              "Status     . . . . . . . . . . . . . . . . . .   Fitting 10 Folds\n",
              "Estimator  . . . . . . . . . . . . . . . . . .  Linear Regression"
            ]
          },
          "metadata": {},
          "output_type": "display_data"
        },
        {
          "data": {
            "text/html": [
              "<style type=\"text/css\">\n",
              "#T_7652b th {\n",
              "  text-align: left;\n",
              "}\n",
              "#T_7652b_row0_col0, #T_7652b_row0_col1, #T_7652b_row0_col5, #T_7652b_row0_col6, #T_7652b_row1_col0, #T_7652b_row1_col1, #T_7652b_row1_col2, #T_7652b_row1_col3, #T_7652b_row1_col4, #T_7652b_row1_col6, #T_7652b_row2_col0, #T_7652b_row2_col1, #T_7652b_row2_col2, #T_7652b_row2_col3, #T_7652b_row2_col4, #T_7652b_row2_col5, #T_7652b_row2_col6, #T_7652b_row3_col0, #T_7652b_row3_col1, #T_7652b_row3_col2, #T_7652b_row3_col3, #T_7652b_row3_col4, #T_7652b_row3_col5, #T_7652b_row3_col6, #T_7652b_row4_col0, #T_7652b_row4_col1, #T_7652b_row4_col2, #T_7652b_row4_col3, #T_7652b_row4_col4, #T_7652b_row4_col5, #T_7652b_row4_col6, #T_7652b_row5_col0, #T_7652b_row5_col1, #T_7652b_row5_col2, #T_7652b_row5_col3, #T_7652b_row5_col4, #T_7652b_row5_col5, #T_7652b_row5_col6, #T_7652b_row6_col0, #T_7652b_row6_col1, #T_7652b_row6_col2, #T_7652b_row6_col3, #T_7652b_row6_col4, #T_7652b_row6_col5, #T_7652b_row6_col6, #T_7652b_row7_col0, #T_7652b_row7_col2, #T_7652b_row7_col3, #T_7652b_row7_col4, #T_7652b_row7_col5, #T_7652b_row8_col0, #T_7652b_row8_col1, #T_7652b_row8_col2, #T_7652b_row8_col3, #T_7652b_row8_col4, #T_7652b_row8_col5, #T_7652b_row8_col6, #T_7652b_row9_col0, #T_7652b_row9_col1, #T_7652b_row9_col2, #T_7652b_row9_col3, #T_7652b_row9_col4, #T_7652b_row9_col5, #T_7652b_row9_col6, #T_7652b_row10_col0, #T_7652b_row10_col1, #T_7652b_row10_col2, #T_7652b_row10_col3, #T_7652b_row10_col4, #T_7652b_row10_col5, #T_7652b_row10_col6, #T_7652b_row11_col0, #T_7652b_row11_col1, #T_7652b_row11_col2, #T_7652b_row11_col3, #T_7652b_row11_col4, #T_7652b_row11_col5, #T_7652b_row11_col6, #T_7652b_row12_col0, #T_7652b_row12_col1, #T_7652b_row12_col2, #T_7652b_row12_col3, #T_7652b_row12_col4, #T_7652b_row12_col5, #T_7652b_row12_col6, #T_7652b_row13_col0, #T_7652b_row13_col1, #T_7652b_row13_col2, #T_7652b_row13_col3, #T_7652b_row13_col4, #T_7652b_row13_col5, #T_7652b_row13_col6, #T_7652b_row14_col0, #T_7652b_row14_col1, #T_7652b_row14_col2, #T_7652b_row14_col3, #T_7652b_row14_col4, #T_7652b_row14_col5, #T_7652b_row14_col6, #T_7652b_row15_col0, #T_7652b_row15_col1, #T_7652b_row15_col2, #T_7652b_row15_col3, #T_7652b_row15_col4, #T_7652b_row15_col5, #T_7652b_row15_col6, #T_7652b_row16_col0, #T_7652b_row16_col1, #T_7652b_row16_col2, #T_7652b_row16_col3, #T_7652b_row16_col4, #T_7652b_row16_col5, #T_7652b_row16_col6, #T_7652b_row17_col0, #T_7652b_row17_col1, #T_7652b_row17_col2, #T_7652b_row17_col3, #T_7652b_row17_col4, #T_7652b_row17_col5, #T_7652b_row17_col6, #T_7652b_row18_col0, #T_7652b_row18_col1, #T_7652b_row18_col2, #T_7652b_row18_col3, #T_7652b_row18_col4, #T_7652b_row18_col5, #T_7652b_row18_col6, #T_7652b_row19_col0, #T_7652b_row19_col1, #T_7652b_row19_col2, #T_7652b_row19_col3, #T_7652b_row19_col4, #T_7652b_row19_col5, #T_7652b_row19_col6 {\n",
              "  text-align: left;\n",
              "}\n",
              "#T_7652b_row0_col2, #T_7652b_row0_col3, #T_7652b_row0_col4, #T_7652b_row1_col5, #T_7652b_row7_col1, #T_7652b_row7_col6 {\n",
              "  text-align: left;\n",
              "  background-color: yellow;\n",
              "}\n",
              "#T_7652b_row0_col7, #T_7652b_row1_col7, #T_7652b_row2_col7, #T_7652b_row3_col7, #T_7652b_row4_col7, #T_7652b_row5_col7, #T_7652b_row6_col7, #T_7652b_row7_col7, #T_7652b_row8_col7, #T_7652b_row9_col7, #T_7652b_row10_col7, #T_7652b_row11_col7, #T_7652b_row13_col7, #T_7652b_row14_col7, #T_7652b_row15_col7 {\n",
              "  text-align: left;\n",
              "  background-color: lightgrey;\n",
              "}\n",
              "#T_7652b_row12_col7, #T_7652b_row16_col7, #T_7652b_row17_col7, #T_7652b_row18_col7, #T_7652b_row19_col7 {\n",
              "  text-align: left;\n",
              "  background-color: yellow;\n",
              "  background-color: lightgrey;\n",
              "}\n",
              "</style>\n",
              "<table id=\"T_7652b\">\n",
              "  <thead>\n",
              "    <tr>\n",
              "      <th class=\"blank level0\" >&nbsp;</th>\n",
              "      <th id=\"T_7652b_level0_col0\" class=\"col_heading level0 col0\" >Model</th>\n",
              "      <th id=\"T_7652b_level0_col1\" class=\"col_heading level0 col1\" >MAE</th>\n",
              "      <th id=\"T_7652b_level0_col2\" class=\"col_heading level0 col2\" >MSE</th>\n",
              "      <th id=\"T_7652b_level0_col3\" class=\"col_heading level0 col3\" >RMSE</th>\n",
              "      <th id=\"T_7652b_level0_col4\" class=\"col_heading level0 col4\" >R2</th>\n",
              "      <th id=\"T_7652b_level0_col5\" class=\"col_heading level0 col5\" >RMSLE</th>\n",
              "      <th id=\"T_7652b_level0_col6\" class=\"col_heading level0 col6\" >MAPE</th>\n",
              "      <th id=\"T_7652b_level0_col7\" class=\"col_heading level0 col7\" >TT (Sec)</th>\n",
              "    </tr>\n",
              "  </thead>\n",
              "  <tbody>\n",
              "    <tr>\n",
              "      <th id=\"T_7652b_level0_row0\" class=\"row_heading level0 row0\" >lightgbm</th>\n",
              "      <td id=\"T_7652b_row0_col0\" class=\"data row0 col0\" >Light Gradient Boosting Machine</td>\n",
              "      <td id=\"T_7652b_row0_col1\" class=\"data row0 col1\" >345.5288</td>\n",
              "      <td id=\"T_7652b_row0_col2\" class=\"data row0 col2\" >233758.6752</td>\n",
              "      <td id=\"T_7652b_row0_col3\" class=\"data row0 col3\" >477.7977</td>\n",
              "      <td id=\"T_7652b_row0_col4\" class=\"data row0 col4\" >0.9578</td>\n",
              "      <td id=\"T_7652b_row0_col5\" class=\"data row0 col5\" >0.1014</td>\n",
              "      <td id=\"T_7652b_row0_col6\" class=\"data row0 col6\" >0.0785</td>\n",
              "      <td id=\"T_7652b_row0_col7\" class=\"data row0 col7\" >0.0330</td>\n",
              "    </tr>\n",
              "    <tr>\n",
              "      <th id=\"T_7652b_level0_row1\" class=\"row_heading level0 row1\" >gbr</th>\n",
              "      <td id=\"T_7652b_row1_col0\" class=\"data row1 col0\" >Gradient Boosting Regressor</td>\n",
              "      <td id=\"T_7652b_row1_col1\" class=\"data row1 col1\" >355.1062</td>\n",
              "      <td id=\"T_7652b_row1_col2\" class=\"data row1 col2\" >256031.3986</td>\n",
              "      <td id=\"T_7652b_row1_col3\" class=\"data row1 col3\" >497.6145</td>\n",
              "      <td id=\"T_7652b_row1_col4\" class=\"data row1 col4\" >0.9542</td>\n",
              "      <td id=\"T_7652b_row1_col5\" class=\"data row1 col5\" >0.0986</td>\n",
              "      <td id=\"T_7652b_row1_col6\" class=\"data row1 col6\" >0.0766</td>\n",
              "      <td id=\"T_7652b_row1_col7\" class=\"data row1 col7\" >0.0370</td>\n",
              "    </tr>\n",
              "    <tr>\n",
              "      <th id=\"T_7652b_level0_row2\" class=\"row_heading level0 row2\" >knn</th>\n",
              "      <td id=\"T_7652b_row2_col0\" class=\"data row2 col0\" >K Neighbors Regressor</td>\n",
              "      <td id=\"T_7652b_row2_col1\" class=\"data row2 col1\" >358.5508</td>\n",
              "      <td id=\"T_7652b_row2_col2\" class=\"data row2 col2\" >249965.3266</td>\n",
              "      <td id=\"T_7652b_row2_col3\" class=\"data row2 col3\" >494.9110</td>\n",
              "      <td id=\"T_7652b_row2_col4\" class=\"data row2 col4\" >0.9540</td>\n",
              "      <td id=\"T_7652b_row2_col5\" class=\"data row2 col5\" >0.1015</td>\n",
              "      <td id=\"T_7652b_row2_col6\" class=\"data row2 col6\" >0.0782</td>\n",
              "      <td id=\"T_7652b_row2_col7\" class=\"data row2 col7\" >0.0140</td>\n",
              "    </tr>\n",
              "    <tr>\n",
              "      <th id=\"T_7652b_level0_row3\" class=\"row_heading level0 row3\" >catboost</th>\n",
              "      <td id=\"T_7652b_row3_col0\" class=\"data row3 col0\" >CatBoost Regressor</td>\n",
              "      <td id=\"T_7652b_row3_col1\" class=\"data row3 col1\" >359.7647</td>\n",
              "      <td id=\"T_7652b_row3_col2\" class=\"data row3 col2\" >281506.1228</td>\n",
              "      <td id=\"T_7652b_row3_col3\" class=\"data row3 col3\" >521.5496</td>\n",
              "      <td id=\"T_7652b_row3_col4\" class=\"data row3 col4\" >0.9508</td>\n",
              "      <td id=\"T_7652b_row3_col5\" class=\"data row3 col5\" >0.1045</td>\n",
              "      <td id=\"T_7652b_row3_col6\" class=\"data row3 col6\" >0.0781</td>\n",
              "      <td id=\"T_7652b_row3_col7\" class=\"data row3 col7\" >0.1510</td>\n",
              "    </tr>\n",
              "    <tr>\n",
              "      <th id=\"T_7652b_level0_row4\" class=\"row_heading level0 row4\" >llar</th>\n",
              "      <td id=\"T_7652b_row4_col0\" class=\"data row4 col0\" >Lasso Least Angle Regression</td>\n",
              "      <td id=\"T_7652b_row4_col1\" class=\"data row4 col1\" >383.8108</td>\n",
              "      <td id=\"T_7652b_row4_col2\" class=\"data row4 col2\" >267076.2375</td>\n",
              "      <td id=\"T_7652b_row4_col3\" class=\"data row4 col3\" >507.3246</td>\n",
              "      <td id=\"T_7652b_row4_col4\" class=\"data row4 col4\" >0.9497</td>\n",
              "      <td id=\"T_7652b_row4_col5\" class=\"data row4 col5\" >0.1094</td>\n",
              "      <td id=\"T_7652b_row4_col6\" class=\"data row4 col6\" >0.0874</td>\n",
              "      <td id=\"T_7652b_row4_col7\" class=\"data row4 col7\" >0.0120</td>\n",
              "    </tr>\n",
              "    <tr>\n",
              "      <th id=\"T_7652b_level0_row5\" class=\"row_heading level0 row5\" >lr</th>\n",
              "      <td id=\"T_7652b_row5_col0\" class=\"data row5 col0\" >Linear Regression</td>\n",
              "      <td id=\"T_7652b_row5_col1\" class=\"data row5 col1\" >383.7722</td>\n",
              "      <td id=\"T_7652b_row5_col2\" class=\"data row5 col2\" >266980.1328</td>\n",
              "      <td id=\"T_7652b_row5_col3\" class=\"data row5 col3\" >507.1040</td>\n",
              "      <td id=\"T_7652b_row5_col4\" class=\"data row5 col4\" >0.9496</td>\n",
              "      <td id=\"T_7652b_row5_col5\" class=\"data row5 col5\" >0.1092</td>\n",
              "      <td id=\"T_7652b_row5_col6\" class=\"data row5 col6\" >0.0873</td>\n",
              "      <td id=\"T_7652b_row5_col7\" class=\"data row5 col7\" >0.0470</td>\n",
              "    </tr>\n",
              "    <tr>\n",
              "      <th id=\"T_7652b_level0_row6\" class=\"row_heading level0 row6\" >lasso</th>\n",
              "      <td id=\"T_7652b_row6_col0\" class=\"data row6 col0\" >Lasso Regression</td>\n",
              "      <td id=\"T_7652b_row6_col1\" class=\"data row6 col1\" >385.0282</td>\n",
              "      <td id=\"T_7652b_row6_col2\" class=\"data row6 col2\" >267595.6594</td>\n",
              "      <td id=\"T_7652b_row6_col3\" class=\"data row6 col3\" >508.0514</td>\n",
              "      <td id=\"T_7652b_row6_col4\" class=\"data row6 col4\" >0.9496</td>\n",
              "      <td id=\"T_7652b_row6_col5\" class=\"data row6 col5\" >0.1111</td>\n",
              "      <td id=\"T_7652b_row6_col6\" class=\"data row6 col6\" >0.0888</td>\n",
              "      <td id=\"T_7652b_row6_col7\" class=\"data row6 col7\" >0.4040</td>\n",
              "    </tr>\n",
              "    <tr>\n",
              "      <th id=\"T_7652b_level0_row7\" class=\"row_heading level0 row7\" >rf</th>\n",
              "      <td id=\"T_7652b_row7_col0\" class=\"data row7 col0\" >Random Forest Regressor</td>\n",
              "      <td id=\"T_7652b_row7_col1\" class=\"data row7 col1\" >345.4601</td>\n",
              "      <td id=\"T_7652b_row7_col2\" class=\"data row7 col2\" >279497.0385</td>\n",
              "      <td id=\"T_7652b_row7_col3\" class=\"data row7 col3\" >520.2474</td>\n",
              "      <td id=\"T_7652b_row7_col4\" class=\"data row7 col4\" >0.9496</td>\n",
              "      <td id=\"T_7652b_row7_col5\" class=\"data row7 col5\" >0.1012</td>\n",
              "      <td id=\"T_7652b_row7_col6\" class=\"data row7 col6\" >0.0733</td>\n",
              "      <td id=\"T_7652b_row7_col7\" class=\"data row7 col7\" >0.0320</td>\n",
              "    </tr>\n",
              "    <tr>\n",
              "      <th id=\"T_7652b_level0_row8\" class=\"row_heading level0 row8\" >xgboost</th>\n",
              "      <td id=\"T_7652b_row8_col0\" class=\"data row8 col0\" >Extreme Gradient Boosting</td>\n",
              "      <td id=\"T_7652b_row8_col1\" class=\"data row8 col1\" >374.4546</td>\n",
              "      <td id=\"T_7652b_row8_col2\" class=\"data row8 col2\" >316721.3094</td>\n",
              "      <td id=\"T_7652b_row8_col3\" class=\"data row8 col3\" >550.4610</td>\n",
              "      <td id=\"T_7652b_row8_col4\" class=\"data row8 col4\" >0.9447</td>\n",
              "      <td id=\"T_7652b_row8_col5\" class=\"data row8 col5\" >0.1088</td>\n",
              "      <td id=\"T_7652b_row8_col6\" class=\"data row8 col6\" >0.0797</td>\n",
              "      <td id=\"T_7652b_row8_col7\" class=\"data row8 col7\" >0.1960</td>\n",
              "    </tr>\n",
              "    <tr>\n",
              "      <th id=\"T_7652b_level0_row9\" class=\"row_heading level0 row9\" >et</th>\n",
              "      <td id=\"T_7652b_row9_col0\" class=\"data row9 col0\" >Extra Trees Regressor</td>\n",
              "      <td id=\"T_7652b_row9_col1\" class=\"data row9 col1\" >372.6379</td>\n",
              "      <td id=\"T_7652b_row9_col2\" class=\"data row9 col2\" >320550.2556</td>\n",
              "      <td id=\"T_7652b_row9_col3\" class=\"data row9 col3\" >553.3668</td>\n",
              "      <td id=\"T_7652b_row9_col4\" class=\"data row9 col4\" >0.9436</td>\n",
              "      <td id=\"T_7652b_row9_col5\" class=\"data row9 col5\" >0.1071</td>\n",
              "      <td id=\"T_7652b_row9_col6\" class=\"data row9 col6\" >0.0780</td>\n",
              "      <td id=\"T_7652b_row9_col7\" class=\"data row9 col7\" >0.0300</td>\n",
              "    </tr>\n",
              "    <tr>\n",
              "      <th id=\"T_7652b_level0_row10\" class=\"row_heading level0 row10\" >ridge</th>\n",
              "      <td id=\"T_7652b_row10_col0\" class=\"data row10 col0\" >Ridge Regression</td>\n",
              "      <td id=\"T_7652b_row10_col1\" class=\"data row10 col1\" >451.5343</td>\n",
              "      <td id=\"T_7652b_row10_col2\" class=\"data row10 col2\" >327310.5609</td>\n",
              "      <td id=\"T_7652b_row10_col3\" class=\"data row10 col3\" >565.3688</td>\n",
              "      <td id=\"T_7652b_row10_col4\" class=\"data row10 col4\" >0.9396</td>\n",
              "      <td id=\"T_7652b_row10_col5\" class=\"data row10 col5\" >0.1787</td>\n",
              "      <td id=\"T_7652b_row10_col6\" class=\"data row10 col6\" >0.1409</td>\n",
              "      <td id=\"T_7652b_row10_col7\" class=\"data row10 col7\" >0.2050</td>\n",
              "    </tr>\n",
              "    <tr>\n",
              "      <th id=\"T_7652b_level0_row11\" class=\"row_heading level0 row11\" >ada</th>\n",
              "      <td id=\"T_7652b_row11_col0\" class=\"data row11 col0\" >AdaBoost Regressor</td>\n",
              "      <td id=\"T_7652b_row11_col1\" class=\"data row11 col1\" >423.6375</td>\n",
              "      <td id=\"T_7652b_row11_col2\" class=\"data row11 col2\" >335108.2504</td>\n",
              "      <td id=\"T_7652b_row11_col3\" class=\"data row11 col3\" >570.0335</td>\n",
              "      <td id=\"T_7652b_row11_col4\" class=\"data row11 col4\" >0.9387</td>\n",
              "      <td id=\"T_7652b_row11_col5\" class=\"data row11 col5\" >0.1132</td>\n",
              "      <td id=\"T_7652b_row11_col6\" class=\"data row11 col6\" >0.0895</td>\n",
              "      <td id=\"T_7652b_row11_col7\" class=\"data row11 col7\" >0.0170</td>\n",
              "    </tr>\n",
              "    <tr>\n",
              "      <th id=\"T_7652b_level0_row12\" class=\"row_heading level0 row12\" >dt</th>\n",
              "      <td id=\"T_7652b_row12_col0\" class=\"data row12 col0\" >Decision Tree Regressor</td>\n",
              "      <td id=\"T_7652b_row12_col1\" class=\"data row12 col1\" >389.1416</td>\n",
              "      <td id=\"T_7652b_row12_col2\" class=\"data row12 col2\" >349487.7064</td>\n",
              "      <td id=\"T_7652b_row12_col3\" class=\"data row12 col3\" >574.7112</td>\n",
              "      <td id=\"T_7652b_row12_col4\" class=\"data row12 col4\" >0.9379</td>\n",
              "      <td id=\"T_7652b_row12_col5\" class=\"data row12 col5\" >0.1122</td>\n",
              "      <td id=\"T_7652b_row12_col6\" class=\"data row12 col6\" >0.0834</td>\n",
              "      <td id=\"T_7652b_row12_col7\" class=\"data row12 col7\" >0.0110</td>\n",
              "    </tr>\n",
              "    <tr>\n",
              "      <th id=\"T_7652b_level0_row13\" class=\"row_heading level0 row13\" >en</th>\n",
              "      <td id=\"T_7652b_row13_col0\" class=\"data row13 col0\" >Elastic Net</td>\n",
              "      <td id=\"T_7652b_row13_col1\" class=\"data row13 col1\" >650.3174</td>\n",
              "      <td id=\"T_7652b_row13_col2\" class=\"data row13 col2\" >663548.4312</td>\n",
              "      <td id=\"T_7652b_row13_col3\" class=\"data row13 col3\" >806.8844</td>\n",
              "      <td id=\"T_7652b_row13_col4\" class=\"data row13 col4\" >0.8798</td>\n",
              "      <td id=\"T_7652b_row13_col5\" class=\"data row13 col5\" >0.2863</td>\n",
              "      <td id=\"T_7652b_row13_col6\" class=\"data row13 col6\" >0.2374</td>\n",
              "      <td id=\"T_7652b_row13_col7\" class=\"data row13 col7\" >0.0120</td>\n",
              "    </tr>\n",
              "    <tr>\n",
              "      <th id=\"T_7652b_level0_row14\" class=\"row_heading level0 row14\" >br</th>\n",
              "      <td id=\"T_7652b_row14_col0\" class=\"data row14 col0\" >Bayesian Ridge</td>\n",
              "      <td id=\"T_7652b_row14_col1\" class=\"data row14 col1\" >672.6558</td>\n",
              "      <td id=\"T_7652b_row14_col2\" class=\"data row14 col2\" >703275.9062</td>\n",
              "      <td id=\"T_7652b_row14_col3\" class=\"data row14 col3\" >830.8930</td>\n",
              "      <td id=\"T_7652b_row14_col4\" class=\"data row14 col4\" >0.8725</td>\n",
              "      <td id=\"T_7652b_row14_col5\" class=\"data row14 col5\" >0.2917</td>\n",
              "      <td id=\"T_7652b_row14_col6\" class=\"data row14 col6\" >0.2436</td>\n",
              "      <td id=\"T_7652b_row14_col7\" class=\"data row14 col7\" >0.0130</td>\n",
              "    </tr>\n",
              "    <tr>\n",
              "      <th id=\"T_7652b_level0_row15\" class=\"row_heading level0 row15\" >huber</th>\n",
              "      <td id=\"T_7652b_row15_col0\" class=\"data row15 col0\" >Huber Regressor</td>\n",
              "      <td id=\"T_7652b_row15_col1\" class=\"data row15 col1\" >905.6507</td>\n",
              "      <td id=\"T_7652b_row15_col2\" class=\"data row15 col2\" >1761947.4972</td>\n",
              "      <td id=\"T_7652b_row15_col3\" class=\"data row15 col3\" >1308.3249</td>\n",
              "      <td id=\"T_7652b_row15_col4\" class=\"data row15 col4\" >0.6727</td>\n",
              "      <td id=\"T_7652b_row15_col5\" class=\"data row15 col5\" >0.3419</td>\n",
              "      <td id=\"T_7652b_row15_col6\" class=\"data row15 col6\" >0.2918</td>\n",
              "      <td id=\"T_7652b_row15_col7\" class=\"data row15 col7\" >0.0180</td>\n",
              "    </tr>\n",
              "    <tr>\n",
              "      <th id=\"T_7652b_level0_row16\" class=\"row_heading level0 row16\" >omp</th>\n",
              "      <td id=\"T_7652b_row16_col0\" class=\"data row16 col0\" >Orthogonal Matching Pursuit</td>\n",
              "      <td id=\"T_7652b_row16_col1\" class=\"data row16 col1\" >1966.1267</td>\n",
              "      <td id=\"T_7652b_row16_col2\" class=\"data row16 col2\" >5551378.3500</td>\n",
              "      <td id=\"T_7652b_row16_col3\" class=\"data row16 col3\" >2333.4412</td>\n",
              "      <td id=\"T_7652b_row16_col4\" class=\"data row16 col4\" >0.0917</td>\n",
              "      <td id=\"T_7652b_row16_col5\" class=\"data row16 col5\" >0.5962</td>\n",
              "      <td id=\"T_7652b_row16_col6\" class=\"data row16 col6\" >0.6809</td>\n",
              "      <td id=\"T_7652b_row16_col7\" class=\"data row16 col7\" >0.0110</td>\n",
              "    </tr>\n",
              "    <tr>\n",
              "      <th id=\"T_7652b_level0_row17\" class=\"row_heading level0 row17\" >dummy</th>\n",
              "      <td id=\"T_7652b_row17_col0\" class=\"data row17 col0\" >Dummy Regressor</td>\n",
              "      <td id=\"T_7652b_row17_col1\" class=\"data row17 col1\" >1942.6202</td>\n",
              "      <td id=\"T_7652b_row17_col2\" class=\"data row17 col2\" >6701054.0500</td>\n",
              "      <td id=\"T_7652b_row17_col3\" class=\"data row17 col3\" >2557.6324</td>\n",
              "      <td id=\"T_7652b_row17_col4\" class=\"data row17 col4\" >-0.0593</td>\n",
              "      <td id=\"T_7652b_row17_col5\" class=\"data row17 col5\" >0.6497</td>\n",
              "      <td id=\"T_7652b_row17_col6\" class=\"data row17 col6\" >0.7401</td>\n",
              "      <td id=\"T_7652b_row17_col7\" class=\"data row17 col7\" >0.0110</td>\n",
              "    </tr>\n",
              "    <tr>\n",
              "      <th id=\"T_7652b_level0_row18\" class=\"row_heading level0 row18\" >par</th>\n",
              "      <td id=\"T_7652b_row18_col0\" class=\"data row18 col0\" >Passive Aggressive Regressor</td>\n",
              "      <td id=\"T_7652b_row18_col1\" class=\"data row18 col1\" >2810.9966</td>\n",
              "      <td id=\"T_7652b_row18_col2\" class=\"data row18 col2\" >13312485.2087</td>\n",
              "      <td id=\"T_7652b_row18_col3\" class=\"data row18 col3\" >3486.7073</td>\n",
              "      <td id=\"T_7652b_row18_col4\" class=\"data row18 col4\" >-1.6326</td>\n",
              "      <td id=\"T_7652b_row18_col5\" class=\"data row18 col5\" >0.8307</td>\n",
              "      <td id=\"T_7652b_row18_col6\" class=\"data row18 col6\" >0.7816</td>\n",
              "      <td id=\"T_7652b_row18_col7\" class=\"data row18 col7\" >0.0110</td>\n",
              "    </tr>\n",
              "    <tr>\n",
              "      <th id=\"T_7652b_level0_row19\" class=\"row_heading level0 row19\" >lar</th>\n",
              "      <td id=\"T_7652b_row19_col0\" class=\"data row19 col0\" >Least Angle Regression</td>\n",
              "      <td id=\"T_7652b_row19_col1\" class=\"data row19 col1\" >65950.5480</td>\n",
              "      <td id=\"T_7652b_row19_col2\" class=\"data row19 col2\" >35528499670.4219</td>\n",
              "      <td id=\"T_7652b_row19_col3\" class=\"data row19 col3\" >74627.9481</td>\n",
              "      <td id=\"T_7652b_row19_col4\" class=\"data row19 col4\" >-7408.4736</td>\n",
              "      <td id=\"T_7652b_row19_col5\" class=\"data row19 col5\" >2.4035</td>\n",
              "      <td id=\"T_7652b_row19_col6\" class=\"data row19 col6\" >24.5574</td>\n",
              "      <td id=\"T_7652b_row19_col7\" class=\"data row19 col7\" >0.0110</td>\n",
              "    </tr>\n",
              "  </tbody>\n",
              "</table>\n"
            ],
            "text/plain": [
              "<pandas.io.formats.style.Styler at 0x1d684c44970>"
            ]
          },
          "metadata": {},
          "output_type": "display_data"
        }
      ],
      "source": [
        "best = compare_models()"
      ]
    },
    {
      "attachments": {},
      "cell_type": "markdown",
      "metadata": {},
      "source": [
        "## Investigando Lasso"
      ]
    },
    {
      "cell_type": "code",
      "execution_count": 24,
      "metadata": {},
      "outputs": [
        {
          "data": {
            "text/html": [
              "<div>\n",
              "<style scoped>\n",
              "    .dataframe tbody tr th:only-of-type {\n",
              "        vertical-align: middle;\n",
              "    }\n",
              "\n",
              "    .dataframe tbody tr th {\n",
              "        vertical-align: top;\n",
              "    }\n",
              "\n",
              "    .dataframe thead th {\n",
              "        text-align: right;\n",
              "    }\n",
              "</style>\n",
              "<table border=\"1\" class=\"dataframe\">\n",
              "  <thead>\n",
              "    <tr style=\"text-align: right;\">\n",
              "      <th></th>\n",
              "      <th></th>\n",
              "      <th></th>\n",
              "    </tr>\n",
              "    <tr>\n",
              "      <th></th>\n",
              "      <th></th>\n",
              "      <th></th>\n",
              "    </tr>\n",
              "  </thead>\n",
              "  <tbody>\n",
              "    <tr>\n",
              "      <th>Initiated</th>\n",
              "      <td>. . . . . . . . . . . . . . . . . .</td>\n",
              "      <td>16:55:26</td>\n",
              "    </tr>\n",
              "    <tr>\n",
              "      <th>Status</th>\n",
              "      <td>. . . . . . . . . . . . . . . . . .</td>\n",
              "      <td>Fitting 10 Folds</td>\n",
              "    </tr>\n",
              "    <tr>\n",
              "      <th>Estimator</th>\n",
              "      <td>. . . . . . . . . . . . . . . . . .</td>\n",
              "      <td>Lasso Regression</td>\n",
              "    </tr>\n",
              "  </tbody>\n",
              "</table>\n",
              "</div>"
            ],
            "text/plain": [
              "                                                                \n",
              "                                                                \n",
              "Initiated  . . . . . . . . . . . . . . . . . .          16:55:26\n",
              "Status     . . . . . . . . . . . . . . . . . .  Fitting 10 Folds\n",
              "Estimator  . . . . . . . . . . . . . . . . . .  Lasso Regression"
            ]
          },
          "metadata": {},
          "output_type": "display_data"
        },
        {
          "data": {
            "text/html": [
              "<style type=\"text/css\">\n",
              "#T_7fe5a_row10_col0, #T_7fe5a_row10_col1, #T_7fe5a_row10_col2, #T_7fe5a_row10_col3, #T_7fe5a_row10_col4, #T_7fe5a_row10_col5 {\n",
              "  background: yellow;\n",
              "}\n",
              "</style>\n",
              "<table id=\"T_7fe5a\">\n",
              "  <thead>\n",
              "    <tr>\n",
              "      <th class=\"blank level0\" >&nbsp;</th>\n",
              "      <th id=\"T_7fe5a_level0_col0\" class=\"col_heading level0 col0\" >MAE</th>\n",
              "      <th id=\"T_7fe5a_level0_col1\" class=\"col_heading level0 col1\" >MSE</th>\n",
              "      <th id=\"T_7fe5a_level0_col2\" class=\"col_heading level0 col2\" >RMSE</th>\n",
              "      <th id=\"T_7fe5a_level0_col3\" class=\"col_heading level0 col3\" >R2</th>\n",
              "      <th id=\"T_7fe5a_level0_col4\" class=\"col_heading level0 col4\" >RMSLE</th>\n",
              "      <th id=\"T_7fe5a_level0_col5\" class=\"col_heading level0 col5\" >MAPE</th>\n",
              "    </tr>\n",
              "    <tr>\n",
              "      <th class=\"index_name level0\" >Fold</th>\n",
              "      <th class=\"blank col0\" >&nbsp;</th>\n",
              "      <th class=\"blank col1\" >&nbsp;</th>\n",
              "      <th class=\"blank col2\" >&nbsp;</th>\n",
              "      <th class=\"blank col3\" >&nbsp;</th>\n",
              "      <th class=\"blank col4\" >&nbsp;</th>\n",
              "      <th class=\"blank col5\" >&nbsp;</th>\n",
              "    </tr>\n",
              "  </thead>\n",
              "  <tbody>\n",
              "    <tr>\n",
              "      <th id=\"T_7fe5a_level0_row0\" class=\"row_heading level0 row0\" >0</th>\n",
              "      <td id=\"T_7fe5a_row0_col0\" class=\"data row0 col0\" >307.1633</td>\n",
              "      <td id=\"T_7fe5a_row0_col1\" class=\"data row0 col1\" >198336.4844</td>\n",
              "      <td id=\"T_7fe5a_row0_col2\" class=\"data row0 col2\" >445.3499</td>\n",
              "      <td id=\"T_7fe5a_row0_col3\" class=\"data row0 col3\" >0.9585</td>\n",
              "      <td id=\"T_7fe5a_row0_col4\" class=\"data row0 col4\" >0.0934</td>\n",
              "      <td id=\"T_7fe5a_row0_col5\" class=\"data row0 col5\" >0.0692</td>\n",
              "    </tr>\n",
              "    <tr>\n",
              "      <th id=\"T_7fe5a_level0_row1\" class=\"row_heading level0 row1\" >1</th>\n",
              "      <td id=\"T_7fe5a_row1_col0\" class=\"data row1 col0\" >386.8020</td>\n",
              "      <td id=\"T_7fe5a_row1_col1\" class=\"data row1 col1\" >250652.5625</td>\n",
              "      <td id=\"T_7fe5a_row1_col2\" class=\"data row1 col2\" >500.6521</td>\n",
              "      <td id=\"T_7fe5a_row1_col3\" class=\"data row1 col3\" >0.9671</td>\n",
              "      <td id=\"T_7fe5a_row1_col4\" class=\"data row1 col4\" >0.0869</td>\n",
              "      <td id=\"T_7fe5a_row1_col5\" class=\"data row1 col5\" >0.0733</td>\n",
              "    </tr>\n",
              "    <tr>\n",
              "      <th id=\"T_7fe5a_level0_row2\" class=\"row_heading level0 row2\" >2</th>\n",
              "      <td id=\"T_7fe5a_row2_col0\" class=\"data row2 col0\" >362.7656</td>\n",
              "      <td id=\"T_7fe5a_row2_col1\" class=\"data row2 col1\" >244445.5625</td>\n",
              "      <td id=\"T_7fe5a_row2_col2\" class=\"data row2 col2\" >494.4144</td>\n",
              "      <td id=\"T_7fe5a_row2_col3\" class=\"data row2 col3\" >0.9566</td>\n",
              "      <td id=\"T_7fe5a_row2_col4\" class=\"data row2 col4\" >0.0904</td>\n",
              "      <td id=\"T_7fe5a_row2_col5\" class=\"data row2 col5\" >0.0648</td>\n",
              "    </tr>\n",
              "    <tr>\n",
              "      <th id=\"T_7fe5a_level0_row3\" class=\"row_heading level0 row3\" >3</th>\n",
              "      <td id=\"T_7fe5a_row3_col0\" class=\"data row3 col0\" >293.5306</td>\n",
              "      <td id=\"T_7fe5a_row3_col1\" class=\"data row3 col1\" >157825.7969</td>\n",
              "      <td id=\"T_7fe5a_row3_col2\" class=\"data row3 col2\" >397.2729</td>\n",
              "      <td id=\"T_7fe5a_row3_col3\" class=\"data row3 col3\" >0.9685</td>\n",
              "      <td id=\"T_7fe5a_row3_col4\" class=\"data row3 col4\" >0.1005</td>\n",
              "      <td id=\"T_7fe5a_row3_col5\" class=\"data row3 col5\" >0.0773</td>\n",
              "    </tr>\n",
              "    <tr>\n",
              "      <th id=\"T_7fe5a_level0_row4\" class=\"row_heading level0 row4\" >4</th>\n",
              "      <td id=\"T_7fe5a_row4_col0\" class=\"data row4 col0\" >443.0511</td>\n",
              "      <td id=\"T_7fe5a_row4_col1\" class=\"data row4 col1\" >349961.6875</td>\n",
              "      <td id=\"T_7fe5a_row4_col2\" class=\"data row4 col2\" >591.5756</td>\n",
              "      <td id=\"T_7fe5a_row4_col3\" class=\"data row4 col3\" >0.9625</td>\n",
              "      <td id=\"T_7fe5a_row4_col4\" class=\"data row4 col4\" >0.1180</td>\n",
              "      <td id=\"T_7fe5a_row4_col5\" class=\"data row4 col5\" >0.0987</td>\n",
              "    </tr>\n",
              "    <tr>\n",
              "      <th id=\"T_7fe5a_level0_row5\" class=\"row_heading level0 row5\" >5</th>\n",
              "      <td id=\"T_7fe5a_row5_col0\" class=\"data row5 col0\" >380.0340</td>\n",
              "      <td id=\"T_7fe5a_row5_col1\" class=\"data row5 col1\" >288097.6250</td>\n",
              "      <td id=\"T_7fe5a_row5_col2\" class=\"data row5 col2\" >536.7473</td>\n",
              "      <td id=\"T_7fe5a_row5_col3\" class=\"data row5 col3\" >0.9397</td>\n",
              "      <td id=\"T_7fe5a_row5_col4\" class=\"data row5 col4\" >0.1246</td>\n",
              "      <td id=\"T_7fe5a_row5_col5\" class=\"data row5 col5\" >0.0977</td>\n",
              "    </tr>\n",
              "    <tr>\n",
              "      <th id=\"T_7fe5a_level0_row6\" class=\"row_heading level0 row6\" >6</th>\n",
              "      <td id=\"T_7fe5a_row6_col0\" class=\"data row6 col0\" >557.7722</td>\n",
              "      <td id=\"T_7fe5a_row6_col1\" class=\"data row6 col1\" >535782.8125</td>\n",
              "      <td id=\"T_7fe5a_row6_col2\" class=\"data row6 col2\" >731.9719</td>\n",
              "      <td id=\"T_7fe5a_row6_col3\" class=\"data row6 col3\" >0.8273</td>\n",
              "      <td id=\"T_7fe5a_row6_col4\" class=\"data row6 col4\" >0.1415</td>\n",
              "      <td id=\"T_7fe5a_row6_col5\" class=\"data row6 col5\" >0.1164</td>\n",
              "    </tr>\n",
              "    <tr>\n",
              "      <th id=\"T_7fe5a_level0_row7\" class=\"row_heading level0 row7\" >7</th>\n",
              "      <td id=\"T_7fe5a_row7_col0\" class=\"data row7 col0\" >307.1191</td>\n",
              "      <td id=\"T_7fe5a_row7_col1\" class=\"data row7 col1\" >148188.7656</td>\n",
              "      <td id=\"T_7fe5a_row7_col2\" class=\"data row7 col2\" >384.9529</td>\n",
              "      <td id=\"T_7fe5a_row7_col3\" class=\"data row7 col3\" >0.9766</td>\n",
              "      <td id=\"T_7fe5a_row7_col4\" class=\"data row7 col4\" >0.0925</td>\n",
              "      <td id=\"T_7fe5a_row7_col5\" class=\"data row7 col5\" >0.0805</td>\n",
              "    </tr>\n",
              "    <tr>\n",
              "      <th id=\"T_7fe5a_level0_row8\" class=\"row_heading level0 row8\" >8</th>\n",
              "      <td id=\"T_7fe5a_row8_col0\" class=\"data row8 col0\" >434.5976</td>\n",
              "      <td id=\"T_7fe5a_row8_col1\" class=\"data row8 col1\" >301634.8438</td>\n",
              "      <td id=\"T_7fe5a_row8_col2\" class=\"data row8 col2\" >549.2130</td>\n",
              "      <td id=\"T_7fe5a_row8_col3\" class=\"data row8 col3\" >0.9622</td>\n",
              "      <td id=\"T_7fe5a_row8_col4\" class=\"data row8 col4\" >0.1078</td>\n",
              "      <td id=\"T_7fe5a_row8_col5\" class=\"data row8 col5\" >0.0866</td>\n",
              "    </tr>\n",
              "    <tr>\n",
              "      <th id=\"T_7fe5a_level0_row9\" class=\"row_heading level0 row9\" >9</th>\n",
              "      <td id=\"T_7fe5a_row9_col0\" class=\"data row9 col0\" >377.4463</td>\n",
              "      <td id=\"T_7fe5a_row9_col1\" class=\"data row9 col1\" >201030.4531</td>\n",
              "      <td id=\"T_7fe5a_row9_col2\" class=\"data row9 col2\" >448.3642</td>\n",
              "      <td id=\"T_7fe5a_row9_col3\" class=\"data row9 col3\" >0.9770</td>\n",
              "      <td id=\"T_7fe5a_row9_col4\" class=\"data row9 col4\" >0.1548</td>\n",
              "      <td id=\"T_7fe5a_row9_col5\" class=\"data row9 col5\" >0.1234</td>\n",
              "    </tr>\n",
              "    <tr>\n",
              "      <th id=\"T_7fe5a_level0_row10\" class=\"row_heading level0 row10\" >Mean</th>\n",
              "      <td id=\"T_7fe5a_row10_col0\" class=\"data row10 col0\" >385.0282</td>\n",
              "      <td id=\"T_7fe5a_row10_col1\" class=\"data row10 col1\" >267595.6594</td>\n",
              "      <td id=\"T_7fe5a_row10_col2\" class=\"data row10 col2\" >508.0514</td>\n",
              "      <td id=\"T_7fe5a_row10_col3\" class=\"data row10 col3\" >0.9496</td>\n",
              "      <td id=\"T_7fe5a_row10_col4\" class=\"data row10 col4\" >0.1111</td>\n",
              "      <td id=\"T_7fe5a_row10_col5\" class=\"data row10 col5\" >0.0888</td>\n",
              "    </tr>\n",
              "    <tr>\n",
              "      <th id=\"T_7fe5a_level0_row11\" class=\"row_heading level0 row11\" >Std</th>\n",
              "      <td id=\"T_7fe5a_row11_col0\" class=\"data row11 col0\" >75.3326</td>\n",
              "      <td id=\"T_7fe5a_row11_col1\" class=\"data row11 col1\" >108002.6356</td>\n",
              "      <td id=\"T_7fe5a_row11_col2\" class=\"data row11 col2\" >97.3623</td>\n",
              "      <td id=\"T_7fe5a_row11_col3\" class=\"data row11 col3\" >0.0420</td>\n",
              "      <td id=\"T_7fe5a_row11_col4\" class=\"data row11 col4\" >0.0221</td>\n",
              "      <td id=\"T_7fe5a_row11_col5\" class=\"data row11 col5\" >0.0188</td>\n",
              "    </tr>\n",
              "  </tbody>\n",
              "</table>\n"
            ],
            "text/plain": [
              "<pandas.io.formats.style.Styler at 0x1d684901970>"
            ]
          },
          "metadata": {},
          "output_type": "display_data"
        },
        {
          "data": {
            "text/html": [
              "<style>#sk-container-id-3 {color: black;background-color: white;}#sk-container-id-3 pre{padding: 0;}#sk-container-id-3 div.sk-toggleable {background-color: white;}#sk-container-id-3 label.sk-toggleable__label {cursor: pointer;display: block;width: 100%;margin-bottom: 0;padding: 0.3em;box-sizing: border-box;text-align: center;}#sk-container-id-3 label.sk-toggleable__label-arrow:before {content: \"▸\";float: left;margin-right: 0.25em;color: #696969;}#sk-container-id-3 label.sk-toggleable__label-arrow:hover:before {color: black;}#sk-container-id-3 div.sk-estimator:hover label.sk-toggleable__label-arrow:before {color: black;}#sk-container-id-3 div.sk-toggleable__content {max-height: 0;max-width: 0;overflow: hidden;text-align: left;background-color: #f0f8ff;}#sk-container-id-3 div.sk-toggleable__content pre {margin: 0.2em;color: black;border-radius: 0.25em;background-color: #f0f8ff;}#sk-container-id-3 input.sk-toggleable__control:checked~div.sk-toggleable__content {max-height: 200px;max-width: 100%;overflow: auto;}#sk-container-id-3 input.sk-toggleable__control:checked~label.sk-toggleable__label-arrow:before {content: \"▾\";}#sk-container-id-3 div.sk-estimator input.sk-toggleable__control:checked~label.sk-toggleable__label {background-color: #d4ebff;}#sk-container-id-3 div.sk-label input.sk-toggleable__control:checked~label.sk-toggleable__label {background-color: #d4ebff;}#sk-container-id-3 input.sk-hidden--visually {border: 0;clip: rect(1px 1px 1px 1px);clip: rect(1px, 1px, 1px, 1px);height: 1px;margin: -1px;overflow: hidden;padding: 0;position: absolute;width: 1px;}#sk-container-id-3 div.sk-estimator {font-family: monospace;background-color: #f0f8ff;border: 1px dotted black;border-radius: 0.25em;box-sizing: border-box;margin-bottom: 0.5em;}#sk-container-id-3 div.sk-estimator:hover {background-color: #d4ebff;}#sk-container-id-3 div.sk-parallel-item::after {content: \"\";width: 100%;border-bottom: 1px solid gray;flex-grow: 1;}#sk-container-id-3 div.sk-label:hover label.sk-toggleable__label {background-color: #d4ebff;}#sk-container-id-3 div.sk-serial::before {content: \"\";position: absolute;border-left: 1px solid gray;box-sizing: border-box;top: 0;bottom: 0;left: 50%;z-index: 0;}#sk-container-id-3 div.sk-serial {display: flex;flex-direction: column;align-items: center;background-color: white;padding-right: 0.2em;padding-left: 0.2em;position: relative;}#sk-container-id-3 div.sk-item {position: relative;z-index: 1;}#sk-container-id-3 div.sk-parallel {display: flex;align-items: stretch;justify-content: center;background-color: white;position: relative;}#sk-container-id-3 div.sk-item::before, #sk-container-id-3 div.sk-parallel-item::before {content: \"\";position: absolute;border-left: 1px solid gray;box-sizing: border-box;top: 0;bottom: 0;left: 50%;z-index: -1;}#sk-container-id-3 div.sk-parallel-item {display: flex;flex-direction: column;z-index: 1;position: relative;background-color: white;}#sk-container-id-3 div.sk-parallel-item:first-child::after {align-self: flex-end;width: 50%;}#sk-container-id-3 div.sk-parallel-item:last-child::after {align-self: flex-start;width: 50%;}#sk-container-id-3 div.sk-parallel-item:only-child::after {width: 0;}#sk-container-id-3 div.sk-dashed-wrapped {border: 1px dashed gray;margin: 0 0.4em 0.5em 0.4em;box-sizing: border-box;padding-bottom: 0.4em;background-color: white;}#sk-container-id-3 div.sk-label label {font-family: monospace;font-weight: bold;display: inline-block;line-height: 1.2em;}#sk-container-id-3 div.sk-label-container {text-align: center;}#sk-container-id-3 div.sk-container {/* jupyter's `normalize.less` sets `[hidden] { display: none; }` but bootstrap.min.css set `[hidden] { display: none !important; }` so we also need the `!important` here to be able to override the default hidden behavior on the sphinx rendered scikit-learn.org. See: https://github.com/scikit-learn/scikit-learn/issues/21755 */display: inline-block !important;position: relative;}#sk-container-id-3 div.sk-text-repr-fallback {display: none;}</style><div id=\"sk-container-id-3\" class=\"sk-top-container\"><div class=\"sk-text-repr-fallback\"><pre>Lasso(random_state=1831)</pre><b>In a Jupyter environment, please rerun this cell to show the HTML representation or trust the notebook. <br />On GitHub, the HTML representation is unable to render, please try loading this page with nbviewer.org.</b></div><div class=\"sk-container\" hidden><div class=\"sk-item\"><div class=\"sk-estimator sk-toggleable\"><input class=\"sk-toggleable__control sk-hidden--visually\" id=\"sk-estimator-id-3\" type=\"checkbox\" checked><label for=\"sk-estimator-id-3\" class=\"sk-toggleable__label sk-toggleable__label-arrow\">Lasso</label><div class=\"sk-toggleable__content\"><pre>Lasso(random_state=1831)</pre></div></div></div></div></div>"
            ],
            "text/plain": [
              "Lasso(random_state=1831)"
            ]
          },
          "execution_count": 24,
          "metadata": {},
          "output_type": "execute_result"
        }
      ],
      "source": [
        "lasso=create_model(\"lasso\")\n",
        "lasso"
      ]
    },
    {
      "cell_type": "code",
      "execution_count": 25,
      "metadata": {},
      "outputs": [
        {
          "name": "stdout",
          "output_type": "stream",
          "text": [
            "A : 22.0549\n",
            "B : 3.1327\n",
            "m : 6569.6982\n"
          ]
        }
      ],
      "source": [
        "for feature_name, weight in zip(lasso.feature_names_in_,lasso.coef_):\n",
        "    if weight >0.0001:\n",
        "        print(\"{} : {:.4f}\".format(feature_name.replace(\" \",\"*\"),weight))"
      ]
    },
    {
      "cell_type": "code",
      "execution_count": 26,
      "metadata": {},
      "outputs": [
        {
          "data": {
            "image/png": "[encoded data removed]",
            "text/plain": [
              "<Figure size 700x600 with 1 Axes>"
            ]
          },
          "metadata": {
            "needs_background": "light"
          },
          "output_type": "display_data"
        }
      ],
      "source": [
        "plot_model(lasso,\"pipeline\")"
      ]
    },
    {
      "cell_type": "code",
      "execution_count": 27,
      "metadata": {},
      "outputs": [
        {
          "data": {
            "text/html": [],
            "text/plain": [
              "<IPython.core.display.HTML object>"
            ]
          },
          "metadata": {},
          "output_type": "display_data"
        },
        {
          "data": {
            "image/png": "[encoded data removed]",
            "text/plain": [
              "<Figure size 432x288 with 2 Axes>"
            ]
          },
          "metadata": {
            "needs_background": "light"
          },
          "output_type": "display_data"
        }
      ],
      "source": [
        "plot_model(lasso, plot='residuals')"
      ]
    },
    {
      "cell_type": "code",
      "execution_count": 28,
      "metadata": {},
      "outputs": [
        {
          "data": {
            "text/html": [],
            "text/plain": [
              "<IPython.core.display.HTML object>"
            ]
          },
          "metadata": {},
          "output_type": "display_data"
        },
        {
          "data": {
            "image/png": "[encoded data removed]",
            "text/plain": [
              "<Figure size 432x288 with 1 Axes>"
            ]
          },
          "metadata": {
            "needs_background": "light"
          },
          "output_type": "display_data"
        }
      ],
      "source": [
        "plot_model(lasso, plot='error')"
      ]
    },
    {
      "cell_type": "code",
      "execution_count": 29,
      "metadata": {},
      "outputs": [
        {
          "data": {
            "text/html": [],
            "text/plain": [
              "<IPython.core.display.HTML object>"
            ]
          },
          "metadata": {},
          "output_type": "display_data"
        },
        {
          "data": {
            "image/png": "[encoded data removed]",
            "text/plain": [
              "<Figure size 800x500 with 1 Axes>"
            ]
          },
          "metadata": {
            "needs_background": "light"
          },
          "output_type": "display_data"
        }
      ],
      "source": [
        "plot_model(lasso, plot='feature')"
      ]
    },
    {
      "cell_type": "code",
      "execution_count": 30,
      "metadata": {},
      "outputs": [
        {
          "name": "stdout",
          "output_type": "stream",
          "text": [
            "Transformation Pipeline and Model Successfully Saved\n"
          ]
        },
        {
          "data": {
            "text/plain": [
              "(Pipeline(memory=FastMemory(location=C:\\Users\\99823827\\AppData\\Local\\Temp\\joblib),\n",
              "          steps=[('placeholder', None),\n",
              "                 ('trained_model', Lasso(random_state=1831))]),\n",
              " 'models/lasso_v1.pkl')"
            ]
          },
          "execution_count": 30,
          "metadata": {},
          "output_type": "execute_result"
        }
      ],
      "source": [
        "save_model(lasso,\"models/lasso_v1\",verbose=True)"
      ]
    },
    {
      "attachments": {},
      "cell_type": "markdown",
      "metadata": {},
      "source": [
        "## Investigando LightGBM"
      ]
    },
    {
      "cell_type": "code",
      "execution_count": 31,
      "metadata": {},
      "outputs": [
        {
          "data": {
            "text/html": [
              "<div>\n",
              "<style scoped>\n",
              "    .dataframe tbody tr th:only-of-type {\n",
              "        vertical-align: middle;\n",
              "    }\n",
              "\n",
              "    .dataframe tbody tr th {\n",
              "        vertical-align: top;\n",
              "    }\n",
              "\n",
              "    .dataframe thead th {\n",
              "        text-align: right;\n",
              "    }\n",
              "</style>\n",
              "<table border=\"1\" class=\"dataframe\">\n",
              "  <thead>\n",
              "    <tr style=\"text-align: right;\">\n",
              "      <th></th>\n",
              "      <th></th>\n",
              "      <th></th>\n",
              "    </tr>\n",
              "    <tr>\n",
              "      <th></th>\n",
              "      <th></th>\n",
              "      <th></th>\n",
              "    </tr>\n",
              "  </thead>\n",
              "  <tbody>\n",
              "    <tr>\n",
              "      <th>Initiated</th>\n",
              "      <td>. . . . . . . . . . . . . . . . . .</td>\n",
              "      <td>17:02:03</td>\n",
              "    </tr>\n",
              "    <tr>\n",
              "      <th>Status</th>\n",
              "      <td>. . . . . . . . . . . . . . . . . .</td>\n",
              "      <td>Fitting 10 Folds</td>\n",
              "    </tr>\n",
              "    <tr>\n",
              "      <th>Estimator</th>\n",
              "      <td>. . . . . . . . . . . . . . . . . .</td>\n",
              "      <td>Light Gradient Boosting Machine</td>\n",
              "    </tr>\n",
              "  </tbody>\n",
              "</table>\n",
              "</div>"
            ],
            "text/plain": [
              "                                                \\\n",
              "                                                 \n",
              "Initiated  . . . . . . . . . . . . . . . . . .   \n",
              "Status     . . . . . . . . . . . . . . . . . .   \n",
              "Estimator  . . . . . . . . . . . . . . . . . .   \n",
              "\n",
              "                                            \n",
              "                                            \n",
              "Initiated                         17:02:03  \n",
              "Status                    Fitting 10 Folds  \n",
              "Estimator  Light Gradient Boosting Machine  "
            ]
          },
          "metadata": {},
          "output_type": "display_data"
        },
        {
          "data": {
            "text/html": [
              "<style type=\"text/css\">\n",
              "#T_08874_row10_col0, #T_08874_row10_col1, #T_08874_row10_col2, #T_08874_row10_col3, #T_08874_row10_col4, #T_08874_row10_col5 {\n",
              "  background: yellow;\n",
              "}\n",
              "</style>\n",
              "<table id=\"T_08874\">\n",
              "  <thead>\n",
              "    <tr>\n",
              "      <th class=\"blank level0\" >&nbsp;</th>\n",
              "      <th id=\"T_08874_level0_col0\" class=\"col_heading level0 col0\" >MAE</th>\n",
              "      <th id=\"T_08874_level0_col1\" class=\"col_heading level0 col1\" >MSE</th>\n",
              "      <th id=\"T_08874_level0_col2\" class=\"col_heading level0 col2\" >RMSE</th>\n",
              "      <th id=\"T_08874_level0_col3\" class=\"col_heading level0 col3\" >R2</th>\n",
              "      <th id=\"T_08874_level0_col4\" class=\"col_heading level0 col4\" >RMSLE</th>\n",
              "      <th id=\"T_08874_level0_col5\" class=\"col_heading level0 col5\" >MAPE</th>\n",
              "    </tr>\n",
              "    <tr>\n",
              "      <th class=\"index_name level0\" >Fold</th>\n",
              "      <th class=\"blank col0\" >&nbsp;</th>\n",
              "      <th class=\"blank col1\" >&nbsp;</th>\n",
              "      <th class=\"blank col2\" >&nbsp;</th>\n",
              "      <th class=\"blank col3\" >&nbsp;</th>\n",
              "      <th class=\"blank col4\" >&nbsp;</th>\n",
              "      <th class=\"blank col5\" >&nbsp;</th>\n",
              "    </tr>\n",
              "  </thead>\n",
              "  <tbody>\n",
              "    <tr>\n",
              "      <th id=\"T_08874_level0_row0\" class=\"row_heading level0 row0\" >0</th>\n",
              "      <td id=\"T_08874_row0_col0\" class=\"data row0 col0\" >338.7084</td>\n",
              "      <td id=\"T_08874_row0_col1\" class=\"data row0 col1\" >230312.3188</td>\n",
              "      <td id=\"T_08874_row0_col2\" class=\"data row0 col2\" >479.9087</td>\n",
              "      <td id=\"T_08874_row0_col3\" class=\"data row0 col3\" >0.9518</td>\n",
              "      <td id=\"T_08874_row0_col4\" class=\"data row0 col4\" >0.1002</td>\n",
              "      <td id=\"T_08874_row0_col5\" class=\"data row0 col5\" >0.0743</td>\n",
              "    </tr>\n",
              "    <tr>\n",
              "      <th id=\"T_08874_level0_row1\" class=\"row_heading level0 row1\" >1</th>\n",
              "      <td id=\"T_08874_row1_col0\" class=\"data row1 col0\" >389.0463</td>\n",
              "      <td id=\"T_08874_row1_col1\" class=\"data row1 col1\" >277467.3515</td>\n",
              "      <td id=\"T_08874_row1_col2\" class=\"data row1 col2\" >526.7517</td>\n",
              "      <td id=\"T_08874_row1_col3\" class=\"data row1 col3\" >0.9636</td>\n",
              "      <td id=\"T_08874_row1_col4\" class=\"data row1 col4\" >0.0813</td>\n",
              "      <td id=\"T_08874_row1_col5\" class=\"data row1 col5\" >0.0649</td>\n",
              "    </tr>\n",
              "    <tr>\n",
              "      <th id=\"T_08874_level0_row2\" class=\"row_heading level0 row2\" >2</th>\n",
              "      <td id=\"T_08874_row2_col0\" class=\"data row2 col0\" >292.4834</td>\n",
              "      <td id=\"T_08874_row2_col1\" class=\"data row2 col1\" >151404.3744</td>\n",
              "      <td id=\"T_08874_row2_col2\" class=\"data row2 col2\" >389.1072</td>\n",
              "      <td id=\"T_08874_row2_col3\" class=\"data row2 col3\" >0.9731</td>\n",
              "      <td id=\"T_08874_row2_col4\" class=\"data row2 col4\" >0.0734</td>\n",
              "      <td id=\"T_08874_row2_col5\" class=\"data row2 col5\" >0.0548</td>\n",
              "    </tr>\n",
              "    <tr>\n",
              "      <th id=\"T_08874_level0_row3\" class=\"row_heading level0 row3\" >3</th>\n",
              "      <td id=\"T_08874_row3_col0\" class=\"data row3 col0\" >260.2682</td>\n",
              "      <td id=\"T_08874_row3_col1\" class=\"data row3 col1\" >161608.6680</td>\n",
              "      <td id=\"T_08874_row3_col2\" class=\"data row3 col2\" >402.0058</td>\n",
              "      <td id=\"T_08874_row3_col3\" class=\"data row3 col3\" >0.9677</td>\n",
              "      <td id=\"T_08874_row3_col4\" class=\"data row3 col4\" >0.1021</td>\n",
              "      <td id=\"T_08874_row3_col5\" class=\"data row3 col5\" >0.0725</td>\n",
              "    </tr>\n",
              "    <tr>\n",
              "      <th id=\"T_08874_level0_row4\" class=\"row_heading level0 row4\" >4</th>\n",
              "      <td id=\"T_08874_row4_col0\" class=\"data row4 col0\" >379.7824</td>\n",
              "      <td id=\"T_08874_row4_col1\" class=\"data row4 col1\" >287948.0220</td>\n",
              "      <td id=\"T_08874_row4_col2\" class=\"data row4 col2\" >536.6079</td>\n",
              "      <td id=\"T_08874_row4_col3\" class=\"data row4 col3\" >0.9692</td>\n",
              "      <td id=\"T_08874_row4_col4\" class=\"data row4 col4\" >0.1109</td>\n",
              "      <td id=\"T_08874_row4_col5\" class=\"data row4 col5\" >0.0871</td>\n",
              "    </tr>\n",
              "    <tr>\n",
              "      <th id=\"T_08874_level0_row5\" class=\"row_heading level0 row5\" >5</th>\n",
              "      <td id=\"T_08874_row5_col0\" class=\"data row5 col0\" >335.3102</td>\n",
              "      <td id=\"T_08874_row5_col1\" class=\"data row5 col1\" >237481.4024</td>\n",
              "      <td id=\"T_08874_row5_col2\" class=\"data row5 col2\" >487.3206</td>\n",
              "      <td id=\"T_08874_row5_col3\" class=\"data row5 col3\" >0.9503</td>\n",
              "      <td id=\"T_08874_row5_col4\" class=\"data row5 col4\" >0.1075</td>\n",
              "      <td id=\"T_08874_row5_col5\" class=\"data row5 col5\" >0.0833</td>\n",
              "    </tr>\n",
              "    <tr>\n",
              "      <th id=\"T_08874_level0_row6\" class=\"row_heading level0 row6\" >6</th>\n",
              "      <td id=\"T_08874_row6_col0\" class=\"data row6 col0\" >440.2531</td>\n",
              "      <td id=\"T_08874_row6_col1\" class=\"data row6 col1\" >351654.5610</td>\n",
              "      <td id=\"T_08874_row6_col2\" class=\"data row6 col2\" >593.0047</td>\n",
              "      <td id=\"T_08874_row6_col3\" class=\"data row6 col3\" >0.8866</td>\n",
              "      <td id=\"T_08874_row6_col4\" class=\"data row6 col4\" >0.1176</td>\n",
              "      <td id=\"T_08874_row6_col5\" class=\"data row6 col5\" >0.1000</td>\n",
              "    </tr>\n",
              "    <tr>\n",
              "      <th id=\"T_08874_level0_row7\" class=\"row_heading level0 row7\" >7</th>\n",
              "      <td id=\"T_08874_row7_col0\" class=\"data row7 col0\" >303.1667</td>\n",
              "      <td id=\"T_08874_row7_col1\" class=\"data row7 col1\" >174971.8956</td>\n",
              "      <td id=\"T_08874_row7_col2\" class=\"data row7 col2\" >418.2964</td>\n",
              "      <td id=\"T_08874_row7_col3\" class=\"data row7 col3\" >0.9723</td>\n",
              "      <td id=\"T_08874_row7_col4\" class=\"data row7 col4\" >0.0852</td>\n",
              "      <td id=\"T_08874_row7_col5\" class=\"data row7 col5\" >0.0698</td>\n",
              "    </tr>\n",
              "    <tr>\n",
              "      <th id=\"T_08874_level0_row8\" class=\"row_heading level0 row8\" >8</th>\n",
              "      <td id=\"T_08874_row8_col0\" class=\"data row8 col0\" >435.4070</td>\n",
              "      <td id=\"T_08874_row8_col1\" class=\"data row8 col1\" >322637.4953</td>\n",
              "      <td id=\"T_08874_row8_col2\" class=\"data row8 col2\" >568.0119</td>\n",
              "      <td id=\"T_08874_row8_col3\" class=\"data row8 col3\" >0.9595</td>\n",
              "      <td id=\"T_08874_row8_col4\" class=\"data row8 col4\" >0.1108</td>\n",
              "      <td id=\"T_08874_row8_col5\" class=\"data row8 col5\" >0.0862</td>\n",
              "    </tr>\n",
              "    <tr>\n",
              "      <th id=\"T_08874_level0_row9\" class=\"row_heading level0 row9\" >9</th>\n",
              "      <td id=\"T_08874_row9_col0\" class=\"data row9 col0\" >280.8622</td>\n",
              "      <td id=\"T_08874_row9_col1\" class=\"data row9 col1\" >142100.6628</td>\n",
              "      <td id=\"T_08874_row9_col2\" class=\"data row9 col2\" >376.9624</td>\n",
              "      <td id=\"T_08874_row9_col3\" class=\"data row9 col3\" >0.9837</td>\n",
              "      <td id=\"T_08874_row9_col4\" class=\"data row9 col4\" >0.1249</td>\n",
              "      <td id=\"T_08874_row9_col5\" class=\"data row9 col5\" >0.0923</td>\n",
              "    </tr>\n",
              "    <tr>\n",
              "      <th id=\"T_08874_level0_row10\" class=\"row_heading level0 row10\" >Mean</th>\n",
              "      <td id=\"T_08874_row10_col0\" class=\"data row10 col0\" >345.5288</td>\n",
              "      <td id=\"T_08874_row10_col1\" class=\"data row10 col1\" >233758.6752</td>\n",
              "      <td id=\"T_08874_row10_col2\" class=\"data row10 col2\" >477.7977</td>\n",
              "      <td id=\"T_08874_row10_col3\" class=\"data row10 col3\" >0.9578</td>\n",
              "      <td id=\"T_08874_row10_col4\" class=\"data row10 col4\" >0.1014</td>\n",
              "      <td id=\"T_08874_row10_col5\" class=\"data row10 col5\" >0.0785</td>\n",
              "    </tr>\n",
              "    <tr>\n",
              "      <th id=\"T_08874_level0_row11\" class=\"row_heading level0 row11\" >Std</th>\n",
              "      <td id=\"T_08874_row11_col0\" class=\"data row11 col0\" >60.2730</td>\n",
              "      <td id=\"T_08874_row11_col1\" class=\"data row11 col1\" >71074.9502</td>\n",
              "      <td id=\"T_08874_row11_col2\" class=\"data row11 col2\" >73.9460</td>\n",
              "      <td id=\"T_08874_row11_col3\" class=\"data row11 col3\" >0.0256</td>\n",
              "      <td id=\"T_08874_row11_col4\" class=\"data row11 col4\" >0.0158</td>\n",
              "      <td id=\"T_08874_row11_col5\" class=\"data row11 col5\" >0.0130</td>\n",
              "    </tr>\n",
              "  </tbody>\n",
              "</table>\n"
            ],
            "text/plain": [
              "<pandas.io.formats.style.Styler at 0x1d68443ff70>"
            ]
          },
          "metadata": {},
          "output_type": "display_data"
        }
      ],
      "source": [
        "lgbm=create_model(\"lightgbm\")"
      ]
    },
    {
      "cell_type": "code",
      "execution_count": 32,
      "metadata": {},
      "outputs": [
        {
          "data": {
            "text/html": [
              "<style>#sk-container-id-4 {color: black;background-color: white;}#sk-container-id-4 pre{padding: 0;}#sk-container-id-4 div.sk-toggleable {background-color: white;}#sk-container-id-4 label.sk-toggleable__label {cursor: pointer;display: block;width: 100%;margin-bottom: 0;padding: 0.3em;box-sizing: border-box;text-align: center;}#sk-container-id-4 label.sk-toggleable__label-arrow:before {content: \"▸\";float: left;margin-right: 0.25em;color: #696969;}#sk-container-id-4 label.sk-toggleable__label-arrow:hover:before {color: black;}#sk-container-id-4 div.sk-estimator:hover label.sk-toggleable__label-arrow:before {color: black;}#sk-container-id-4 div.sk-toggleable__content {max-height: 0;max-width: 0;overflow: hidden;text-align: left;background-color: #f0f8ff;}#sk-container-id-4 div.sk-toggleable__content pre {margin: 0.2em;color: black;border-radius: 0.25em;background-color: #f0f8ff;}#sk-container-id-4 input.sk-toggleable__control:checked~div.sk-toggleable__content {max-height: 200px;max-width: 100%;overflow: auto;}#sk-container-id-4 input.sk-toggleable__control:checked~label.sk-toggleable__label-arrow:before {content: \"▾\";}#sk-container-id-4 div.sk-estimator input.sk-toggleable__control:checked~label.sk-toggleable__label {background-color: #d4ebff;}#sk-container-id-4 div.sk-label input.sk-toggleable__control:checked~label.sk-toggleable__label {background-color: #d4ebff;}#sk-container-id-4 input.sk-hidden--visually {border: 0;clip: rect(1px 1px 1px 1px);clip: rect(1px, 1px, 1px, 1px);height: 1px;margin: -1px;overflow: hidden;padding: 0;position: absolute;width: 1px;}#sk-container-id-4 div.sk-estimator {font-family: monospace;background-color: #f0f8ff;border: 1px dotted black;border-radius: 0.25em;box-sizing: border-box;margin-bottom: 0.5em;}#sk-container-id-4 div.sk-estimator:hover {background-color: #d4ebff;}#sk-container-id-4 div.sk-parallel-item::after {content: \"\";width: 100%;border-bottom: 1px solid gray;flex-grow: 1;}#sk-container-id-4 div.sk-label:hover label.sk-toggleable__label {background-color: #d4ebff;}#sk-container-id-4 div.sk-serial::before {content: \"\";position: absolute;border-left: 1px solid gray;box-sizing: border-box;top: 0;bottom: 0;left: 50%;z-index: 0;}#sk-container-id-4 div.sk-serial {display: flex;flex-direction: column;align-items: center;background-color: white;padding-right: 0.2em;padding-left: 0.2em;position: relative;}#sk-container-id-4 div.sk-item {position: relative;z-index: 1;}#sk-container-id-4 div.sk-parallel {display: flex;align-items: stretch;justify-content: center;background-color: white;position: relative;}#sk-container-id-4 div.sk-item::before, #sk-container-id-4 div.sk-parallel-item::before {content: \"\";position: absolute;border-left: 1px solid gray;box-sizing: border-box;top: 0;bottom: 0;left: 50%;z-index: -1;}#sk-container-id-4 div.sk-parallel-item {display: flex;flex-direction: column;z-index: 1;position: relative;background-color: white;}#sk-container-id-4 div.sk-parallel-item:first-child::after {align-self: flex-end;width: 50%;}#sk-container-id-4 div.sk-parallel-item:last-child::after {align-self: flex-start;width: 50%;}#sk-container-id-4 div.sk-parallel-item:only-child::after {width: 0;}#sk-container-id-4 div.sk-dashed-wrapped {border: 1px dashed gray;margin: 0 0.4em 0.5em 0.4em;box-sizing: border-box;padding-bottom: 0.4em;background-color: white;}#sk-container-id-4 div.sk-label label {font-family: monospace;font-weight: bold;display: inline-block;line-height: 1.2em;}#sk-container-id-4 div.sk-label-container {text-align: center;}#sk-container-id-4 div.sk-container {/* jupyter's `normalize.less` sets `[hidden] { display: none; }` but bootstrap.min.css set `[hidden] { display: none !important; }` so we also need the `!important` here to be able to override the default hidden behavior on the sphinx rendered scikit-learn.org. See: https://github.com/scikit-learn/scikit-learn/issues/21755 */display: inline-block !important;position: relative;}#sk-container-id-4 div.sk-text-repr-fallback {display: none;}</style><div id=\"sk-container-id-4\" class=\"sk-top-container\"><div class=\"sk-text-repr-fallback\"><pre>LGBMRegressor(random_state=1831)</pre><b>In a Jupyter environment, please rerun this cell to show the HTML representation or trust the notebook. <br />On GitHub, the HTML representation is unable to render, please try loading this page with nbviewer.org.</b></div><div class=\"sk-container\" hidden><div class=\"sk-item\"><div class=\"sk-estimator sk-toggleable\"><input class=\"sk-toggleable__control sk-hidden--visually\" id=\"sk-estimator-id-4\" type=\"checkbox\" checked><label for=\"sk-estimator-id-4\" class=\"sk-toggleable__label sk-toggleable__label-arrow\">LGBMRegressor</label><div class=\"sk-toggleable__content\"><pre>LGBMRegressor(random_state=1831)</pre></div></div></div></div></div>"
            ],
            "text/plain": [
              "LGBMRegressor(random_state=1831)"
            ]
          },
          "execution_count": 32,
          "metadata": {},
          "output_type": "execute_result"
        }
      ],
      "source": [
        "lgbm"
      ]
    },
    {
      "cell_type": "code",
      "execution_count": 33,
      "metadata": {},
      "outputs": [
        {
          "data": {
            "image/png": "[encoded data removed]",
            "text/plain": [
              "<Figure size 700x600 with 1 Axes>"
            ]
          },
          "metadata": {
            "needs_background": "light"
          },
          "output_type": "display_data"
        }
      ],
      "source": [
        "plot_model(lgbm, \"pipeline\")"
      ]
    },
    {
      "cell_type": "code",
      "execution_count": 34,
      "metadata": {},
      "outputs": [
        {
          "data": {
            "text/html": [],
            "text/plain": [
              "<IPython.core.display.HTML object>"
            ]
          },
          "metadata": {},
          "output_type": "display_data"
        },
        {
          "data": {
            "image/png": "[encoded data removed]",
            "text/plain": [
              "<Figure size 432x288 with 2 Axes>"
            ]
          },
          "metadata": {
            "needs_background": "light"
          },
          "output_type": "display_data"
        }
      ],
      "source": [
        "plot_model(lgbm, plot='residuals')"
      ]
    },
    {
      "cell_type": "code",
      "execution_count": 35,
      "metadata": {},
      "outputs": [
        {
          "data": {
            "text/html": [],
            "text/plain": [
              "<IPython.core.display.HTML object>"
            ]
          },
          "metadata": {},
          "output_type": "display_data"
        },
        {
          "data": {
            "image/png": "[encoded data removed]",
            "text/plain": [
              "<Figure size 432x288 with 1 Axes>"
            ]
          },
          "metadata": {
            "needs_background": "light"
          },
          "output_type": "display_data"
        }
      ],
      "source": [
        "plot_model(lgbm, plot='error')"
      ]
    },
    {
      "cell_type": "code",
      "execution_count": 36,
      "metadata": {},
      "outputs": [
        {
          "data": {
            "text/html": [],
            "text/plain": [
              "<IPython.core.display.HTML object>"
            ]
          },
          "metadata": {},
          "output_type": "display_data"
        },
        {
          "data": {
            "image/png": "[encoded data removed]",
            "text/plain": [
              "<Figure size 432x288 with 1 Axes>"
            ]
          },
          "metadata": {
            "needs_background": "light"
          },
          "output_type": "display_data"
        }
      ],
      "source": [
        "plot_model(lgbm, plot='learning')"
      ]
    },
    {
      "cell_type": "code",
      "execution_count": 37,
      "metadata": {},
      "outputs": [
        {
          "data": {
            "text/html": [],
            "text/plain": [
              "<IPython.core.display.HTML object>"
            ]
          },
          "metadata": {},
          "output_type": "display_data"
        },
        {
          "data": {
            "image/png": "[encoded data removed]",
            "text/plain": [
              "<Figure size 432x288 with 1 Axes>"
            ]
          },
          "metadata": {
            "needs_background": "light"
          },
          "output_type": "display_data"
        }
      ],
      "source": [
        "plot_model(lgbm, plot='vc')"
      ]
    },
    {
      "cell_type": "code",
      "execution_count": 38,
      "metadata": {},
      "outputs": [
        {
          "data": {
            "text/html": [],
            "text/plain": [
              "<IPython.core.display.HTML object>"
            ]
          },
          "metadata": {},
          "output_type": "display_data"
        },
        {
          "data": {
            "image/png": "[encoded data removed]",
            "text/plain": [
              "<Figure size 800x500 with 1 Axes>"
            ]
          },
          "metadata": {
            "needs_background": "light"
          },
          "output_type": "display_data"
        }
      ],
      "source": [
        "plot_model(lgbm, plot='feature')"
      ]
    },
    {
      "cell_type": "code",
      "execution_count": 39,
      "metadata": {},
      "outputs": [
        {
          "name": "stdout",
          "output_type": "stream",
          "text": [
            "Transformation Pipeline and Model Successfully Saved\n"
          ]
        },
        {
          "data": {
            "text/plain": [
              "(Pipeline(memory=FastMemory(location=C:\\Users\\99823827\\AppData\\Local\\Temp\\joblib),\n",
              "          steps=[('placeholder', None),\n",
              "                 ('trained_model', LGBMRegressor(random_state=1831))]),\n",
              " 'models/lgbm_v1.pkl')"
            ]
          },
          "execution_count": 39,
          "metadata": {},
          "output_type": "execute_result"
        }
      ],
      "source": [
        "save_model(lgbm,\"models/lgbm_v1\",verbose=True)"
      ]
    },
    {
      "attachments": {},
      "cell_type": "markdown",
      "metadata": {},
      "source": [
        "# Modelagem com polynomial features mas filtrando variáveis do material"
      ]
    },
    {
      "cell_type": "code",
      "execution_count": 40,
      "metadata": {},
      "outputs": [
        {
          "data": {
            "text/plain": [
              "Index(['depth', 'vc', 'rake_angle', 'clearance_angle', 'expected_cut_force',\n",
              "       'A', 'B', 'C', 'n', 'm', 'young_modulus', 'poisson_coef'],\n",
              "      dtype='object')"
            ]
          },
          "execution_count": 40,
          "metadata": {},
          "output_type": "execute_result"
        }
      ],
      "source": [
        "df_1.columns"
      ]
    },
    {
      "cell_type": "code",
      "execution_count": 41,
      "metadata": {},
      "outputs": [],
      "source": [
        "df_2=df_1.drop([ 'A', 'B', 'C', 'n', 'm',],axis=1)"
      ]
    },
    {
      "cell_type": "code",
      "execution_count": 52,
      "metadata": {},
      "outputs": [
        {
          "data": {
            "text/html": [
              "<style type=\"text/css\">\n",
              "#T_8f800_row8_col1 {\n",
              "  background-color: lightgreen;\n",
              "}\n",
              "</style>\n",
              "<table id=\"T_8f800\">\n",
              "  <thead>\n",
              "    <tr>\n",
              "      <th class=\"blank level0\" >&nbsp;</th>\n",
              "      <th id=\"T_8f800_level0_col0\" class=\"col_heading level0 col0\" >Description</th>\n",
              "      <th id=\"T_8f800_level0_col1\" class=\"col_heading level0 col1\" >Value</th>\n",
              "    </tr>\n",
              "  </thead>\n",
              "  <tbody>\n",
              "    <tr>\n",
              "      <th id=\"T_8f800_level0_row0\" class=\"row_heading level0 row0\" >0</th>\n",
              "      <td id=\"T_8f800_row0_col0\" class=\"data row0 col0\" >Session id</td>\n",
              "      <td id=\"T_8f800_row0_col1\" class=\"data row0 col1\" >5343</td>\n",
              "    </tr>\n",
              "    <tr>\n",
              "      <th id=\"T_8f800_level0_row1\" class=\"row_heading level0 row1\" >1</th>\n",
              "      <td id=\"T_8f800_row1_col0\" class=\"data row1 col0\" >Target</td>\n",
              "      <td id=\"T_8f800_row1_col1\" class=\"data row1 col1\" >expected_cut_force</td>\n",
              "    </tr>\n",
              "    <tr>\n",
              "      <th id=\"T_8f800_level0_row2\" class=\"row_heading level0 row2\" >2</th>\n",
              "      <td id=\"T_8f800_row2_col0\" class=\"data row2 col0\" >Target type</td>\n",
              "      <td id=\"T_8f800_row2_col1\" class=\"data row2 col1\" >Regression</td>\n",
              "    </tr>\n",
              "    <tr>\n",
              "      <th id=\"T_8f800_level0_row3\" class=\"row_heading level0 row3\" >3</th>\n",
              "      <td id=\"T_8f800_row3_col0\" class=\"data row3 col0\" >Original data shape</td>\n",
              "      <td id=\"T_8f800_row3_col1\" class=\"data row3 col1\" >(324, 7)</td>\n",
              "    </tr>\n",
              "    <tr>\n",
              "      <th id=\"T_8f800_level0_row4\" class=\"row_heading level0 row4\" >4</th>\n",
              "      <td id=\"T_8f800_row4_col0\" class=\"data row4 col0\" >Transformed data shape</td>\n",
              "      <td id=\"T_8f800_row4_col1\" class=\"data row4 col1\" >(324, 7)</td>\n",
              "    </tr>\n",
              "    <tr>\n",
              "      <th id=\"T_8f800_level0_row5\" class=\"row_heading level0 row5\" >5</th>\n",
              "      <td id=\"T_8f800_row5_col0\" class=\"data row5 col0\" >Transformed train set shape</td>\n",
              "      <td id=\"T_8f800_row5_col1\" class=\"data row5 col1\" >(226, 7)</td>\n",
              "    </tr>\n",
              "    <tr>\n",
              "      <th id=\"T_8f800_level0_row6\" class=\"row_heading level0 row6\" >6</th>\n",
              "      <td id=\"T_8f800_row6_col0\" class=\"data row6 col0\" >Transformed test set shape</td>\n",
              "      <td id=\"T_8f800_row6_col1\" class=\"data row6 col1\" >(98, 7)</td>\n",
              "    </tr>\n",
              "    <tr>\n",
              "      <th id=\"T_8f800_level0_row7\" class=\"row_heading level0 row7\" >7</th>\n",
              "      <td id=\"T_8f800_row7_col0\" class=\"data row7 col0\" >Numeric features</td>\n",
              "      <td id=\"T_8f800_row7_col1\" class=\"data row7 col1\" >6</td>\n",
              "    </tr>\n",
              "    <tr>\n",
              "      <th id=\"T_8f800_level0_row8\" class=\"row_heading level0 row8\" >8</th>\n",
              "      <td id=\"T_8f800_row8_col0\" class=\"data row8 col0\" >Preprocess</td>\n",
              "      <td id=\"T_8f800_row8_col1\" class=\"data row8 col1\" >True</td>\n",
              "    </tr>\n",
              "    <tr>\n",
              "      <th id=\"T_8f800_level0_row9\" class=\"row_heading level0 row9\" >9</th>\n",
              "      <td id=\"T_8f800_row9_col0\" class=\"data row9 col0\" >Imputation type</td>\n",
              "      <td id=\"T_8f800_row9_col1\" class=\"data row9 col1\" >None</td>\n",
              "    </tr>\n",
              "    <tr>\n",
              "      <th id=\"T_8f800_level0_row10\" class=\"row_heading level0 row10\" >10</th>\n",
              "      <td id=\"T_8f800_row10_col0\" class=\"data row10 col0\" >Fold Generator</td>\n",
              "      <td id=\"T_8f800_row10_col1\" class=\"data row10 col1\" >KFold</td>\n",
              "    </tr>\n",
              "    <tr>\n",
              "      <th id=\"T_8f800_level0_row11\" class=\"row_heading level0 row11\" >11</th>\n",
              "      <td id=\"T_8f800_row11_col0\" class=\"data row11 col0\" >Fold Number</td>\n",
              "      <td id=\"T_8f800_row11_col1\" class=\"data row11 col1\" >10</td>\n",
              "    </tr>\n",
              "    <tr>\n",
              "      <th id=\"T_8f800_level0_row12\" class=\"row_heading level0 row12\" >12</th>\n",
              "      <td id=\"T_8f800_row12_col0\" class=\"data row12 col0\" >CPU Jobs</td>\n",
              "      <td id=\"T_8f800_row12_col1\" class=\"data row12 col1\" >-1</td>\n",
              "    </tr>\n",
              "    <tr>\n",
              "      <th id=\"T_8f800_level0_row13\" class=\"row_heading level0 row13\" >13</th>\n",
              "      <td id=\"T_8f800_row13_col0\" class=\"data row13 col0\" >Use GPU</td>\n",
              "      <td id=\"T_8f800_row13_col1\" class=\"data row13 col1\" >False</td>\n",
              "    </tr>\n",
              "    <tr>\n",
              "      <th id=\"T_8f800_level0_row14\" class=\"row_heading level0 row14\" >14</th>\n",
              "      <td id=\"T_8f800_row14_col0\" class=\"data row14 col0\" >Log Experiment</td>\n",
              "      <td id=\"T_8f800_row14_col1\" class=\"data row14 col1\" >False</td>\n",
              "    </tr>\n",
              "    <tr>\n",
              "      <th id=\"T_8f800_level0_row15\" class=\"row_heading level0 row15\" >15</th>\n",
              "      <td id=\"T_8f800_row15_col0\" class=\"data row15 col0\" >Experiment Name</td>\n",
              "      <td id=\"T_8f800_row15_col1\" class=\"data row15 col1\" >reg-default-name</td>\n",
              "    </tr>\n",
              "    <tr>\n",
              "      <th id=\"T_8f800_level0_row16\" class=\"row_heading level0 row16\" >16</th>\n",
              "      <td id=\"T_8f800_row16_col0\" class=\"data row16 col0\" >USI</td>\n",
              "      <td id=\"T_8f800_row16_col1\" class=\"data row16 col1\" >46b2</td>\n",
              "    </tr>\n",
              "  </tbody>\n",
              "</table>\n"
            ],
            "text/plain": [
              "<pandas.io.formats.style.Styler at 0x1d684b11280>"
            ]
          },
          "metadata": {},
          "output_type": "display_data"
        }
      ],
      "source": [
        "s = setup(df_2,\n",
        "          target = 'expected_cut_force',\n",
        "          fold_shuffle=True,\n",
        "          numeric_features=list(df_2.drop(\"expected_cut_force\",axis=1).columns),\n",
        "          imputation_type=None,\n",
        "          polynomial_features=False,\n",
        "          profile=False\n",
        ")"
      ]
    },
    {
      "cell_type": "code",
      "execution_count": 51,
      "metadata": {},
      "outputs": [],
      "source": [
        "best = compare_models()"
      ]
    },
    {
      "attachments": {},
      "cell_type": "markdown",
      "metadata": {},
      "source": [
        "## Investigando Lasso"
      ]
    },
    {
      "cell_type": "code",
      "execution_count": 53,
      "metadata": {},
      "outputs": [
        {
          "data": {
            "text/html": [
              "<div>\n",
              "<style scoped>\n",
              "    .dataframe tbody tr th:only-of-type {\n",
              "        vertical-align: middle;\n",
              "    }\n",
              "\n",
              "    .dataframe tbody tr th {\n",
              "        vertical-align: top;\n",
              "    }\n",
              "\n",
              "    .dataframe thead th {\n",
              "        text-align: right;\n",
              "    }\n",
              "</style>\n",
              "<table border=\"1\" class=\"dataframe\">\n",
              "  <thead>\n",
              "    <tr style=\"text-align: right;\">\n",
              "      <th></th>\n",
              "      <th></th>\n",
              "      <th></th>\n",
              "    </tr>\n",
              "    <tr>\n",
              "      <th></th>\n",
              "      <th></th>\n",
              "      <th></th>\n",
              "    </tr>\n",
              "  </thead>\n",
              "  <tbody>\n",
              "    <tr>\n",
              "      <th>Initiated</th>\n",
              "      <td>. . . . . . . . . . . . . . . . . .</td>\n",
              "      <td>17:30:09</td>\n",
              "    </tr>\n",
              "    <tr>\n",
              "      <th>Status</th>\n",
              "      <td>. . . . . . . . . . . . . . . . . .</td>\n",
              "      <td>Fitting 10 Folds</td>\n",
              "    </tr>\n",
              "    <tr>\n",
              "      <th>Estimator</th>\n",
              "      <td>. . . . . . . . . . . . . . . . . .</td>\n",
              "      <td>Lasso Regression</td>\n",
              "    </tr>\n",
              "  </tbody>\n",
              "</table>\n",
              "</div>"
            ],
            "text/plain": [
              "                                                                \n",
              "                                                                \n",
              "Initiated  . . . . . . . . . . . . . . . . . .          17:30:09\n",
              "Status     . . . . . . . . . . . . . . . . . .  Fitting 10 Folds\n",
              "Estimator  . . . . . . . . . . . . . . . . . .  Lasso Regression"
            ]
          },
          "metadata": {},
          "output_type": "display_data"
        },
        {
          "data": {
            "text/html": [
              "<style type=\"text/css\">\n",
              "#T_c3443_row10_col0, #T_c3443_row10_col1, #T_c3443_row10_col2, #T_c3443_row10_col3, #T_c3443_row10_col4, #T_c3443_row10_col5 {\n",
              "  background: yellow;\n",
              "}\n",
              "</style>\n",
              "<table id=\"T_c3443\">\n",
              "  <thead>\n",
              "    <tr>\n",
              "      <th class=\"blank level0\" >&nbsp;</th>\n",
              "      <th id=\"T_c3443_level0_col0\" class=\"col_heading level0 col0\" >MAE</th>\n",
              "      <th id=\"T_c3443_level0_col1\" class=\"col_heading level0 col1\" >MSE</th>\n",
              "      <th id=\"T_c3443_level0_col2\" class=\"col_heading level0 col2\" >RMSE</th>\n",
              "      <th id=\"T_c3443_level0_col3\" class=\"col_heading level0 col3\" >R2</th>\n",
              "      <th id=\"T_c3443_level0_col4\" class=\"col_heading level0 col4\" >RMSLE</th>\n",
              "      <th id=\"T_c3443_level0_col5\" class=\"col_heading level0 col5\" >MAPE</th>\n",
              "    </tr>\n",
              "    <tr>\n",
              "      <th class=\"index_name level0\" >Fold</th>\n",
              "      <th class=\"blank col0\" >&nbsp;</th>\n",
              "      <th class=\"blank col1\" >&nbsp;</th>\n",
              "      <th class=\"blank col2\" >&nbsp;</th>\n",
              "      <th class=\"blank col3\" >&nbsp;</th>\n",
              "      <th class=\"blank col4\" >&nbsp;</th>\n",
              "      <th class=\"blank col5\" >&nbsp;</th>\n",
              "    </tr>\n",
              "  </thead>\n",
              "  <tbody>\n",
              "    <tr>\n",
              "      <th id=\"T_c3443_level0_row0\" class=\"row_heading level0 row0\" >0</th>\n",
              "      <td id=\"T_c3443_row0_col0\" class=\"data row0 col0\" >1485.0612</td>\n",
              "      <td id=\"T_c3443_row0_col1\" class=\"data row0 col1\" >3735265.5000</td>\n",
              "      <td id=\"T_c3443_row0_col2\" class=\"data row0 col2\" >1932.6835</td>\n",
              "      <td id=\"T_c3443_row0_col3\" class=\"data row0 col3\" >0.4305</td>\n",
              "      <td id=\"T_c3443_row0_col4\" class=\"data row0 col4\" >0.5501</td>\n",
              "      <td id=\"T_c3443_row0_col5\" class=\"data row0 col5\" >0.5831</td>\n",
              "    </tr>\n",
              "    <tr>\n",
              "      <th id=\"T_c3443_level0_row1\" class=\"row_heading level0 row1\" >1</th>\n",
              "      <td id=\"T_c3443_row1_col0\" class=\"data row1 col0\" >1573.9053</td>\n",
              "      <td id=\"T_c3443_row1_col1\" class=\"data row1 col1\" >3968244.7500</td>\n",
              "      <td id=\"T_c3443_row1_col2\" class=\"data row1 col2\" >1992.0454</td>\n",
              "      <td id=\"T_c3443_row1_col3\" class=\"data row1 col3\" >0.0280</td>\n",
              "      <td id=\"T_c3443_row1_col4\" class=\"data row1 col4\" >0.4681</td>\n",
              "      <td id=\"T_c3443_row1_col5\" class=\"data row1 col5\" >0.4491</td>\n",
              "    </tr>\n",
              "    <tr>\n",
              "      <th id=\"T_c3443_level0_row2\" class=\"row_heading level0 row2\" >2</th>\n",
              "      <td id=\"T_c3443_row2_col0\" class=\"data row2 col0\" >2352.0972</td>\n",
              "      <td id=\"T_c3443_row2_col1\" class=\"data row2 col1\" >7559852.5000</td>\n",
              "      <td id=\"T_c3443_row2_col2\" class=\"data row2 col2\" >2749.5186</td>\n",
              "      <td id=\"T_c3443_row2_col3\" class=\"data row2 col3\" >0.2053</td>\n",
              "      <td id=\"T_c3443_row2_col4\" class=\"data row2 col4\" >0.6107</td>\n",
              "      <td id=\"T_c3443_row2_col5\" class=\"data row2 col5\" >0.6523</td>\n",
              "    </tr>\n",
              "    <tr>\n",
              "      <th id=\"T_c3443_level0_row3\" class=\"row_heading level0 row3\" >3</th>\n",
              "      <td id=\"T_c3443_row3_col0\" class=\"data row3 col0\" >1710.3486</td>\n",
              "      <td id=\"T_c3443_row3_col1\" class=\"data row3 col1\" >4341016.5000</td>\n",
              "      <td id=\"T_c3443_row3_col2\" class=\"data row3 col2\" >2083.5105</td>\n",
              "      <td id=\"T_c3443_row3_col3\" class=\"data row3 col3\" >0.3853</td>\n",
              "      <td id=\"T_c3443_row3_col4\" class=\"data row3 col4\" >0.4182</td>\n",
              "      <td id=\"T_c3443_row3_col5\" class=\"data row3 col5\" >0.3846</td>\n",
              "    </tr>\n",
              "    <tr>\n",
              "      <th id=\"T_c3443_level0_row4\" class=\"row_heading level0 row4\" >4</th>\n",
              "      <td id=\"T_c3443_row4_col0\" class=\"data row4 col0\" >1649.2773</td>\n",
              "      <td id=\"T_c3443_row4_col1\" class=\"data row4 col1\" >4021302.5000</td>\n",
              "      <td id=\"T_c3443_row4_col2\" class=\"data row4 col2\" >2005.3186</td>\n",
              "      <td id=\"T_c3443_row4_col3\" class=\"data row4 col3\" >-0.0539</td>\n",
              "      <td id=\"T_c3443_row4_col4\" class=\"data row4 col4\" >0.5797</td>\n",
              "      <td id=\"T_c3443_row4_col5\" class=\"data row4 col5\" >0.6216</td>\n",
              "    </tr>\n",
              "    <tr>\n",
              "      <th id=\"T_c3443_level0_row5\" class=\"row_heading level0 row5\" >5</th>\n",
              "      <td id=\"T_c3443_row5_col0\" class=\"data row5 col0\" >1897.0509</td>\n",
              "      <td id=\"T_c3443_row5_col1\" class=\"data row5 col1\" >6156286.0000</td>\n",
              "      <td id=\"T_c3443_row5_col2\" class=\"data row5 col2\" >2481.1865</td>\n",
              "      <td id=\"T_c3443_row5_col3\" class=\"data row5 col3\" >0.0462</td>\n",
              "      <td id=\"T_c3443_row5_col4\" class=\"data row5 col4\" >0.5173</td>\n",
              "      <td id=\"T_c3443_row5_col5\" class=\"data row5 col5\" >0.5322</td>\n",
              "    </tr>\n",
              "    <tr>\n",
              "      <th id=\"T_c3443_level0_row6\" class=\"row_heading level0 row6\" >6</th>\n",
              "      <td id=\"T_c3443_row6_col0\" class=\"data row6 col0\" >2022.8251</td>\n",
              "      <td id=\"T_c3443_row6_col1\" class=\"data row6 col1\" >6318448.0000</td>\n",
              "      <td id=\"T_c3443_row6_col2\" class=\"data row6 col2\" >2513.6523</td>\n",
              "      <td id=\"T_c3443_row6_col3\" class=\"data row6 col3\" >0.2874</td>\n",
              "      <td id=\"T_c3443_row6_col4\" class=\"data row6 col4\" >0.4952</td>\n",
              "      <td id=\"T_c3443_row6_col5\" class=\"data row6 col5\" >0.4891</td>\n",
              "    </tr>\n",
              "    <tr>\n",
              "      <th id=\"T_c3443_level0_row7\" class=\"row_heading level0 row7\" >7</th>\n",
              "      <td id=\"T_c3443_row7_col0\" class=\"data row7 col0\" >1671.9696</td>\n",
              "      <td id=\"T_c3443_row7_col1\" class=\"data row7 col1\" >4924861.5000</td>\n",
              "      <td id=\"T_c3443_row7_col2\" class=\"data row7 col2\" >2219.2029</td>\n",
              "      <td id=\"T_c3443_row7_col3\" class=\"data row7 col3\" >0.0484</td>\n",
              "      <td id=\"T_c3443_row7_col4\" class=\"data row7 col4\" >0.4365</td>\n",
              "      <td id=\"T_c3443_row7_col5\" class=\"data row7 col5\" >0.4188</td>\n",
              "    </tr>\n",
              "    <tr>\n",
              "      <th id=\"T_c3443_level0_row8\" class=\"row_heading level0 row8\" >8</th>\n",
              "      <td id=\"T_c3443_row8_col0\" class=\"data row8 col0\" >1643.0476</td>\n",
              "      <td id=\"T_c3443_row8_col1\" class=\"data row8 col1\" >4532926.0000</td>\n",
              "      <td id=\"T_c3443_row8_col2\" class=\"data row8 col2\" >2129.0669</td>\n",
              "      <td id=\"T_c3443_row8_col3\" class=\"data row8 col3\" >0.2030</td>\n",
              "      <td id=\"T_c3443_row8_col4\" class=\"data row8 col4\" >0.4640</td>\n",
              "      <td id=\"T_c3443_row8_col5\" class=\"data row8 col5\" >0.4274</td>\n",
              "    </tr>\n",
              "    <tr>\n",
              "      <th id=\"T_c3443_level0_row9\" class=\"row_heading level0 row9\" >9</th>\n",
              "      <td id=\"T_c3443_row9_col0\" class=\"data row9 col0\" >1997.5375</td>\n",
              "      <td id=\"T_c3443_row9_col1\" class=\"data row9 col1\" >5285390.0000</td>\n",
              "      <td id=\"T_c3443_row9_col2\" class=\"data row9 col2\" >2298.9976</td>\n",
              "      <td id=\"T_c3443_row9_col3\" class=\"data row9 col3\" >0.4854</td>\n",
              "      <td id=\"T_c3443_row9_col4\" class=\"data row9 col4\" >0.8196</td>\n",
              "      <td id=\"T_c3443_row9_col5\" class=\"data row9 col5\" >1.1655</td>\n",
              "    </tr>\n",
              "    <tr>\n",
              "      <th id=\"T_c3443_level0_row10\" class=\"row_heading level0 row10\" >Mean</th>\n",
              "      <td id=\"T_c3443_row10_col0\" class=\"data row10 col0\" >1800.3120</td>\n",
              "      <td id=\"T_c3443_row10_col1\" class=\"data row10 col1\" >5084359.3250</td>\n",
              "      <td id=\"T_c3443_row10_col2\" class=\"data row10 col2\" >2240.5183</td>\n",
              "      <td id=\"T_c3443_row10_col3\" class=\"data row10 col3\" >0.2066</td>\n",
              "      <td id=\"T_c3443_row10_col4\" class=\"data row10 col4\" >0.5359</td>\n",
              "      <td id=\"T_c3443_row10_col5\" class=\"data row10 col5\" >0.5724</td>\n",
              "    </tr>\n",
              "    <tr>\n",
              "      <th id=\"T_c3443_level0_row11\" class=\"row_heading level0 row11\" >Std</th>\n",
              "      <td id=\"T_c3443_row11_col0\" class=\"data row11 col0\" >249.9974</td>\n",
              "      <td id=\"T_c3443_row11_col1\" class=\"data row11 col1\" >1179763.2803</td>\n",
              "      <td id=\"T_c3443_row11_col2\" class=\"data row11 col2\" >253.8448</td>\n",
              "      <td id=\"T_c3443_row11_col3\" class=\"data row11 col3\" >0.1780</td>\n",
              "      <td id=\"T_c3443_row11_col4\" class=\"data row11 col4\" >0.1112</td>\n",
              "      <td id=\"T_c3443_row11_col5\" class=\"data row11 col5\" >0.2155</td>\n",
              "    </tr>\n",
              "  </tbody>\n",
              "</table>\n"
            ],
            "text/plain": [
              "<pandas.io.formats.style.Styler at 0x1d6818cfb20>"
            ]
          },
          "metadata": {},
          "output_type": "display_data"
        },
        {
          "data": {
            "application/vnd.jupyter.widget-view+json": {
              "model_id": "b1e3a22eb2f44ce5a6ff39e7d3a60727",
              "version_major": 2,
              "version_minor": 0
            },
            "text/plain": [
              "Processing:   0%|          | 0/4 [00:00<?, ?it/s]"
            ]
          },
          "metadata": {},
          "output_type": "display_data"
        },
        {
          "data": {
            "text/html": [
              "<style>#sk-container-id-5 {color: black;background-color: white;}#sk-container-id-5 pre{padding: 0;}#sk-container-id-5 div.sk-toggleable {background-color: white;}#sk-container-id-5 label.sk-toggleable__label {cursor: pointer;display: block;width: 100%;margin-bottom: 0;padding: 0.3em;box-sizing: border-box;text-align: center;}#sk-container-id-5 label.sk-toggleable__label-arrow:before {content: \"▸\";float: left;margin-right: 0.25em;color: #696969;}#sk-container-id-5 label.sk-toggleable__label-arrow:hover:before {color: black;}#sk-container-id-5 div.sk-estimator:hover label.sk-toggleable__label-arrow:before {color: black;}#sk-container-id-5 div.sk-toggleable__content {max-height: 0;max-width: 0;overflow: hidden;text-align: left;background-color: #f0f8ff;}#sk-container-id-5 div.sk-toggleable__content pre {margin: 0.2em;color: black;border-radius: 0.25em;background-color: #f0f8ff;}#sk-container-id-5 input.sk-toggleable__control:checked~div.sk-toggleable__content {max-height: 200px;max-width: 100%;overflow: auto;}#sk-container-id-5 input.sk-toggleable__control:checked~label.sk-toggleable__label-arrow:before {content: \"▾\";}#sk-container-id-5 div.sk-estimator input.sk-toggleable__control:checked~label.sk-toggleable__label {background-color: #d4ebff;}#sk-container-id-5 div.sk-label input.sk-toggleable__control:checked~label.sk-toggleable__label {background-color: #d4ebff;}#sk-container-id-5 input.sk-hidden--visually {border: 0;clip: rect(1px 1px 1px 1px);clip: rect(1px, 1px, 1px, 1px);height: 1px;margin: -1px;overflow: hidden;padding: 0;position: absolute;width: 1px;}#sk-container-id-5 div.sk-estimator {font-family: monospace;background-color: #f0f8ff;border: 1px dotted black;border-radius: 0.25em;box-sizing: border-box;margin-bottom: 0.5em;}#sk-container-id-5 div.sk-estimator:hover {background-color: #d4ebff;}#sk-container-id-5 div.sk-parallel-item::after {content: \"\";width: 100%;border-bottom: 1px solid gray;flex-grow: 1;}#sk-container-id-5 div.sk-label:hover label.sk-toggleable__label {background-color: #d4ebff;}#sk-container-id-5 div.sk-serial::before {content: \"\";position: absolute;border-left: 1px solid gray;box-sizing: border-box;top: 0;bottom: 0;left: 50%;z-index: 0;}#sk-container-id-5 div.sk-serial {display: flex;flex-direction: column;align-items: center;background-color: white;padding-right: 0.2em;padding-left: 0.2em;position: relative;}#sk-container-id-5 div.sk-item {position: relative;z-index: 1;}#sk-container-id-5 div.sk-parallel {display: flex;align-items: stretch;justify-content: center;background-color: white;position: relative;}#sk-container-id-5 div.sk-item::before, #sk-container-id-5 div.sk-parallel-item::before {content: \"\";position: absolute;border-left: 1px solid gray;box-sizing: border-box;top: 0;bottom: 0;left: 50%;z-index: -1;}#sk-container-id-5 div.sk-parallel-item {display: flex;flex-direction: column;z-index: 1;position: relative;background-color: white;}#sk-container-id-5 div.sk-parallel-item:first-child::after {align-self: flex-end;width: 50%;}#sk-container-id-5 div.sk-parallel-item:last-child::after {align-self: flex-start;width: 50%;}#sk-container-id-5 div.sk-parallel-item:only-child::after {width: 0;}#sk-container-id-5 div.sk-dashed-wrapped {border: 1px dashed gray;margin: 0 0.4em 0.5em 0.4em;box-sizing: border-box;padding-bottom: 0.4em;background-color: white;}#sk-container-id-5 div.sk-label label {font-family: monospace;font-weight: bold;display: inline-block;line-height: 1.2em;}#sk-container-id-5 div.sk-label-container {text-align: center;}#sk-container-id-5 div.sk-container {/* jupyter's `normalize.less` sets `[hidden] { display: none; }` but bootstrap.min.css set `[hidden] { display: none !important; }` so we also need the `!important` here to be able to override the default hidden behavior on the sphinx rendered scikit-learn.org. See: https://github.com/scikit-learn/scikit-learn/issues/21755 */display: inline-block !important;position: relative;}#sk-container-id-5 div.sk-text-repr-fallback {display: none;}</style><div id=\"sk-container-id-5\" class=\"sk-top-container\"><div class=\"sk-text-repr-fallback\"><pre>Lasso(random_state=5343)</pre><b>In a Jupyter environment, please rerun this cell to show the HTML representation or trust the notebook. <br />On GitHub, the HTML representation is unable to render, please try loading this page with nbviewer.org.</b></div><div class=\"sk-container\" hidden><div class=\"sk-item\"><div class=\"sk-estimator sk-toggleable\"><input class=\"sk-toggleable__control sk-hidden--visually\" id=\"sk-estimator-id-5\" type=\"checkbox\" checked><label for=\"sk-estimator-id-5\" class=\"sk-toggleable__label sk-toggleable__label-arrow\">Lasso</label><div class=\"sk-toggleable__content\"><pre>Lasso(random_state=5343)</pre></div></div></div></div></div>"
            ],
            "text/plain": [
              "Lasso(random_state=5343)"
            ]
          },
          "execution_count": 53,
          "metadata": {},
          "output_type": "execute_result"
        }
      ],
      "source": [
        "lasso=create_model(\"lasso\")\n",
        "lasso"
      ]
    },
    {
      "cell_type": "code",
      "execution_count": 54,
      "metadata": {},
      "outputs": [
        {
          "name": "stdout",
          "output_type": "stream",
          "text": [
            "vc : 0.0017\n",
            "young_modulus : 0.3368\n"
          ]
        }
      ],
      "source": [
        "for feature_name, weight in zip(lasso.feature_names_in_,lasso.coef_):\n",
        "    if weight >0.0001:\n",
        "        print(\"{} : {:.4f}\".format(feature_name.replace(\" \",\"*\"),weight))"
      ]
    },
    {
      "cell_type": "code",
      "execution_count": 57,
      "metadata": {},
      "outputs": [
        {
          "data": {
            "text/html": [],
            "text/plain": [
              "<IPython.core.display.HTML object>"
            ]
          },
          "metadata": {},
          "output_type": "display_data"
        },
        {
          "data": {
            "image/png": "[encoded data removed]",
            "text/plain": [
              "<Figure size 432x288 with 1 Axes>"
            ]
          },
          "metadata": {
            "needs_background": "light"
          },
          "output_type": "display_data"
        }
      ],
      "source": [
        "plot_model(lasso, plot='error')"
      ]
    },
    {
      "attachments": {},
      "cell_type": "markdown",
      "metadata": {},
      "source": [
        "## Investigando LightGBM"
      ]
    },
    {
      "cell_type": "code",
      "execution_count": 58,
      "metadata": {},
      "outputs": [
        {
          "data": {
            "text/html": [
              "<div>\n",
              "<style scoped>\n",
              "    .dataframe tbody tr th:only-of-type {\n",
              "        vertical-align: middle;\n",
              "    }\n",
              "\n",
              "    .dataframe tbody tr th {\n",
              "        vertical-align: top;\n",
              "    }\n",
              "\n",
              "    .dataframe thead th {\n",
              "        text-align: right;\n",
              "    }\n",
              "</style>\n",
              "<table border=\"1\" class=\"dataframe\">\n",
              "  <thead>\n",
              "    <tr style=\"text-align: right;\">\n",
              "      <th></th>\n",
              "      <th></th>\n",
              "      <th></th>\n",
              "    </tr>\n",
              "    <tr>\n",
              "      <th></th>\n",
              "      <th></th>\n",
              "      <th></th>\n",
              "    </tr>\n",
              "  </thead>\n",
              "  <tbody>\n",
              "    <tr>\n",
              "      <th>Initiated</th>\n",
              "      <td>. . . . . . . . . . . . . . . . . .</td>\n",
              "      <td>17:30:36</td>\n",
              "    </tr>\n",
              "    <tr>\n",
              "      <th>Status</th>\n",
              "      <td>. . . . . . . . . . . . . . . . . .</td>\n",
              "      <td>Fitting 10 Folds</td>\n",
              "    </tr>\n",
              "    <tr>\n",
              "      <th>Estimator</th>\n",
              "      <td>. . . . . . . . . . . . . . . . . .</td>\n",
              "      <td>Light Gradient Boosting Machine</td>\n",
              "    </tr>\n",
              "  </tbody>\n",
              "</table>\n",
              "</div>"
            ],
            "text/plain": [
              "                                                \\\n",
              "                                                 \n",
              "Initiated  . . . . . . . . . . . . . . . . . .   \n",
              "Status     . . . . . . . . . . . . . . . . . .   \n",
              "Estimator  . . . . . . . . . . . . . . . . . .   \n",
              "\n",
              "                                            \n",
              "                                            \n",
              "Initiated                         17:30:36  \n",
              "Status                    Fitting 10 Folds  \n",
              "Estimator  Light Gradient Boosting Machine  "
            ]
          },
          "metadata": {},
          "output_type": "display_data"
        }
      ],
      "source": [
        "lgbm=create_model(\"lightgbm\")"
      ]
    },
    {
      "cell_type": "code",
      "execution_count": 59,
      "metadata": {},
      "outputs": [
        {
          "data": {
            "text/html": [
              "<style>#sk-container-id-6 {color: black;background-color: white;}#sk-container-id-6 pre{padding: 0;}#sk-container-id-6 div.sk-toggleable {background-color: white;}#sk-container-id-6 label.sk-toggleable__label {cursor: pointer;display: block;width: 100%;margin-bottom: 0;padding: 0.3em;box-sizing: border-box;text-align: center;}#sk-container-id-6 label.sk-toggleable__label-arrow:before {content: \"▸\";float: left;margin-right: 0.25em;color: #696969;}#sk-container-id-6 label.sk-toggleable__label-arrow:hover:before {color: black;}#sk-container-id-6 div.sk-estimator:hover label.sk-toggleable__label-arrow:before {color: black;}#sk-container-id-6 div.sk-toggleable__content {max-height: 0;max-width: 0;overflow: hidden;text-align: left;background-color: #f0f8ff;}#sk-container-id-6 div.sk-toggleable__content pre {margin: 0.2em;color: black;border-radius: 0.25em;background-color: #f0f8ff;}#sk-container-id-6 input.sk-toggleable__control:checked~div.sk-toggleable__content {max-height: 200px;max-width: 100%;overflow: auto;}#sk-container-id-6 input.sk-toggleable__control:checked~label.sk-toggleable__label-arrow:before {content: \"▾\";}#sk-container-id-6 div.sk-estimator input.sk-toggleable__control:checked~label.sk-toggleable__label {background-color: #d4ebff;}#sk-container-id-6 div.sk-label input.sk-toggleable__control:checked~label.sk-toggleable__label {background-color: #d4ebff;}#sk-container-id-6 input.sk-hidden--visually {border: 0;clip: rect(1px 1px 1px 1px);clip: rect(1px, 1px, 1px, 1px);height: 1px;margin: -1px;overflow: hidden;padding: 0;position: absolute;width: 1px;}#sk-container-id-6 div.sk-estimator {font-family: monospace;background-color: #f0f8ff;border: 1px dotted black;border-radius: 0.25em;box-sizing: border-box;margin-bottom: 0.5em;}#sk-container-id-6 div.sk-estimator:hover {background-color: #d4ebff;}#sk-container-id-6 div.sk-parallel-item::after {content: \"\";width: 100%;border-bottom: 1px solid gray;flex-grow: 1;}#sk-container-id-6 div.sk-label:hover label.sk-toggleable__label {background-color: #d4ebff;}#sk-container-id-6 div.sk-serial::before {content: \"\";position: absolute;border-left: 1px solid gray;box-sizing: border-box;top: 0;bottom: 0;left: 50%;z-index: 0;}#sk-container-id-6 div.sk-serial {display: flex;flex-direction: column;align-items: center;background-color: white;padding-right: 0.2em;padding-left: 0.2em;position: relative;}#sk-container-id-6 div.sk-item {position: relative;z-index: 1;}#sk-container-id-6 div.sk-parallel {display: flex;align-items: stretch;justify-content: center;background-color: white;position: relative;}#sk-container-id-6 div.sk-item::before, #sk-container-id-6 div.sk-parallel-item::before {content: \"\";position: absolute;border-left: 1px solid gray;box-sizing: border-box;top: 0;bottom: 0;left: 50%;z-index: -1;}#sk-container-id-6 div.sk-parallel-item {display: flex;flex-direction: column;z-index: 1;position: relative;background-color: white;}#sk-container-id-6 div.sk-parallel-item:first-child::after {align-self: flex-end;width: 50%;}#sk-container-id-6 div.sk-parallel-item:last-child::after {align-self: flex-start;width: 50%;}#sk-container-id-6 div.sk-parallel-item:only-child::after {width: 0;}#sk-container-id-6 div.sk-dashed-wrapped {border: 1px dashed gray;margin: 0 0.4em 0.5em 0.4em;box-sizing: border-box;padding-bottom: 0.4em;background-color: white;}#sk-container-id-6 div.sk-label label {font-family: monospace;font-weight: bold;display: inline-block;line-height: 1.2em;}#sk-container-id-6 div.sk-label-container {text-align: center;}#sk-container-id-6 div.sk-container {/* jupyter's `normalize.less` sets `[hidden] { display: none; }` but bootstrap.min.css set `[hidden] { display: none !important; }` so we also need the `!important` here to be able to override the default hidden behavior on the sphinx rendered scikit-learn.org. See: https://github.com/scikit-learn/scikit-learn/issues/21755 */display: inline-block !important;position: relative;}#sk-container-id-6 div.sk-text-repr-fallback {display: none;}</style><div id=\"sk-container-id-6\" class=\"sk-top-container\"><div class=\"sk-text-repr-fallback\"><pre>LGBMRegressor(random_state=5343)</pre><b>In a Jupyter environment, please rerun this cell to show the HTML representation or trust the notebook. <br />On GitHub, the HTML representation is unable to render, please try loading this page with nbviewer.org.</b></div><div class=\"sk-container\" hidden><div class=\"sk-item\"><div class=\"sk-estimator sk-toggleable\"><input class=\"sk-toggleable__control sk-hidden--visually\" id=\"sk-estimator-id-6\" type=\"checkbox\" checked><label for=\"sk-estimator-id-6\" class=\"sk-toggleable__label sk-toggleable__label-arrow\">LGBMRegressor</label><div class=\"sk-toggleable__content\"><pre>LGBMRegressor(random_state=5343)</pre></div></div></div></div></div>"
            ],
            "text/plain": [
              "LGBMRegressor(random_state=5343)"
            ]
          },
          "execution_count": 59,
          "metadata": {},
          "output_type": "execute_result"
        }
      ],
      "source": [
        "lgbm"
      ]
    },
    {
      "cell_type": "code",
      "execution_count": 60,
      "metadata": {},
      "outputs": [
        {
          "data": {
            "image/png": "[encoded data removed]",
            "text/plain": [
              "<Figure size 700x600 with 1 Axes>"
            ]
          },
          "metadata": {
            "needs_background": "light"
          },
          "output_type": "display_data"
        }
      ],
      "source": [
        "plot_model(lgbm, \"pipeline\")"
      ]
    },
    {
      "cell_type": "code",
      "execution_count": 61,
      "metadata": {},
      "outputs": [
        {
          "data": {
            "text/html": [],
            "text/plain": [
              "<IPython.core.display.HTML object>"
            ]
          },
          "metadata": {},
          "output_type": "display_data"
        },
        {
          "data": {
            "image/png": "[encoded data removed]",
            "text/plain": [
              "<Figure size 432x288 with 2 Axes>"
            ]
          },
          "metadata": {
            "needs_background": "light"
          },
          "output_type": "display_data"
        }
      ],
      "source": [
        "plot_model(lgbm, plot='residuals')"
      ]
    },
    {
      "cell_type": "code",
      "execution_count": 62,
      "metadata": {},
      "outputs": [
        {
          "data": {
            "text/html": [],
            "text/plain": [
              "<IPython.core.display.HTML object>"
            ]
          },
          "metadata": {},
          "output_type": "display_data"
        },
        {
          "data": {
            "image/png": "[encoded data removed]",
            "text/plain": [
              "<Figure size 432x288 with 1 Axes>"
            ]
          },
          "metadata": {
            "needs_background": "light"
          },
          "output_type": "display_data"
        }
      ],
      "source": [
        "plot_model(lgbm, plot='error')"
      ]
    },
    {
      "cell_type": "code",
      "execution_count": null,
      "metadata": {},
      "outputs": [],
      "source": []
    }
  ],
  "metadata": {
    "colab": {
      "provenance": []
    },
    "kernelspec": {
      "display_name": "Dissertacao_nightly",
      "language": "python",
      "name": "python3"
    },
    "language_info": {
      "codemirror_mode": {
        "name": "ipython",
        "version": 3
      },
      "file_extension": ".py",
      "mimetype": "text/x-python",
      "name": "python",
      "nbconvert_exporter": "python",
      "pygments_lexer": "ipython3",
      "version": "3.9.4"
    },
    "vscode": {
      "interpreter": {
        "hash": "786c50f47f521f1a15520829f7f8cf92d28fbf8cfd4799cc1a75982ee968eb0b"
      }
    },
    "widgets": {
      "application/vnd.jupyter.widget-state+json": {
        "016b6a61e79646f8b61b890091cf0fc5": {
          "model_module": "@jupyter-widgets/controls",
          "model_module_version": "1.5.0",
          "model_name": "ToggleButtonsModel",
          "state": {
            "_dom_classes": [],
            "_model_module": "@jupyter-widgets/controls",
            "_model_module_version": "1.5.0",
            "_model_name": "ToggleButtonsModel",
            "_options_labels": [
              "Hyperparameters",
              "Residuals",
              "Prediction Error",
              "Cooks Distance",
              "Feature Selection",
              "Learning Curve",
              "Manifold Learning",
              "Validation Curve",
              "Feature Importance",
              "Feature Importance (All)",
              "Decision Tree",
              "Interactive Residuals"
            ],
            "_view_count": null,
            "_view_module": "@jupyter-widgets/controls",
            "_view_module_version": "1.5.0",
            "_view_name": "ToggleButtonsView",
            "button_style": "",
            "description": "Plot Type:",
            "description_tooltip": null,
            "disabled": false,
            "icons": [
              ""
            ],
            "index": 8,
            "layout": "IPY_MODEL_2560c89001f5408e860e5944b8a3e048",
            "style": "IPY_MODEL_723b9c4e3fb143729d88bbc4ce235fed",
            "tooltips": []
          }
        },
        "07025f185e3c449cb891a198134977f1": {
          "model_module": "@jupyter-widgets/base",
          "model_module_version": "1.2.0",
          "model_name": "LayoutModel",
          "state": {
            "_model_module": "@jupyter-widgets/base",
            "_model_module_version": "1.2.0",
            "_model_name": "LayoutModel",
            "_view_count": null,
            "_view_module": "@jupyter-widgets/base",
            "_view_module_version": "1.2.0",
            "_view_name": "LayoutView",
            "align_content": null,
            "align_items": null,
            "align_self": null,
            "border": null,
            "bottom": null,
            "display": null,
            "flex": null,
            "flex_flow": null,
            "grid_area": null,
            "grid_auto_columns": null,
            "grid_auto_flow": null,
            "grid_auto_rows": null,
            "grid_column": null,
            "grid_gap": null,
            "grid_row": null,
            "grid_template_areas": null,
            "grid_template_columns": null,
            "grid_template_rows": null,
            "height": null,
            "justify_content": null,
            "justify_items": null,
            "left": null,
            "margin": null,
            "max_height": null,
            "max_width": null,
            "min_height": null,
            "min_width": null,
            "object_fit": null,
            "object_position": null,
            "order": null,
            "overflow": null,
            "overflow_x": null,
            "overflow_y": null,
            "padding": null,
            "right": null,
            "top": null,
            "visibility": null,
            "width": null
          }
        },
        "0774bff846ad47d79e243c6d0db7b87a": {
          "model_module": "@jupyter-widgets/controls",
          "model_module_version": "1.5.0",
          "model_name": "DescriptionStyleModel",
          "state": {
            "_model_module": "@jupyter-widgets/controls",
            "_model_module_version": "1.5.0",
            "_model_name": "DescriptionStyleModel",
            "_view_count": null,
            "_view_module": "@jupyter-widgets/base",
            "_view_module_version": "1.2.0",
            "_view_name": "StyleView",
            "description_width": ""
          }
        },
        "0bd2715e4a1a40199a769bf4bab0e82f": {
          "model_module": "@jupyter-widgets/base",
          "model_module_version": "1.2.0",
          "model_name": "LayoutModel",
          "state": {
            "_model_module": "@jupyter-widgets/base",
            "_model_module_version": "1.2.0",
            "_model_name": "LayoutModel",
            "_view_count": null,
            "_view_module": "@jupyter-widgets/base",
            "_view_module_version": "1.2.0",
            "_view_name": "LayoutView",
            "align_content": null,
            "align_items": null,
            "align_self": null,
            "border": null,
            "bottom": null,
            "display": null,
            "flex": null,
            "flex_flow": null,
            "grid_area": null,
            "grid_auto_columns": null,
            "grid_auto_flow": null,
            "grid_auto_rows": null,
            "grid_column": null,
            "grid_gap": null,
            "grid_row": null,
            "grid_template_areas": null,
            "grid_template_columns": null,
            "grid_template_rows": null,
            "height": null,
            "justify_content": null,
            "justify_items": null,
            "left": null,
            "margin": null,
            "max_height": null,
            "max_width": null,
            "min_height": null,
            "min_width": null,
            "object_fit": null,
            "object_position": null,
            "order": null,
            "overflow": null,
            "overflow_x": null,
            "overflow_y": null,
            "padding": null,
            "right": null,
            "top": null,
            "visibility": null,
            "width": null
          }
        },
        "0efbde7822e645a99cf510c7b4f68b5d": {
          "model_module": "@jupyter-widgets/controls",
          "model_module_version": "1.5.0",
          "model_name": "IntProgressModel",
          "state": {
            "_dom_classes": [],
            "_model_module": "@jupyter-widgets/controls",
            "_model_module_version": "1.5.0",
            "_model_name": "IntProgressModel",
            "_view_count": null,
            "_view_module": "@jupyter-widgets/controls",
            "_view_module_version": "1.5.0",
            "_view_name": "ProgressView",
            "bar_style": "",
            "description": "Processing: ",
            "description_tooltip": null,
            "layout": "IPY_MODEL_a46a1a87d2bd4d4e8cf5b738c89d3e3d",
            "max": 5,
            "min": 0,
            "orientation": "horizontal",
            "style": "IPY_MODEL_d83e11037f7d46c1b5a8a85a279c7dcf",
            "value": 5
          }
        },
        "0f6a9e1487eb497883d0e0208188c440": {
          "model_module": "@jupyter-widgets/base",
          "model_module_version": "1.2.0",
          "model_name": "LayoutModel",
          "state": {
            "_model_module": "@jupyter-widgets/base",
            "_model_module_version": "1.2.0",
            "_model_name": "LayoutModel",
            "_view_count": null,
            "_view_module": "@jupyter-widgets/base",
            "_view_module_version": "1.2.0",
            "_view_name": "LayoutView",
            "align_content": null,
            "align_items": null,
            "align_self": null,
            "border": null,
            "bottom": null,
            "display": null,
            "flex": null,
            "flex_flow": null,
            "grid_area": null,
            "grid_auto_columns": null,
            "grid_auto_flow": null,
            "grid_auto_rows": null,
            "grid_column": null,
            "grid_gap": null,
            "grid_row": null,
            "grid_template_areas": null,
            "grid_template_columns": null,
            "grid_template_rows": null,
            "height": null,
            "justify_content": null,
            "justify_items": null,
            "left": null,
            "margin": null,
            "max_height": null,
            "max_width": null,
            "min_height": null,
            "min_width": null,
            "object_fit": null,
            "object_position": null,
            "order": null,
            "overflow": null,
            "overflow_x": null,
            "overflow_y": null,
            "padding": null,
            "right": null,
            "top": null,
            "visibility": null,
            "width": null
          }
        },
        "13361d946e174623885fe3bd6a70afd5": {
          "model_module": "@jupyter-widgets/base",
          "model_module_version": "1.2.0",
          "model_name": "LayoutModel",
          "state": {
            "_model_module": "@jupyter-widgets/base",
            "_model_module_version": "1.2.0",
            "_model_name": "LayoutModel",
            "_view_count": null,
            "_view_module": "@jupyter-widgets/base",
            "_view_module_version": "1.2.0",
            "_view_name": "LayoutView",
            "align_content": null,
            "align_items": null,
            "align_self": null,
            "border": null,
            "bottom": null,
            "display": null,
            "flex": null,
            "flex_flow": null,
            "grid_area": null,
            "grid_auto_columns": null,
            "grid_auto_flow": null,
            "grid_auto_rows": null,
            "grid_column": null,
            "grid_gap": null,
            "grid_row": null,
            "grid_template_areas": null,
            "grid_template_columns": null,
            "grid_template_rows": null,
            "height": null,
            "justify_content": null,
            "justify_items": null,
            "left": null,
            "margin": null,
            "max_height": null,
            "max_width": null,
            "min_height": null,
            "min_width": null,
            "object_fit": null,
            "object_position": null,
            "order": null,
            "overflow": null,
            "overflow_x": null,
            "overflow_y": null,
            "padding": null,
            "right": null,
            "top": null,
            "visibility": null,
            "width": null
          }
        },
        "15da776c9ec74a21b069cdd7a8d3cc58": {
          "model_module": "@jupyter-widgets/base",
          "model_module_version": "1.2.0",
          "model_name": "LayoutModel",
          "state": {
            "_model_module": "@jupyter-widgets/base",
            "_model_module_version": "1.2.0",
            "_model_name": "LayoutModel",
            "_view_count": null,
            "_view_module": "@jupyter-widgets/base",
            "_view_module_version": "1.2.0",
            "_view_name": "LayoutView",
            "align_content": null,
            "align_items": null,
            "align_self": null,
            "border": null,
            "bottom": null,
            "display": null,
            "flex": null,
            "flex_flow": null,
            "grid_area": null,
            "grid_auto_columns": null,
            "grid_auto_flow": null,
            "grid_auto_rows": null,
            "grid_column": null,
            "grid_gap": null,
            "grid_row": null,
            "grid_template_areas": null,
            "grid_template_columns": null,
            "grid_template_rows": null,
            "height": null,
            "justify_content": null,
            "justify_items": null,
            "left": null,
            "margin": null,
            "max_height": null,
            "max_width": null,
            "min_height": null,
            "min_width": null,
            "object_fit": null,
            "object_position": null,
            "order": null,
            "overflow": null,
            "overflow_x": null,
            "overflow_y": null,
            "padding": null,
            "right": null,
            "top": null,
            "visibility": null,
            "width": null
          }
        },
        "194e37d05c8e414d9614ae924bb65f0e": {
          "model_module": "@jupyter-widgets/controls",
          "model_module_version": "1.5.0",
          "model_name": "DescriptionStyleModel",
          "state": {
            "_model_module": "@jupyter-widgets/controls",
            "_model_module_version": "1.5.0",
            "_model_name": "DescriptionStyleModel",
            "_view_count": null,
            "_view_module": "@jupyter-widgets/base",
            "_view_module_version": "1.2.0",
            "_view_name": "StyleView",
            "description_width": ""
          }
        },
        "1a5c61b61e894616823250bc7fc9073e": {
          "model_module": "@jupyter-widgets/controls",
          "model_module_version": "1.5.0",
          "model_name": "FloatProgressModel",
          "state": {
            "_dom_classes": [],
            "_model_module": "@jupyter-widgets/controls",
            "_model_module_version": "1.5.0",
            "_model_name": "FloatProgressModel",
            "_view_count": null,
            "_view_module": "@jupyter-widgets/controls",
            "_view_module_version": "1.5.0",
            "_view_name": "ProgressView",
            "bar_style": "success",
            "description": "",
            "description_tooltip": null,
            "layout": "IPY_MODEL_516daf75b3dc439ab7ada25ba8d77563",
            "max": 5,
            "min": 0,
            "orientation": "horizontal",
            "style": "IPY_MODEL_e5072c3289ca4a538796911c0c1dc53f",
            "value": 5
          }
        },
        "1e63cf1d4b8d403ea386b0d4d29d4823": {
          "model_module": "@jupyter-widgets/controls",
          "model_module_version": "1.5.0",
          "model_name": "HBoxModel",
          "state": {
            "_dom_classes": [],
            "_model_module": "@jupyter-widgets/controls",
            "_model_module_version": "1.5.0",
            "_model_name": "HBoxModel",
            "_view_count": null,
            "_view_module": "@jupyter-widgets/controls",
            "_view_module_version": "1.5.0",
            "_view_name": "HBoxView",
            "box_style": "",
            "children": [
              "IPY_MODEL_78045eb680fc446b826a805b64447616",
              "IPY_MODEL_a2c15bd72861448699169f565d8ee686",
              "IPY_MODEL_37c63b03bf224babaafb3fdfe79b4d7e"
            ],
            "layout": "IPY_MODEL_52be6480108c4852a9363af0083c4e6e"
          }
        },
        "2151ad624fc74029814947816dd9a2db": {
          "model_module": "@jupyter-widgets/controls",
          "model_module_version": "1.5.0",
          "model_name": "IntProgressModel",
          "state": {
            "_dom_classes": [],
            "_model_module": "@jupyter-widgets/controls",
            "_model_module_version": "1.5.0",
            "_model_name": "IntProgressModel",
            "_view_count": null,
            "_view_module": "@jupyter-widgets/controls",
            "_view_module_version": "1.5.0",
            "_view_name": "ProgressView",
            "bar_style": "",
            "description": "Processing: ",
            "description_tooltip": null,
            "layout": "IPY_MODEL_0bd2715e4a1a40199a769bf4bab0e82f",
            "max": 5,
            "min": 0,
            "orientation": "horizontal",
            "style": "IPY_MODEL_f3219889b90e4340811f958965b90268",
            "value": 5
          }
        },
        "2452a9f9a5194c27b95ebe6d0ab3b46a": {
          "model_module": "@jupyter-widgets/controls",
          "model_module_version": "1.5.0",
          "model_name": "ProgressStyleModel",
          "state": {
            "_model_module": "@jupyter-widgets/controls",
            "_model_module_version": "1.5.0",
            "_model_name": "ProgressStyleModel",
            "_view_count": null,
            "_view_module": "@jupyter-widgets/base",
            "_view_module_version": "1.2.0",
            "_view_name": "StyleView",
            "bar_color": null,
            "description_width": ""
          }
        },
        "245ef7153dda44aba752819935c4ad3e": {
          "model_module": "@jupyter-widgets/controls",
          "model_module_version": "1.5.0",
          "model_name": "IntProgressModel",
          "state": {
            "_dom_classes": [],
            "_model_module": "@jupyter-widgets/controls",
            "_model_module_version": "1.5.0",
            "_model_name": "IntProgressModel",
            "_view_count": null,
            "_view_module": "@jupyter-widgets/controls",
            "_view_module_version": "1.5.0",
            "_view_name": "ProgressView",
            "bar_style": "",
            "description": "Processing: ",
            "description_tooltip": null,
            "layout": "IPY_MODEL_c954276de7864bdab70d75361f53b73f",
            "max": 5,
            "min": 0,
            "orientation": "horizontal",
            "style": "IPY_MODEL_7dbb12e4369b486589c7be583eeff6c1",
            "value": 3
          }
        },
        "2560c89001f5408e860e5944b8a3e048": {
          "model_module": "@jupyter-widgets/base",
          "model_module_version": "1.2.0",
          "model_name": "LayoutModel",
          "state": {
            "_model_module": "@jupyter-widgets/base",
            "_model_module_version": "1.2.0",
            "_model_name": "LayoutModel",
            "_view_count": null,
            "_view_module": "@jupyter-widgets/base",
            "_view_module_version": "1.2.0",
            "_view_name": "LayoutView",
            "align_content": null,
            "align_items": null,
            "align_self": null,
            "border": null,
            "bottom": null,
            "display": null,
            "flex": null,
            "flex_flow": null,
            "grid_area": null,
            "grid_auto_columns": null,
            "grid_auto_flow": null,
            "grid_auto_rows": null,
            "grid_column": null,
            "grid_gap": null,
            "grid_row": null,
            "grid_template_areas": null,
            "grid_template_columns": null,
            "grid_template_rows": null,
            "height": null,
            "justify_content": null,
            "justify_items": null,
            "left": null,
            "margin": null,
            "max_height": null,
            "max_width": null,
            "min_height": null,
            "min_width": null,
            "object_fit": null,
            "object_position": null,
            "order": null,
            "overflow": null,
            "overflow_x": null,
            "overflow_y": null,
            "padding": null,
            "right": null,
            "top": null,
            "visibility": null,
            "width": null
          }
        },
        "263587581aac4ed98ef8eee5effa8cdb": {
          "model_module": "@jupyter-widgets/controls",
          "model_module_version": "1.5.0",
          "model_name": "ProgressStyleModel",
          "state": {
            "_model_module": "@jupyter-widgets/controls",
            "_model_module_version": "1.5.0",
            "_model_name": "ProgressStyleModel",
            "_view_count": null,
            "_view_module": "@jupyter-widgets/base",
            "_view_module_version": "1.2.0",
            "_view_name": "StyleView",
            "bar_color": null,
            "description_width": ""
          }
        },
        "27724d7aa080435c9ef60694e16014f9": {
          "model_module": "@jupyter-widgets/base",
          "model_module_version": "1.2.0",
          "model_name": "LayoutModel",
          "state": {
            "_model_module": "@jupyter-widgets/base",
            "_model_module_version": "1.2.0",
            "_model_name": "LayoutModel",
            "_view_count": null,
            "_view_module": "@jupyter-widgets/base",
            "_view_module_version": "1.2.0",
            "_view_name": "LayoutView",
            "align_content": null,
            "align_items": null,
            "align_self": null,
            "border": null,
            "bottom": null,
            "display": null,
            "flex": null,
            "flex_flow": null,
            "grid_area": null,
            "grid_auto_columns": null,
            "grid_auto_flow": null,
            "grid_auto_rows": null,
            "grid_column": null,
            "grid_gap": null,
            "grid_row": null,
            "grid_template_areas": null,
            "grid_template_columns": null,
            "grid_template_rows": null,
            "height": null,
            "justify_content": null,
            "justify_items": null,
            "left": null,
            "margin": null,
            "max_height": null,
            "max_width": null,
            "min_height": null,
            "min_width": null,
            "object_fit": null,
            "object_position": null,
            "order": null,
            "overflow": null,
            "overflow_x": null,
            "overflow_y": null,
            "padding": null,
            "right": null,
            "top": null,
            "visibility": null,
            "width": null
          }
        },
        "2f2105a29e184c72b508d98ffe5c6bca": {
          "model_module": "@jupyter-widgets/controls",
          "model_module_version": "1.5.0",
          "model_name": "ToggleButtonsStyleModel",
          "state": {
            "_model_module": "@jupyter-widgets/controls",
            "_model_module_version": "1.5.0",
            "_model_name": "ToggleButtonsStyleModel",
            "_view_count": null,
            "_view_module": "@jupyter-widgets/base",
            "_view_module_version": "1.2.0",
            "_view_name": "StyleView",
            "button_width": "",
            "description_width": "",
            "font_weight": ""
          }
        },
        "357a90c5b5f145689b10dd559aa30fce": {
          "model_module": "@jupyter-widgets/controls",
          "model_module_version": "1.5.0",
          "model_name": "ProgressStyleModel",
          "state": {
            "_model_module": "@jupyter-widgets/controls",
            "_model_module_version": "1.5.0",
            "_model_name": "ProgressStyleModel",
            "_view_count": null,
            "_view_module": "@jupyter-widgets/base",
            "_view_module_version": "1.2.0",
            "_view_name": "StyleView",
            "bar_color": null,
            "description_width": ""
          }
        },
        "37ab9b7569c344659ba0531fc4bacf6d": {
          "model_module": "@jupyter-widgets/base",
          "model_module_version": "1.2.0",
          "model_name": "LayoutModel",
          "state": {
            "_model_module": "@jupyter-widgets/base",
            "_model_module_version": "1.2.0",
            "_model_name": "LayoutModel",
            "_view_count": null,
            "_view_module": "@jupyter-widgets/base",
            "_view_module_version": "1.2.0",
            "_view_name": "LayoutView",
            "align_content": null,
            "align_items": null,
            "align_self": null,
            "border": null,
            "bottom": null,
            "display": null,
            "flex": null,
            "flex_flow": null,
            "grid_area": null,
            "grid_auto_columns": null,
            "grid_auto_flow": null,
            "grid_auto_rows": null,
            "grid_column": null,
            "grid_gap": null,
            "grid_row": null,
            "grid_template_areas": null,
            "grid_template_columns": null,
            "grid_template_rows": null,
            "height": null,
            "justify_content": null,
            "justify_items": null,
            "left": null,
            "margin": null,
            "max_height": null,
            "max_width": null,
            "min_height": null,
            "min_width": null,
            "object_fit": null,
            "object_position": null,
            "order": null,
            "overflow": null,
            "overflow_x": null,
            "overflow_y": null,
            "padding": null,
            "right": null,
            "top": null,
            "visibility": null,
            "width": "100%"
          }
        },
        "37c63b03bf224babaafb3fdfe79b4d7e": {
          "model_module": "@jupyter-widgets/controls",
          "model_module_version": "1.5.0",
          "model_name": "HTMLModel",
          "state": {
            "_dom_classes": [],
            "_model_module": "@jupyter-widgets/controls",
            "_model_module_version": "1.5.0",
            "_model_name": "HTMLModel",
            "_view_count": null,
            "_view_module": "@jupyter-widgets/controls",
            "_view_module_version": "1.5.0",
            "_view_name": "HTMLView",
            "description": "",
            "description_tooltip": null,
            "layout": "IPY_MODEL_f032562e0bc346dcbf76305c219fe33b",
            "placeholder": "​",
            "style": "IPY_MODEL_f186bc43f5b44e5ca265d0c2c81dd592",
            "value": " 1/1 [00:06&lt;00:00,  6.63s/it]"
          }
        },
        "491999bc35564d98b73ac10a8ec02c87": {
          "model_module": "@jupyter-widgets/controls",
          "model_module_version": "1.5.0",
          "model_name": "IntProgressModel",
          "state": {
            "_dom_classes": [],
            "_model_module": "@jupyter-widgets/controls",
            "_model_module_version": "1.5.0",
            "_model_name": "IntProgressModel",
            "_view_count": null,
            "_view_module": "@jupyter-widgets/controls",
            "_view_module_version": "1.5.0",
            "_view_name": "ProgressView",
            "bar_style": "",
            "description": "Processing: ",
            "description_tooltip": null,
            "layout": "IPY_MODEL_c0e42a4b174245569a2ab85f9b0d255c",
            "max": 5,
            "min": 0,
            "orientation": "horizontal",
            "style": "IPY_MODEL_2452a9f9a5194c27b95ebe6d0ab3b46a",
            "value": 3
          }
        },
        "4a033e2320da45e097efd562e3b1217a": {
          "model_module": "@jupyter-widgets/controls",
          "model_module_version": "1.5.0",
          "model_name": "ProgressStyleModel",
          "state": {
            "_model_module": "@jupyter-widgets/controls",
            "_model_module_version": "1.5.0",
            "_model_name": "ProgressStyleModel",
            "_view_count": null,
            "_view_module": "@jupyter-widgets/base",
            "_view_module_version": "1.2.0",
            "_view_name": "StyleView",
            "bar_color": null,
            "description_width": ""
          }
        },
        "516daf75b3dc439ab7ada25ba8d77563": {
          "model_module": "@jupyter-widgets/base",
          "model_module_version": "1.2.0",
          "model_name": "LayoutModel",
          "state": {
            "_model_module": "@jupyter-widgets/base",
            "_model_module_version": "1.2.0",
            "_model_name": "LayoutModel",
            "_view_count": null,
            "_view_module": "@jupyter-widgets/base",
            "_view_module_version": "1.2.0",
            "_view_name": "LayoutView",
            "align_content": null,
            "align_items": null,
            "align_self": null,
            "border": null,
            "bottom": null,
            "display": null,
            "flex": null,
            "flex_flow": null,
            "grid_area": null,
            "grid_auto_columns": null,
            "grid_auto_flow": null,
            "grid_auto_rows": null,
            "grid_column": null,
            "grid_gap": null,
            "grid_row": null,
            "grid_template_areas": null,
            "grid_template_columns": null,
            "grid_template_rows": null,
            "height": null,
            "justify_content": null,
            "justify_items": null,
            "left": null,
            "margin": null,
            "max_height": null,
            "max_width": null,
            "min_height": null,
            "min_width": null,
            "object_fit": null,
            "object_position": null,
            "order": null,
            "overflow": null,
            "overflow_x": null,
            "overflow_y": null,
            "padding": null,
            "right": null,
            "top": null,
            "visibility": null,
            "width": null
          }
        },
        "52be6480108c4852a9363af0083c4e6e": {
          "model_module": "@jupyter-widgets/base",
          "model_module_version": "1.2.0",
          "model_name": "LayoutModel",
          "state": {
            "_model_module": "@jupyter-widgets/base",
            "_model_module_version": "1.2.0",
            "_model_name": "LayoutModel",
            "_view_count": null,
            "_view_module": "@jupyter-widgets/base",
            "_view_module_version": "1.2.0",
            "_view_name": "LayoutView",
            "align_content": null,
            "align_items": null,
            "align_self": null,
            "border": null,
            "bottom": null,
            "display": null,
            "flex": null,
            "flex_flow": null,
            "grid_area": null,
            "grid_auto_columns": null,
            "grid_auto_flow": null,
            "grid_auto_rows": null,
            "grid_column": null,
            "grid_gap": null,
            "grid_row": null,
            "grid_template_areas": null,
            "grid_template_columns": null,
            "grid_template_rows": null,
            "height": null,
            "justify_content": null,
            "justify_items": null,
            "left": null,
            "margin": null,
            "max_height": null,
            "max_width": null,
            "min_height": null,
            "min_width": null,
            "object_fit": null,
            "object_position": null,
            "order": null,
            "overflow": null,
            "overflow_x": null,
            "overflow_y": null,
            "padding": null,
            "right": null,
            "top": null,
            "visibility": null,
            "width": null
          }
        },
        "552f4c454b974c978958dd03c356c65d": {
          "model_module": "@jupyter-widgets/output",
          "model_module_version": "1.0.0",
          "model_name": "OutputModel",
          "state": {
            "_dom_classes": [],
            "_model_module": "@jupyter-widgets/output",
            "_model_module_version": "1.0.0",
            "_model_name": "OutputModel",
            "_view_count": null,
            "_view_module": "@jupyter-widgets/output",
            "_view_module_version": "1.0.0",
            "_view_name": "OutputView",
            "layout": "IPY_MODEL_e579f8fa4982468eb973f99e1a2a45f6",
            "msg_id": "",
            "outputs": [
              {
                "data": {
                  "image/png": "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\n",
                  "text/plain": "<Figure size 800x500 with 1 Axes>"
                },
                "metadata": {},
                "output_type": "display_data"
              },
              {
                "name": "stderr",
                "output_type": "stream",
                "text": [
                  "INFO:logs:Visual Rendered Successfully\n"
                ]
              },
              {
                "name": "stderr",
                "output_type": "stream",
                "text": [
                  "INFO:logs:plot_model() succesfully completed......................................\n"
                ]
              }
            ]
          }
        },
        "56ab588494a547c385fedd2271521f0f": {
          "model_module": "@jupyter-widgets/controls",
          "model_module_version": "1.5.0",
          "model_name": "TextModel",
          "state": {
            "_dom_classes": [],
            "_model_module": "@jupyter-widgets/controls",
            "_model_module_version": "1.5.0",
            "_model_name": "TextModel",
            "_view_count": null,
            "_view_module": "@jupyter-widgets/controls",
            "_view_module_version": "1.5.0",
            "_view_name": "TextView",
            "continuous_update": true,
            "description": "",
            "description_tooltip": null,
            "disabled": false,
            "layout": "IPY_MODEL_37ab9b7569c344659ba0531fc4bacf6d",
            "placeholder": "​",
            "style": "IPY_MODEL_f4680eed25de49e4ac24b8a13fde55da",
            "value": "Following data types have been inferred automatically, if they are correct press enter to continue or type 'quit' otherwise."
          }
        },
        "5969a9734e6941f7baa9661d8cae849d": {
          "model_module": "@jupyter-widgets/controls",
          "model_module_version": "1.5.0",
          "model_name": "TextModel",
          "state": {
            "_dom_classes": [],
            "_model_module": "@jupyter-widgets/controls",
            "_model_module_version": "1.5.0",
            "_model_name": "TextModel",
            "_view_count": null,
            "_view_module": "@jupyter-widgets/controls",
            "_view_module_version": "1.5.0",
            "_view_name": "TextView",
            "continuous_update": true,
            "description": "",
            "description_tooltip": null,
            "disabled": false,
            "layout": "IPY_MODEL_b8f3bdc1190345d89c1b912985db23e2",
            "placeholder": "​",
            "style": "IPY_MODEL_8c3d2680fa7b44dba91bee8319e2e7fe",
            "value": "Following data types have been inferred automatically, if they are correct press enter to continue or type 'quit' otherwise."
          }
        },
        "5c3c93e99e054dfda343f12d7a3d2d9d": {
          "model_module": "@jupyter-widgets/controls",
          "model_module_version": "1.5.0",
          "model_name": "DescriptionStyleModel",
          "state": {
            "_model_module": "@jupyter-widgets/controls",
            "_model_module_version": "1.5.0",
            "_model_name": "DescriptionStyleModel",
            "_view_count": null,
            "_view_module": "@jupyter-widgets/base",
            "_view_module_version": "1.2.0",
            "_view_name": "StyleView",
            "description_width": ""
          }
        },
        "5cae433f998c4eedb66753309fd901e8": {
          "model_module": "@jupyter-widgets/base",
          "model_module_version": "1.2.0",
          "model_name": "LayoutModel",
          "state": {
            "_model_module": "@jupyter-widgets/base",
            "_model_module_version": "1.2.0",
            "_model_name": "LayoutModel",
            "_view_count": null,
            "_view_module": "@jupyter-widgets/base",
            "_view_module_version": "1.2.0",
            "_view_name": "LayoutView",
            "align_content": null,
            "align_items": null,
            "align_self": null,
            "border": null,
            "bottom": null,
            "display": null,
            "flex": null,
            "flex_flow": null,
            "grid_area": null,
            "grid_auto_columns": null,
            "grid_auto_flow": null,
            "grid_auto_rows": null,
            "grid_column": null,
            "grid_gap": null,
            "grid_row": null,
            "grid_template_areas": null,
            "grid_template_columns": null,
            "grid_template_rows": null,
            "height": null,
            "justify_content": null,
            "justify_items": null,
            "left": null,
            "margin": null,
            "max_height": null,
            "max_width": null,
            "min_height": null,
            "min_width": null,
            "object_fit": null,
            "object_position": null,
            "order": null,
            "overflow": null,
            "overflow_x": null,
            "overflow_y": null,
            "padding": null,
            "right": null,
            "top": null,
            "visibility": null,
            "width": null
          }
        },
        "5e3870082f0f4cb7880966a6a66a2a6a": {
          "model_module": "@jupyter-widgets/base",
          "model_module_version": "1.2.0",
          "model_name": "LayoutModel",
          "state": {
            "_model_module": "@jupyter-widgets/base",
            "_model_module_version": "1.2.0",
            "_model_name": "LayoutModel",
            "_view_count": null,
            "_view_module": "@jupyter-widgets/base",
            "_view_module_version": "1.2.0",
            "_view_name": "LayoutView",
            "align_content": null,
            "align_items": null,
            "align_self": null,
            "border": null,
            "bottom": null,
            "display": null,
            "flex": null,
            "flex_flow": null,
            "grid_area": null,
            "grid_auto_columns": null,
            "grid_auto_flow": null,
            "grid_auto_rows": null,
            "grid_column": null,
            "grid_gap": null,
            "grid_row": null,
            "grid_template_areas": null,
            "grid_template_columns": null,
            "grid_template_rows": null,
            "height": null,
            "justify_content": null,
            "justify_items": null,
            "left": null,
            "margin": null,
            "max_height": null,
            "max_width": null,
            "min_height": null,
            "min_width": null,
            "object_fit": null,
            "object_position": null,
            "order": null,
            "overflow": null,
            "overflow_x": null,
            "overflow_y": null,
            "padding": null,
            "right": null,
            "top": null,
            "visibility": null,
            "width": null
          }
        },
        "6210994e8fe2414d9e373d4cfb71a8ba": {
          "model_module": "@jupyter-widgets/controls",
          "model_module_version": "1.5.0",
          "model_name": "HTMLModel",
          "state": {
            "_dom_classes": [],
            "_model_module": "@jupyter-widgets/controls",
            "_model_module_version": "1.5.0",
            "_model_name": "HTMLModel",
            "_view_count": null,
            "_view_module": "@jupyter-widgets/controls",
            "_view_module_version": "1.5.0",
            "_view_name": "HTMLView",
            "description": "",
            "description_tooltip": null,
            "layout": "IPY_MODEL_15da776c9ec74a21b069cdd7a8d3cc58",
            "placeholder": "​",
            "style": "IPY_MODEL_194e37d05c8e414d9614ae924bb65f0e",
            "value": " 76/76 [00:09&lt;00:00,  6.13it/s, Completed]"
          }
        },
        "62cf01e09db5445cb90e4d440eebf0fd": {
          "model_module": "@jupyter-widgets/controls",
          "model_module_version": "1.5.0",
          "model_name": "HBoxModel",
          "state": {
            "_dom_classes": [],
            "_model_module": "@jupyter-widgets/controls",
            "_model_module_version": "1.5.0",
            "_model_name": "HBoxModel",
            "_view_count": null,
            "_view_module": "@jupyter-widgets/controls",
            "_view_module_version": "1.5.0",
            "_view_name": "HBoxView",
            "box_style": "",
            "children": [
              "IPY_MODEL_904fb1077f334605bc6a2f3b527191f7",
              "IPY_MODEL_1a5c61b61e894616823250bc7fc9073e",
              "IPY_MODEL_6210994e8fe2414d9e373d4cfb71a8ba"
            ],
            "layout": "IPY_MODEL_a168b0f47e2d463294476d9d7b833c6e"
          }
        },
        "632065915b144b7183b3ea8603c808bc": {
          "model_module": "@jupyter-widgets/controls",
          "model_module_version": "1.5.0",
          "model_name": "HTMLModel",
          "state": {
            "_dom_classes": [],
            "_model_module": "@jupyter-widgets/controls",
            "_model_module_version": "1.5.0",
            "_model_name": "HTMLModel",
            "_view_count": null,
            "_view_module": "@jupyter-widgets/controls",
            "_view_module_version": "1.5.0",
            "_view_name": "HTMLView",
            "description": "",
            "description_tooltip": null,
            "layout": "IPY_MODEL_5cae433f998c4eedb66753309fd901e8",
            "placeholder": "​",
            "style": "IPY_MODEL_5c3c93e99e054dfda343f12d7a3d2d9d",
            "value": "Render HTML: 100%"
          }
        },
        "723b9c4e3fb143729d88bbc4ce235fed": {
          "model_module": "@jupyter-widgets/controls",
          "model_module_version": "1.5.0",
          "model_name": "ToggleButtonsStyleModel",
          "state": {
            "_model_module": "@jupyter-widgets/controls",
            "_model_module_version": "1.5.0",
            "_model_name": "ToggleButtonsStyleModel",
            "_view_count": null,
            "_view_module": "@jupyter-widgets/base",
            "_view_module_version": "1.2.0",
            "_view_name": "StyleView",
            "button_width": "",
            "description_width": "",
            "font_weight": ""
          }
        },
        "72b7c9f0f43743248157fb2952da1c34": {
          "model_module": "@jupyter-widgets/controls",
          "model_module_version": "1.5.0",
          "model_name": "IntProgressModel",
          "state": {
            "_dom_classes": [],
            "_model_module": "@jupyter-widgets/controls",
            "_model_module_version": "1.5.0",
            "_model_name": "IntProgressModel",
            "_view_count": null,
            "_view_module": "@jupyter-widgets/controls",
            "_view_module_version": "1.5.0",
            "_view_name": "ProgressView",
            "bar_style": "",
            "description": "Processing: ",
            "description_tooltip": null,
            "layout": "IPY_MODEL_8295692aea2745a281ef5804b324409b",
            "max": 3,
            "min": 0,
            "orientation": "horizontal",
            "style": "IPY_MODEL_8ca6b5ee632341e4940906cbdb7cc32f",
            "value": 3
          }
        },
        "78045eb680fc446b826a805b64447616": {
          "model_module": "@jupyter-widgets/controls",
          "model_module_version": "1.5.0",
          "model_name": "HTMLModel",
          "state": {
            "_dom_classes": [],
            "_model_module": "@jupyter-widgets/controls",
            "_model_module_version": "1.5.0",
            "_model_name": "HTMLModel",
            "_view_count": null,
            "_view_module": "@jupyter-widgets/controls",
            "_view_module_version": "1.5.0",
            "_view_name": "HTMLView",
            "description": "",
            "description_tooltip": null,
            "layout": "IPY_MODEL_13361d946e174623885fe3bd6a70afd5",
            "placeholder": "​",
            "style": "IPY_MODEL_0774bff846ad47d79e243c6d0db7b87a",
            "value": "Generate report structure: 100%"
          }
        },
        "7dbb12e4369b486589c7be583eeff6c1": {
          "model_module": "@jupyter-widgets/controls",
          "model_module_version": "1.5.0",
          "model_name": "ProgressStyleModel",
          "state": {
            "_model_module": "@jupyter-widgets/controls",
            "_model_module_version": "1.5.0",
            "_model_name": "ProgressStyleModel",
            "_view_count": null,
            "_view_module": "@jupyter-widgets/base",
            "_view_module_version": "1.2.0",
            "_view_name": "StyleView",
            "bar_color": null,
            "description_width": ""
          }
        },
        "8295692aea2745a281ef5804b324409b": {
          "model_module": "@jupyter-widgets/base",
          "model_module_version": "1.2.0",
          "model_name": "LayoutModel",
          "state": {
            "_model_module": "@jupyter-widgets/base",
            "_model_module_version": "1.2.0",
            "_model_name": "LayoutModel",
            "_view_count": null,
            "_view_module": "@jupyter-widgets/base",
            "_view_module_version": "1.2.0",
            "_view_name": "LayoutView",
            "align_content": null,
            "align_items": null,
            "align_self": null,
            "border": null,
            "bottom": null,
            "display": null,
            "flex": null,
            "flex_flow": null,
            "grid_area": null,
            "grid_auto_columns": null,
            "grid_auto_flow": null,
            "grid_auto_rows": null,
            "grid_column": null,
            "grid_gap": null,
            "grid_row": null,
            "grid_template_areas": null,
            "grid_template_columns": null,
            "grid_template_rows": null,
            "height": null,
            "justify_content": null,
            "justify_items": null,
            "left": null,
            "margin": null,
            "max_height": null,
            "max_width": null,
            "min_height": null,
            "min_width": null,
            "object_fit": null,
            "object_position": null,
            "order": null,
            "overflow": null,
            "overflow_x": null,
            "overflow_y": null,
            "padding": null,
            "right": null,
            "top": null,
            "visibility": null,
            "width": null
          }
        },
        "839f33c966964a0188452727eb89c543": {
          "model_module": "@jupyter-widgets/base",
          "model_module_version": "1.2.0",
          "model_name": "LayoutModel",
          "state": {
            "_model_module": "@jupyter-widgets/base",
            "_model_module_version": "1.2.0",
            "_model_name": "LayoutModel",
            "_view_count": null,
            "_view_module": "@jupyter-widgets/base",
            "_view_module_version": "1.2.0",
            "_view_name": "LayoutView",
            "align_content": null,
            "align_items": null,
            "align_self": null,
            "border": null,
            "bottom": null,
            "display": null,
            "flex": null,
            "flex_flow": null,
            "grid_area": null,
            "grid_auto_columns": null,
            "grid_auto_flow": null,
            "grid_auto_rows": null,
            "grid_column": null,
            "grid_gap": null,
            "grid_row": null,
            "grid_template_areas": null,
            "grid_template_columns": null,
            "grid_template_rows": null,
            "height": null,
            "justify_content": null,
            "justify_items": null,
            "left": null,
            "margin": null,
            "max_height": null,
            "max_width": null,
            "min_height": null,
            "min_width": null,
            "object_fit": null,
            "object_position": null,
            "order": null,
            "overflow": null,
            "overflow_x": null,
            "overflow_y": null,
            "padding": null,
            "right": null,
            "top": null,
            "visibility": null,
            "width": null
          }
        },
        "87ef86fa09fd482fa70992424c1c8700": {
          "model_module": "@jupyter-widgets/controls",
          "model_module_version": "1.5.0",
          "model_name": "ProgressStyleModel",
          "state": {
            "_model_module": "@jupyter-widgets/controls",
            "_model_module_version": "1.5.0",
            "_model_name": "ProgressStyleModel",
            "_view_count": null,
            "_view_module": "@jupyter-widgets/base",
            "_view_module_version": "1.2.0",
            "_view_name": "StyleView",
            "bar_color": null,
            "description_width": ""
          }
        },
        "8b318e687de0445993405f22bc4881f1": {
          "model_module": "@jupyter-widgets/controls",
          "model_module_version": "1.5.0",
          "model_name": "ProgressStyleModel",
          "state": {
            "_model_module": "@jupyter-widgets/controls",
            "_model_module_version": "1.5.0",
            "_model_name": "ProgressStyleModel",
            "_view_count": null,
            "_view_module": "@jupyter-widgets/base",
            "_view_module_version": "1.2.0",
            "_view_name": "StyleView",
            "bar_color": null,
            "description_width": ""
          }
        },
        "8c0db815773b421fb7754ba4a9c28ab3": {
          "model_module": "@jupyter-widgets/controls",
          "model_module_version": "1.5.0",
          "model_name": "IntProgressModel",
          "state": {
            "_dom_classes": [],
            "_model_module": "@jupyter-widgets/controls",
            "_model_module_version": "1.5.0",
            "_model_name": "IntProgressModel",
            "_view_count": null,
            "_view_module": "@jupyter-widgets/controls",
            "_view_module_version": "1.5.0",
            "_view_name": "ProgressView",
            "bar_style": "",
            "description": "Processing: ",
            "description_tooltip": null,
            "layout": "IPY_MODEL_27724d7aa080435c9ef60694e16014f9",
            "max": 94,
            "min": 0,
            "orientation": "horizontal",
            "style": "IPY_MODEL_d41787be091443b28a7604b9089e90d1",
            "value": 94
          }
        },
        "8c3d2680fa7b44dba91bee8319e2e7fe": {
          "model_module": "@jupyter-widgets/controls",
          "model_module_version": "1.5.0",
          "model_name": "DescriptionStyleModel",
          "state": {
            "_model_module": "@jupyter-widgets/controls",
            "_model_module_version": "1.5.0",
            "_model_name": "DescriptionStyleModel",
            "_view_count": null,
            "_view_module": "@jupyter-widgets/base",
            "_view_module_version": "1.2.0",
            "_view_name": "StyleView",
            "description_width": ""
          }
        },
        "8ca6b5ee632341e4940906cbdb7cc32f": {
          "model_module": "@jupyter-widgets/controls",
          "model_module_version": "1.5.0",
          "model_name": "ProgressStyleModel",
          "state": {
            "_model_module": "@jupyter-widgets/controls",
            "_model_module_version": "1.5.0",
            "_model_name": "ProgressStyleModel",
            "_view_count": null,
            "_view_module": "@jupyter-widgets/base",
            "_view_module_version": "1.2.0",
            "_view_name": "StyleView",
            "bar_color": null,
            "description_width": ""
          }
        },
        "904fb1077f334605bc6a2f3b527191f7": {
          "model_module": "@jupyter-widgets/controls",
          "model_module_version": "1.5.0",
          "model_name": "HTMLModel",
          "state": {
            "_dom_classes": [],
            "_model_module": "@jupyter-widgets/controls",
            "_model_module_version": "1.5.0",
            "_model_name": "HTMLModel",
            "_view_count": null,
            "_view_module": "@jupyter-widgets/controls",
            "_view_module_version": "1.5.0",
            "_view_name": "HTMLView",
            "description": "",
            "description_tooltip": null,
            "layout": "IPY_MODEL_839f33c966964a0188452727eb89c543",
            "placeholder": "​",
            "style": "IPY_MODEL_b466837795a542c19619ca01688b6645",
            "value": "Summarize dataset: 100%"
          }
        },
        "9d270e033bb447a9bd26e00989024fa8": {
          "model_module": "@jupyter-widgets/controls",
          "model_module_version": "1.5.0",
          "model_name": "IntProgressModel",
          "state": {
            "_dom_classes": [],
            "_model_module": "@jupyter-widgets/controls",
            "_model_module_version": "1.5.0",
            "_model_name": "IntProgressModel",
            "_view_count": null,
            "_view_module": "@jupyter-widgets/controls",
            "_view_module_version": "1.5.0",
            "_view_name": "ProgressView",
            "bar_style": "",
            "description": "Processing: ",
            "description_tooltip": null,
            "layout": "IPY_MODEL_d6f9539510ec47ea9c538769f6c4fe28",
            "max": 3,
            "min": 0,
            "orientation": "horizontal",
            "style": "IPY_MODEL_4a033e2320da45e097efd562e3b1217a",
            "value": 3
          }
        },
        "9e52a0bd86944aae945d35f4ad393746": {
          "model_module": "@jupyter-widgets/base",
          "model_module_version": "1.2.0",
          "model_name": "LayoutModel",
          "state": {
            "_model_module": "@jupyter-widgets/base",
            "_model_module_version": "1.2.0",
            "_model_name": "LayoutModel",
            "_view_count": null,
            "_view_module": "@jupyter-widgets/base",
            "_view_module_version": "1.2.0",
            "_view_name": "LayoutView",
            "align_content": null,
            "align_items": null,
            "align_self": null,
            "border": null,
            "bottom": null,
            "display": null,
            "flex": null,
            "flex_flow": null,
            "grid_area": null,
            "grid_auto_columns": null,
            "grid_auto_flow": null,
            "grid_auto_rows": null,
            "grid_column": null,
            "grid_gap": null,
            "grid_row": null,
            "grid_template_areas": null,
            "grid_template_columns": null,
            "grid_template_rows": null,
            "height": null,
            "justify_content": null,
            "justify_items": null,
            "left": null,
            "margin": null,
            "max_height": null,
            "max_width": null,
            "min_height": null,
            "min_width": null,
            "object_fit": null,
            "object_position": null,
            "order": null,
            "overflow": null,
            "overflow_x": null,
            "overflow_y": null,
            "padding": null,
            "right": null,
            "top": null,
            "visibility": null,
            "width": null
          }
        },
        "9e541601f0054511a2a0dd6fb29489b2": {
          "model_module": "@jupyter-widgets/base",
          "model_module_version": "1.2.0",
          "model_name": "LayoutModel",
          "state": {
            "_model_module": "@jupyter-widgets/base",
            "_model_module_version": "1.2.0",
            "_model_name": "LayoutModel",
            "_view_count": null,
            "_view_module": "@jupyter-widgets/base",
            "_view_module_version": "1.2.0",
            "_view_name": "LayoutView",
            "align_content": null,
            "align_items": null,
            "align_self": null,
            "border": null,
            "bottom": null,
            "display": null,
            "flex": null,
            "flex_flow": null,
            "grid_area": null,
            "grid_auto_columns": null,
            "grid_auto_flow": null,
            "grid_auto_rows": null,
            "grid_column": null,
            "grid_gap": null,
            "grid_row": null,
            "grid_template_areas": null,
            "grid_template_columns": null,
            "grid_template_rows": null,
            "height": null,
            "justify_content": null,
            "justify_items": null,
            "left": null,
            "margin": null,
            "max_height": null,
            "max_width": null,
            "min_height": null,
            "min_width": null,
            "object_fit": null,
            "object_position": null,
            "order": null,
            "overflow": null,
            "overflow_x": null,
            "overflow_y": null,
            "padding": null,
            "right": null,
            "top": null,
            "visibility": null,
            "width": null
          }
        },
        "9e86ddd416974f1fac1f92c1908a5b52": {
          "model_module": "@jupyter-widgets/base",
          "model_module_version": "1.2.0",
          "model_name": "LayoutModel",
          "state": {
            "_model_module": "@jupyter-widgets/base",
            "_model_module_version": "1.2.0",
            "_model_name": "LayoutModel",
            "_view_count": null,
            "_view_module": "@jupyter-widgets/base",
            "_view_module_version": "1.2.0",
            "_view_name": "LayoutView",
            "align_content": null,
            "align_items": null,
            "align_self": null,
            "border": null,
            "bottom": null,
            "display": null,
            "flex": null,
            "flex_flow": null,
            "grid_area": null,
            "grid_auto_columns": null,
            "grid_auto_flow": null,
            "grid_auto_rows": null,
            "grid_column": null,
            "grid_gap": null,
            "grid_row": null,
            "grid_template_areas": null,
            "grid_template_columns": null,
            "grid_template_rows": null,
            "height": null,
            "justify_content": null,
            "justify_items": null,
            "left": null,
            "margin": null,
            "max_height": null,
            "max_width": null,
            "min_height": null,
            "min_width": null,
            "object_fit": null,
            "object_position": null,
            "order": null,
            "overflow": null,
            "overflow_x": null,
            "overflow_y": null,
            "padding": null,
            "right": null,
            "top": null,
            "visibility": null,
            "width": null
          }
        },
        "a168b0f47e2d463294476d9d7b833c6e": {
          "model_module": "@jupyter-widgets/base",
          "model_module_version": "1.2.0",
          "model_name": "LayoutModel",
          "state": {
            "_model_module": "@jupyter-widgets/base",
            "_model_module_version": "1.2.0",
            "_model_name": "LayoutModel",
            "_view_count": null,
            "_view_module": "@jupyter-widgets/base",
            "_view_module_version": "1.2.0",
            "_view_name": "LayoutView",
            "align_content": null,
            "align_items": null,
            "align_self": null,
            "border": null,
            "bottom": null,
            "display": null,
            "flex": null,
            "flex_flow": null,
            "grid_area": null,
            "grid_auto_columns": null,
            "grid_auto_flow": null,
            "grid_auto_rows": null,
            "grid_column": null,
            "grid_gap": null,
            "grid_row": null,
            "grid_template_areas": null,
            "grid_template_columns": null,
            "grid_template_rows": null,
            "height": null,
            "justify_content": null,
            "justify_items": null,
            "left": null,
            "margin": null,
            "max_height": null,
            "max_width": null,
            "min_height": null,
            "min_width": null,
            "object_fit": null,
            "object_position": null,
            "order": null,
            "overflow": null,
            "overflow_x": null,
            "overflow_y": null,
            "padding": null,
            "right": null,
            "top": null,
            "visibility": null,
            "width": null
          }
        },
        "a2c15bd72861448699169f565d8ee686": {
          "model_module": "@jupyter-widgets/controls",
          "model_module_version": "1.5.0",
          "model_name": "FloatProgressModel",
          "state": {
            "_dom_classes": [],
            "_model_module": "@jupyter-widgets/controls",
            "_model_module_version": "1.5.0",
            "_model_name": "FloatProgressModel",
            "_view_count": null,
            "_view_module": "@jupyter-widgets/controls",
            "_view_module_version": "1.5.0",
            "_view_name": "ProgressView",
            "bar_style": "success",
            "description": "",
            "description_tooltip": null,
            "layout": "IPY_MODEL_9e541601f0054511a2a0dd6fb29489b2",
            "max": 1,
            "min": 0,
            "orientation": "horizontal",
            "style": "IPY_MODEL_8b318e687de0445993405f22bc4881f1",
            "value": 1
          }
        },
        "a46a1a87d2bd4d4e8cf5b738c89d3e3d": {
          "model_module": "@jupyter-widgets/base",
          "model_module_version": "1.2.0",
          "model_name": "LayoutModel",
          "state": {
            "_model_module": "@jupyter-widgets/base",
            "_model_module_version": "1.2.0",
            "_model_name": "LayoutModel",
            "_view_count": null,
            "_view_module": "@jupyter-widgets/base",
            "_view_module_version": "1.2.0",
            "_view_name": "LayoutView",
            "align_content": null,
            "align_items": null,
            "align_self": null,
            "border": null,
            "bottom": null,
            "display": null,
            "flex": null,
            "flex_flow": null,
            "grid_area": null,
            "grid_auto_columns": null,
            "grid_auto_flow": null,
            "grid_auto_rows": null,
            "grid_column": null,
            "grid_gap": null,
            "grid_row": null,
            "grid_template_areas": null,
            "grid_template_columns": null,
            "grid_template_rows": null,
            "height": null,
            "justify_content": null,
            "justify_items": null,
            "left": null,
            "margin": null,
            "max_height": null,
            "max_width": null,
            "min_height": null,
            "min_width": null,
            "object_fit": null,
            "object_position": null,
            "order": null,
            "overflow": null,
            "overflow_x": null,
            "overflow_y": null,
            "padding": null,
            "right": null,
            "top": null,
            "visibility": null,
            "width": null
          }
        },
        "aac0a170011440c49a31511a4cac5ec6": {
          "model_module": "@jupyter-widgets/controls",
          "model_module_version": "1.5.0",
          "model_name": "HBoxModel",
          "state": {
            "_dom_classes": [],
            "_model_module": "@jupyter-widgets/controls",
            "_model_module_version": "1.5.0",
            "_model_name": "HBoxModel",
            "_view_count": null,
            "_view_module": "@jupyter-widgets/controls",
            "_view_module_version": "1.5.0",
            "_view_name": "HBoxView",
            "box_style": "",
            "children": [
              "IPY_MODEL_632065915b144b7183b3ea8603c808bc",
              "IPY_MODEL_e5b2041ab55f402193bd31cbe00c6349",
              "IPY_MODEL_be50edff52e2406a814920f05a622b08"
            ],
            "layout": "IPY_MODEL_07025f185e3c449cb891a198134977f1"
          }
        },
        "ab499d2285ec48daa580755081dba8ae": {
          "model_module": "@jupyter-widgets/base",
          "model_module_version": "1.2.0",
          "model_name": "LayoutModel",
          "state": {
            "_model_module": "@jupyter-widgets/base",
            "_model_module_version": "1.2.0",
            "_model_name": "LayoutModel",
            "_view_count": null,
            "_view_module": "@jupyter-widgets/base",
            "_view_module_version": "1.2.0",
            "_view_name": "LayoutView",
            "align_content": null,
            "align_items": null,
            "align_self": null,
            "border": null,
            "bottom": null,
            "display": null,
            "flex": null,
            "flex_flow": null,
            "grid_area": null,
            "grid_auto_columns": null,
            "grid_auto_flow": null,
            "grid_auto_rows": null,
            "grid_column": null,
            "grid_gap": null,
            "grid_row": null,
            "grid_template_areas": null,
            "grid_template_columns": null,
            "grid_template_rows": null,
            "height": null,
            "justify_content": null,
            "justify_items": null,
            "left": null,
            "margin": null,
            "max_height": null,
            "max_width": null,
            "min_height": null,
            "min_width": null,
            "object_fit": null,
            "object_position": null,
            "order": null,
            "overflow": null,
            "overflow_x": null,
            "overflow_y": null,
            "padding": null,
            "right": null,
            "top": null,
            "visibility": null,
            "width": null
          }
        },
        "ad40b504c49341e28a48b522bb61f3eb": {
          "model_module": "@jupyter-widgets/controls",
          "model_module_version": "1.5.0",
          "model_name": "DescriptionStyleModel",
          "state": {
            "_model_module": "@jupyter-widgets/controls",
            "_model_module_version": "1.5.0",
            "_model_name": "DescriptionStyleModel",
            "_view_count": null,
            "_view_module": "@jupyter-widgets/base",
            "_view_module_version": "1.2.0",
            "_view_name": "StyleView",
            "description_width": ""
          }
        },
        "b466837795a542c19619ca01688b6645": {
          "model_module": "@jupyter-widgets/controls",
          "model_module_version": "1.5.0",
          "model_name": "DescriptionStyleModel",
          "state": {
            "_model_module": "@jupyter-widgets/controls",
            "_model_module_version": "1.5.0",
            "_model_name": "DescriptionStyleModel",
            "_view_count": null,
            "_view_module": "@jupyter-widgets/base",
            "_view_module_version": "1.2.0",
            "_view_name": "StyleView",
            "description_width": ""
          }
        },
        "b4b406be1d964616b96cf8d722a43dc3": {
          "model_module": "@jupyter-widgets/controls",
          "model_module_version": "1.5.0",
          "model_name": "VBoxModel",
          "state": {
            "_dom_classes": [
              "widget-interact"
            ],
            "_model_module": "@jupyter-widgets/controls",
            "_model_module_version": "1.5.0",
            "_model_name": "VBoxModel",
            "_view_count": null,
            "_view_module": "@jupyter-widgets/controls",
            "_view_module_version": "1.5.0",
            "_view_name": "VBoxView",
            "box_style": "",
            "children": [
              "IPY_MODEL_fe974bc5bee946d18f20da1cd3679f2a",
              "IPY_MODEL_552f4c454b974c978958dd03c356c65d"
            ],
            "layout": "IPY_MODEL_cf314453d6a948d9972e2dca76244cff"
          }
        },
        "b8f3bdc1190345d89c1b912985db23e2": {
          "model_module": "@jupyter-widgets/base",
          "model_module_version": "1.2.0",
          "model_name": "LayoutModel",
          "state": {
            "_model_module": "@jupyter-widgets/base",
            "_model_module_version": "1.2.0",
            "_model_name": "LayoutModel",
            "_view_count": null,
            "_view_module": "@jupyter-widgets/base",
            "_view_module_version": "1.2.0",
            "_view_name": "LayoutView",
            "align_content": null,
            "align_items": null,
            "align_self": null,
            "border": null,
            "bottom": null,
            "display": null,
            "flex": null,
            "flex_flow": null,
            "grid_area": null,
            "grid_auto_columns": null,
            "grid_auto_flow": null,
            "grid_auto_rows": null,
            "grid_column": null,
            "grid_gap": null,
            "grid_row": null,
            "grid_template_areas": null,
            "grid_template_columns": null,
            "grid_template_rows": null,
            "height": null,
            "justify_content": null,
            "justify_items": null,
            "left": null,
            "margin": null,
            "max_height": null,
            "max_width": null,
            "min_height": null,
            "min_width": null,
            "object_fit": null,
            "object_position": null,
            "order": null,
            "overflow": null,
            "overflow_x": null,
            "overflow_y": null,
            "padding": null,
            "right": null,
            "top": null,
            "visibility": null,
            "width": "100%"
          }
        },
        "be50edff52e2406a814920f05a622b08": {
          "model_module": "@jupyter-widgets/controls",
          "model_module_version": "1.5.0",
          "model_name": "HTMLModel",
          "state": {
            "_dom_classes": [],
            "_model_module": "@jupyter-widgets/controls",
            "_model_module_version": "1.5.0",
            "_model_name": "HTMLModel",
            "_view_count": null,
            "_view_module": "@jupyter-widgets/controls",
            "_view_module_version": "1.5.0",
            "_view_name": "HTMLView",
            "description": "",
            "description_tooltip": null,
            "layout": "IPY_MODEL_5e3870082f0f4cb7880966a6a66a2a6a",
            "placeholder": "​",
            "style": "IPY_MODEL_ad40b504c49341e28a48b522bb61f3eb",
            "value": " 1/1 [00:02&lt;00:00,  2.02s/it]"
          }
        },
        "bff895f26b2f47acb063b289f9fa52b8": {
          "model_module": "@jupyter-widgets/base",
          "model_module_version": "1.2.0",
          "model_name": "LayoutModel",
          "state": {
            "_model_module": "@jupyter-widgets/base",
            "_model_module_version": "1.2.0",
            "_model_name": "LayoutModel",
            "_view_count": null,
            "_view_module": "@jupyter-widgets/base",
            "_view_module_version": "1.2.0",
            "_view_name": "LayoutView",
            "align_content": null,
            "align_items": null,
            "align_self": null,
            "border": null,
            "bottom": null,
            "display": null,
            "flex": null,
            "flex_flow": null,
            "grid_area": null,
            "grid_auto_columns": null,
            "grid_auto_flow": null,
            "grid_auto_rows": null,
            "grid_column": null,
            "grid_gap": null,
            "grid_row": null,
            "grid_template_areas": null,
            "grid_template_columns": null,
            "grid_template_rows": null,
            "height": null,
            "justify_content": null,
            "justify_items": null,
            "left": null,
            "margin": null,
            "max_height": null,
            "max_width": null,
            "min_height": null,
            "min_width": null,
            "object_fit": null,
            "object_position": null,
            "order": null,
            "overflow": null,
            "overflow_x": null,
            "overflow_y": null,
            "padding": null,
            "right": null,
            "top": null,
            "visibility": null,
            "width": null
          }
        },
        "c0e42a4b174245569a2ab85f9b0d255c": {
          "model_module": "@jupyter-widgets/base",
          "model_module_version": "1.2.0",
          "model_name": "LayoutModel",
          "state": {
            "_model_module": "@jupyter-widgets/base",
            "_model_module_version": "1.2.0",
            "_model_name": "LayoutModel",
            "_view_count": null,
            "_view_module": "@jupyter-widgets/base",
            "_view_module_version": "1.2.0",
            "_view_name": "LayoutView",
            "align_content": null,
            "align_items": null,
            "align_self": null,
            "border": null,
            "bottom": null,
            "display": null,
            "flex": null,
            "flex_flow": null,
            "grid_area": null,
            "grid_auto_columns": null,
            "grid_auto_flow": null,
            "grid_auto_rows": null,
            "grid_column": null,
            "grid_gap": null,
            "grid_row": null,
            "grid_template_areas": null,
            "grid_template_columns": null,
            "grid_template_rows": null,
            "height": null,
            "justify_content": null,
            "justify_items": null,
            "left": null,
            "margin": null,
            "max_height": null,
            "max_width": null,
            "min_height": null,
            "min_width": null,
            "object_fit": null,
            "object_position": null,
            "order": null,
            "overflow": null,
            "overflow_x": null,
            "overflow_y": null,
            "padding": null,
            "right": null,
            "top": null,
            "visibility": null,
            "width": null
          }
        },
        "c954276de7864bdab70d75361f53b73f": {
          "model_module": "@jupyter-widgets/base",
          "model_module_version": "1.2.0",
          "model_name": "LayoutModel",
          "state": {
            "_model_module": "@jupyter-widgets/base",
            "_model_module_version": "1.2.0",
            "_model_name": "LayoutModel",
            "_view_count": null,
            "_view_module": "@jupyter-widgets/base",
            "_view_module_version": "1.2.0",
            "_view_name": "LayoutView",
            "align_content": null,
            "align_items": null,
            "align_self": null,
            "border": null,
            "bottom": null,
            "display": null,
            "flex": null,
            "flex_flow": null,
            "grid_area": null,
            "grid_auto_columns": null,
            "grid_auto_flow": null,
            "grid_auto_rows": null,
            "grid_column": null,
            "grid_gap": null,
            "grid_row": null,
            "grid_template_areas": null,
            "grid_template_columns": null,
            "grid_template_rows": null,
            "height": null,
            "justify_content": null,
            "justify_items": null,
            "left": null,
            "margin": null,
            "max_height": null,
            "max_width": null,
            "min_height": null,
            "min_width": null,
            "object_fit": null,
            "object_position": null,
            "order": null,
            "overflow": null,
            "overflow_x": null,
            "overflow_y": null,
            "padding": null,
            "right": null,
            "top": null,
            "visibility": null,
            "width": null
          }
        },
        "c99042d5d1b242268f555b4842c38cfd": {
          "model_module": "@jupyter-widgets/output",
          "model_module_version": "1.0.0",
          "model_name": "OutputModel",
          "state": {
            "_dom_classes": [],
            "_model_module": "@jupyter-widgets/output",
            "_model_module_version": "1.0.0",
            "_model_name": "OutputModel",
            "_view_count": null,
            "_view_module": "@jupyter-widgets/output",
            "_view_module_version": "1.0.0",
            "_view_name": "OutputView",
            "layout": "IPY_MODEL_0f6a9e1487eb497883d0e0208188c440",
            "msg_id": "",
            "outputs": [
              {
                "name": "stderr",
                "output_type": "stream",
                "text": [
                  "INFO:logs:Initializing plot_model()\n"
                ]
              },
              {
                "name": "stderr",
                "output_type": "stream",
                "text": [
                  "INFO:logs:plot_model(fold=KFold(n_splits=10, random_state=3917, shuffle=True), use_train_data=False, verbose=True, is_in_evaluate=True, display=None, display_format=None, estimator=LGBMRegressor(boosting_type='gbdt', class_weight=None, colsample_bytree=1.0,\n",
                  "              importance_type='split', learning_rate=0.1, max_depth=-1,\n",
                  "              min_child_samples=20, min_child_weight=0.001, min_split_gain=0.0,\n",
                  "              n_estimators=100, n_jobs=-1, num_leaves=31, objective=None,\n",
                  "              random_state=3917, reg_alpha=0.0, reg_lambda=0.0, silent='warn',\n",
                  "              subsample=1.0, subsample_for_bin=200000, subsample_freq=0), feature_name=None, fit_kwargs={}, groups=None, label=False, plot=feature, plot_kwargs={}, save=False, scale=1, system=True)\n"
                ]
              },
              {
                "name": "stderr",
                "output_type": "stream",
                "text": [
                  "INFO:logs:Checking exceptions\n"
                ]
              },
              {
                "name": "stderr",
                "output_type": "stream",
                "text": [
                  "INFO:logs:Preparing display monitor\n"
                ]
              },
              {
                "data": {
                  "application/vnd.jupyter.widget-view+json": {
                    "model_id": "f7c45e8ab2084a12896daf3b9e1faecc",
                    "version_major": 2,
                    "version_minor": 0
                  },
                  "text/plain": "IntProgress(value=0, description='Processing: ', max=5)"
                },
                "metadata": {},
                "output_type": "display_data"
              },
              {
                "name": "stderr",
                "output_type": "stream",
                "text": [
                  "INFO:logs:Preloading libraries\n"
                ]
              },
              {
                "name": "stderr",
                "output_type": "stream",
                "text": [
                  "INFO:logs:Copying training dataset\n"
                ]
              },
              {
                "name": "stderr",
                "output_type": "stream",
                "text": [
                  "INFO:logs:Copying test dataset\n"
                ]
              },
              {
                "name": "stderr",
                "output_type": "stream",
                "text": [
                  "INFO:logs:Plot type: feature\n"
                ]
              },
              {
                "name": "stderr",
                "output_type": "stream",
                "text": [
                  "WARNING:logs:No coef_ found. Trying feature_importances_\n"
                ]
              },
              {
                "ename": "ValueError",
                "evalue": "ignored",
                "output_type": "error",
                "traceback": [
                  "\u001b[0;31m---------------------------------------------------------------------------\u001b[0m",
                  "\u001b[0;31mValueError\u001b[0m                                Traceback (most recent call last)",
                  "\u001b[0;32m/usr/local/lib/python3.8/dist-packages/ipywidgets/widgets/interaction.py\u001b[0m in \u001b[0;36mupdate\u001b[0;34m(self, *args)\u001b[0m\n\u001b[1;32m    255\u001b[0m                     \u001b[0mvalue\u001b[0m \u001b[0;34m=\u001b[0m \u001b[0mwidget\u001b[0m\u001b[0;34m.\u001b[0m\u001b[0mget_interact_value\u001b[0m\u001b[0;34m(\u001b[0m\u001b[0;34m)\u001b[0m\u001b[0;34m\u001b[0m\u001b[0;34m\u001b[0m\u001b[0m\n\u001b[1;32m    256\u001b[0m                     \u001b[0mself\u001b[0m\u001b[0;34m.\u001b[0m\u001b[0mkwargs\u001b[0m\u001b[0;34m[\u001b[0m\u001b[0mwidget\u001b[0m\u001b[0;34m.\u001b[0m\u001b[0m_kwarg\u001b[0m\u001b[0;34m]\u001b[0m \u001b[0;34m=\u001b[0m \u001b[0mvalue\u001b[0m\u001b[0;34m\u001b[0m\u001b[0;34m\u001b[0m\u001b[0m\n\u001b[0;32m--> 257\u001b[0;31m                 \u001b[0mself\u001b[0m\u001b[0;34m.\u001b[0m\u001b[0mresult\u001b[0m \u001b[0;34m=\u001b[0m \u001b[0mself\u001b[0m\u001b[0;34m.\u001b[0m\u001b[0mf\u001b[0m\u001b[0;34m(\u001b[0m\u001b[0;34m**\u001b[0m\u001b[0mself\u001b[0m\u001b[0;34m.\u001b[0m\u001b[0mkwargs\u001b[0m\u001b[0;34m)\u001b[0m\u001b[0;34m\u001b[0m\u001b[0;34m\u001b[0m\u001b[0m\n\u001b[0m\u001b[1;32m    258\u001b[0m                 \u001b[0mshow_inline_matplotlib_plots\u001b[0m\u001b[0;34m(\u001b[0m\u001b[0;34m)\u001b[0m\u001b[0;34m\u001b[0m\u001b[0;34m\u001b[0m\u001b[0m\n\u001b[1;32m    259\u001b[0m                 \u001b[0;32mif\u001b[0m \u001b[0mself\u001b[0m\u001b[0;34m.\u001b[0m\u001b[0mauto_display\u001b[0m \u001b[0;32mand\u001b[0m \u001b[0mself\u001b[0m\u001b[0;34m.\u001b[0m\u001b[0mresult\u001b[0m \u001b[0;32mis\u001b[0m \u001b[0;32mnot\u001b[0m \u001b[0;32mNone\u001b[0m\u001b[0;34m:\u001b[0m\u001b[0;34m\u001b[0m\u001b[0;34m\u001b[0m\u001b[0m\n",
                  "\u001b[0;32m/usr/local/lib/python3.8/dist-packages/pycaret/internal/tabular.py\u001b[0m in \u001b[0;36mplot_model\u001b[0;34m(estimator, plot, scale, save, fold, fit_kwargs, plot_kwargs, groups, feature_name, label, use_train_data, verbose, system, display, display_format, is_in_evaluate)\u001b[0m\n\u001b[1;32m   7710\u001b[0m \u001b[0;34m\u001b[0m\u001b[0m\n\u001b[1;32m   7711\u001b[0m         \u001b[0;31m# execute the plot method\u001b[0m\u001b[0;34m\u001b[0m\u001b[0;34m\u001b[0m\u001b[0;34m\u001b[0m\u001b[0m\n\u001b[0;32m-> 7712\u001b[0;31m         \u001b[0mret\u001b[0m \u001b[0;34m=\u001b[0m \u001b[0mlocals\u001b[0m\u001b[0;34m(\u001b[0m\u001b[0;34m)\u001b[0m\u001b[0;34m[\u001b[0m\u001b[0mplot\u001b[0m\u001b[0;34m]\u001b[0m\u001b[0;34m(\u001b[0m\u001b[0;34m)\u001b[0m\u001b[0;34m\u001b[0m\u001b[0;34m\u001b[0m\u001b[0m\n\u001b[0m\u001b[1;32m   7713\u001b[0m         \u001b[0;32mif\u001b[0m \u001b[0mret\u001b[0m\u001b[0;34m:\u001b[0m\u001b[0;34m\u001b[0m\u001b[0;34m\u001b[0m\u001b[0m\n\u001b[1;32m   7714\u001b[0m             \u001b[0mplot_filename\u001b[0m \u001b[0;34m=\u001b[0m \u001b[0mret\u001b[0m\u001b[0;34m\u001b[0m\u001b[0;34m\u001b[0m\u001b[0m\n",
                  "\u001b[0;32m/usr/local/lib/python3.8/dist-packages/pycaret/internal/tabular.py\u001b[0m in \u001b[0;36mfeature\u001b[0;34m()\u001b[0m\n\u001b[1;32m   7608\u001b[0m \u001b[0;34m\u001b[0m\u001b[0m\n\u001b[1;32m   7609\u001b[0m         \u001b[0;32mdef\u001b[0m \u001b[0mfeature\u001b[0m\u001b[0;34m(\u001b[0m\u001b[0;34m)\u001b[0m\u001b[0;34m:\u001b[0m\u001b[0;34m\u001b[0m\u001b[0;34m\u001b[0m\u001b[0m\n\u001b[0;32m-> 7610\u001b[0;31m             \u001b[0m_feature\u001b[0m\u001b[0;34m(\u001b[0m\u001b[0;36m10\u001b[0m\u001b[0;34m)\u001b[0m\u001b[0;34m\u001b[0m\u001b[0;34m\u001b[0m\u001b[0m\n\u001b[0m\u001b[1;32m   7611\u001b[0m \u001b[0;34m\u001b[0m\u001b[0m\n\u001b[1;32m   7612\u001b[0m         \u001b[0;32mdef\u001b[0m \u001b[0mfeature_all\u001b[0m\u001b[0;34m(\u001b[0m\u001b[0;34m)\u001b[0m\u001b[0;34m:\u001b[0m\u001b[0;34m\u001b[0m\u001b[0;34m\u001b[0m\u001b[0m\n",
                  "\u001b[0;32m/usr/local/lib/python3.8/dist-packages/pycaret/internal/tabular.py\u001b[0m in \u001b[0;36m_feature\u001b[0;34m(n)\u001b[0m\n\u001b[1;32m   7629\u001b[0m                 \u001b[0mlogger\u001b[0m\u001b[0;34m.\u001b[0m\u001b[0mwarning\u001b[0m\u001b[0;34m(\u001b[0m\u001b[0;34m\"No coef_ found. Trying feature_importances_\"\u001b[0m\u001b[0;34m)\u001b[0m\u001b[0;34m\u001b[0m\u001b[0;34m\u001b[0m\u001b[0m\n\u001b[1;32m   7630\u001b[0m                 \u001b[0mvariables\u001b[0m \u001b[0;34m=\u001b[0m \u001b[0mabs\u001b[0m\u001b[0;34m(\u001b[0m\u001b[0mtemp_model\u001b[0m\u001b[0;34m.\u001b[0m\u001b[0mfeature_importances_\u001b[0m\u001b[0;34m)\u001b[0m\u001b[0;34m\u001b[0m\u001b[0;34m\u001b[0m\u001b[0m\n\u001b[0;32m-> 7631\u001b[0;31m             \u001b[0mcoef_df\u001b[0m \u001b[0;34m=\u001b[0m \u001b[0mpd\u001b[0m\u001b[0;34m.\u001b[0m\u001b[0mDataFrame\u001b[0m\u001b[0;34m(\u001b[0m\u001b[0;34m{\u001b[0m\u001b[0;34m\"Variable\"\u001b[0m\u001b[0;34m:\u001b[0m \u001b[0mdata_X\u001b[0m\u001b[0;34m.\u001b[0m\u001b[0mcolumns\u001b[0m\u001b[0;34m,\u001b[0m \u001b[0;34m\"Value\"\u001b[0m\u001b[0;34m:\u001b[0m \u001b[0mvariables\u001b[0m\u001b[0;34m}\u001b[0m\u001b[0;34m)\u001b[0m\u001b[0;34m\u001b[0m\u001b[0;34m\u001b[0m\u001b[0m\n\u001b[0m\u001b[1;32m   7632\u001b[0m             sorted_df = (\n\u001b[1;32m   7633\u001b[0m                 \u001b[0mcoef_df\u001b[0m\u001b[0;34m.\u001b[0m\u001b[0msort_values\u001b[0m\u001b[0;34m(\u001b[0m\u001b[0mby\u001b[0m\u001b[0;34m=\u001b[0m\u001b[0;34m\"Value\"\u001b[0m\u001b[0;34m,\u001b[0m \u001b[0mascending\u001b[0m\u001b[0;34m=\u001b[0m\u001b[0;32mFalse\u001b[0m\u001b[0;34m)\u001b[0m\u001b[0;34m\u001b[0m\u001b[0;34m\u001b[0m\u001b[0m\n",
                  "\u001b[0;32m/usr/local/lib/python3.8/dist-packages/pandas/core/frame.py\u001b[0m in \u001b[0;36m__init__\u001b[0;34m(self, data, index, columns, dtype, copy)\u001b[0m\n\u001b[1;32m    612\u001b[0m         \u001b[0;32melif\u001b[0m \u001b[0misinstance\u001b[0m\u001b[0;34m(\u001b[0m\u001b[0mdata\u001b[0m\u001b[0;34m,\u001b[0m \u001b[0mdict\u001b[0m\u001b[0;34m)\u001b[0m\u001b[0;34m:\u001b[0m\u001b[0;34m\u001b[0m\u001b[0;34m\u001b[0m\u001b[0m\n\u001b[1;32m    613\u001b[0m             \u001b[0;31m# GH#38939 de facto copy defaults to False only in non-dict cases\u001b[0m\u001b[0;34m\u001b[0m\u001b[0;34m\u001b[0m\u001b[0;34m\u001b[0m\u001b[0m\n\u001b[0;32m--> 614\u001b[0;31m             \u001b[0mmgr\u001b[0m \u001b[0;34m=\u001b[0m \u001b[0mdict_to_mgr\u001b[0m\u001b[0;34m(\u001b[0m\u001b[0mdata\u001b[0m\u001b[0;34m,\u001b[0m \u001b[0mindex\u001b[0m\u001b[0;34m,\u001b[0m \u001b[0mcolumns\u001b[0m\u001b[0;34m,\u001b[0m \u001b[0mdtype\u001b[0m\u001b[0;34m=\u001b[0m\u001b[0mdtype\u001b[0m\u001b[0;34m,\u001b[0m \u001b[0mcopy\u001b[0m\u001b[0;34m=\u001b[0m\u001b[0mcopy\u001b[0m\u001b[0;34m,\u001b[0m \u001b[0mtyp\u001b[0m\u001b[0;34m=\u001b[0m\u001b[0mmanager\u001b[0m\u001b[0;34m)\u001b[0m\u001b[0;34m\u001b[0m\u001b[0;34m\u001b[0m\u001b[0m\n\u001b[0m\u001b[1;32m    615\u001b[0m         \u001b[0;32melif\u001b[0m \u001b[0misinstance\u001b[0m\u001b[0;34m(\u001b[0m\u001b[0mdata\u001b[0m\u001b[0;34m,\u001b[0m \u001b[0mma\u001b[0m\u001b[0;34m.\u001b[0m\u001b[0mMaskedArray\u001b[0m\u001b[0;34m)\u001b[0m\u001b[0;34m:\u001b[0m\u001b[0;34m\u001b[0m\u001b[0;34m\u001b[0m\u001b[0m\n\u001b[1;32m    616\u001b[0m             \u001b[0;32mimport\u001b[0m \u001b[0mnumpy\u001b[0m\u001b[0;34m.\u001b[0m\u001b[0mma\u001b[0m\u001b[0;34m.\u001b[0m\u001b[0mmrecords\u001b[0m \u001b[0;32mas\u001b[0m \u001b[0mmrecords\u001b[0m\u001b[0;34m\u001b[0m\u001b[0;34m\u001b[0m\u001b[0m\n",
                  "\u001b[0;32m/usr/local/lib/python3.8/dist-packages/pandas/core/internals/construction.py\u001b[0m in \u001b[0;36mdict_to_mgr\u001b[0;34m(data, index, columns, dtype, typ, copy)\u001b[0m\n\u001b[1;32m    462\u001b[0m         \u001b[0;31m# TODO: can we get rid of the dt64tz special case above?\u001b[0m\u001b[0;34m\u001b[0m\u001b[0;34m\u001b[0m\u001b[0;34m\u001b[0m\u001b[0m\n\u001b[1;32m    463\u001b[0m \u001b[0;34m\u001b[0m\u001b[0m\n\u001b[0;32m--> 464\u001b[0;31m     return arrays_to_mgr(\n\u001b[0m\u001b[1;32m    465\u001b[0m         \u001b[0marrays\u001b[0m\u001b[0;34m,\u001b[0m \u001b[0mdata_names\u001b[0m\u001b[0;34m,\u001b[0m \u001b[0mindex\u001b[0m\u001b[0;34m,\u001b[0m \u001b[0mcolumns\u001b[0m\u001b[0;34m,\u001b[0m \u001b[0mdtype\u001b[0m\u001b[0;34m=\u001b[0m\u001b[0mdtype\u001b[0m\u001b[0;34m,\u001b[0m \u001b[0mtyp\u001b[0m\u001b[0;34m=\u001b[0m\u001b[0mtyp\u001b[0m\u001b[0;34m,\u001b[0m \u001b[0mconsolidate\u001b[0m\u001b[0;34m=\u001b[0m\u001b[0mcopy\u001b[0m\u001b[0;34m\u001b[0m\u001b[0;34m\u001b[0m\u001b[0m\n\u001b[1;32m    466\u001b[0m     )\n",
                  "\u001b[0;32m/usr/local/lib/python3.8/dist-packages/pandas/core/internals/construction.py\u001b[0m in \u001b[0;36marrays_to_mgr\u001b[0;34m(arrays, arr_names, index, columns, dtype, verify_integrity, typ, consolidate)\u001b[0m\n\u001b[1;32m    117\u001b[0m         \u001b[0;31m# figure out the index, if necessary\u001b[0m\u001b[0;34m\u001b[0m\u001b[0;34m\u001b[0m\u001b[0;34m\u001b[0m\u001b[0m\n\u001b[1;32m    118\u001b[0m         \u001b[0;32mif\u001b[0m \u001b[0mindex\u001b[0m \u001b[0;32mis\u001b[0m \u001b[0;32mNone\u001b[0m\u001b[0;34m:\u001b[0m\u001b[0;34m\u001b[0m\u001b[0;34m\u001b[0m\u001b[0m\n\u001b[0;32m--> 119\u001b[0;31m             \u001b[0mindex\u001b[0m \u001b[0;34m=\u001b[0m \u001b[0m_extract_index\u001b[0m\u001b[0;34m(\u001b[0m\u001b[0marrays\u001b[0m\u001b[0;34m)\u001b[0m\u001b[0;34m\u001b[0m\u001b[0;34m\u001b[0m\u001b[0m\n\u001b[0m\u001b[1;32m    120\u001b[0m         \u001b[0;32melse\u001b[0m\u001b[0;34m:\u001b[0m\u001b[0;34m\u001b[0m\u001b[0;34m\u001b[0m\u001b[0m\n\u001b[1;32m    121\u001b[0m             \u001b[0mindex\u001b[0m \u001b[0;34m=\u001b[0m \u001b[0mensure_index\u001b[0m\u001b[0;34m(\u001b[0m\u001b[0mindex\u001b[0m\u001b[0;34m)\u001b[0m\u001b[0;34m\u001b[0m\u001b[0;34m\u001b[0m\u001b[0m\n",
                  "\u001b[0;32m/usr/local/lib/python3.8/dist-packages/pandas/core/internals/construction.py\u001b[0m in \u001b[0;36m_extract_index\u001b[0;34m(data)\u001b[0m\n\u001b[1;32m    633\u001b[0m             \u001b[0mlengths\u001b[0m \u001b[0;34m=\u001b[0m \u001b[0mlist\u001b[0m\u001b[0;34m(\u001b[0m\u001b[0mset\u001b[0m\u001b[0;34m(\u001b[0m\u001b[0mraw_lengths\u001b[0m\u001b[0;34m)\u001b[0m\u001b[0;34m)\u001b[0m\u001b[0;34m\u001b[0m\u001b[0;34m\u001b[0m\u001b[0m\n\u001b[1;32m    634\u001b[0m             \u001b[0;32mif\u001b[0m \u001b[0mlen\u001b[0m\u001b[0;34m(\u001b[0m\u001b[0mlengths\u001b[0m\u001b[0;34m)\u001b[0m \u001b[0;34m>\u001b[0m \u001b[0;36m1\u001b[0m\u001b[0;34m:\u001b[0m\u001b[0;34m\u001b[0m\u001b[0;34m\u001b[0m\u001b[0m\n\u001b[0;32m--> 635\u001b[0;31m                 \u001b[0;32mraise\u001b[0m \u001b[0mValueError\u001b[0m\u001b[0;34m(\u001b[0m\u001b[0;34m\"All arrays must be of the same length\"\u001b[0m\u001b[0;34m)\u001b[0m\u001b[0;34m\u001b[0m\u001b[0;34m\u001b[0m\u001b[0m\n\u001b[0m\u001b[1;32m    636\u001b[0m \u001b[0;34m\u001b[0m\u001b[0m\n\u001b[1;32m    637\u001b[0m             \u001b[0;32mif\u001b[0m \u001b[0mhave_dicts\u001b[0m\u001b[0;34m:\u001b[0m\u001b[0;34m\u001b[0m\u001b[0;34m\u001b[0m\u001b[0m\n",
                  "\u001b[0;31mValueError\u001b[0m: All arrays must be of the same length"
                ]
              }
            ]
          }
        },
        "ce39a9bab0cc4a229a4c13a9bdd02eca": {
          "model_module": "@jupyter-widgets/controls",
          "model_module_version": "1.5.0",
          "model_name": "VBoxModel",
          "state": {
            "_dom_classes": [
              "widget-interact"
            ],
            "_model_module": "@jupyter-widgets/controls",
            "_model_module_version": "1.5.0",
            "_model_name": "VBoxModel",
            "_view_count": null,
            "_view_module": "@jupyter-widgets/controls",
            "_view_module_version": "1.5.0",
            "_view_name": "VBoxView",
            "box_style": "",
            "children": [
              "IPY_MODEL_016b6a61e79646f8b61b890091cf0fc5",
              "IPY_MODEL_c99042d5d1b242268f555b4842c38cfd"
            ],
            "layout": "IPY_MODEL_fea7ad2c6fa3427783a1abd701bbf981"
          }
        },
        "cf314453d6a948d9972e2dca76244cff": {
          "model_module": "@jupyter-widgets/base",
          "model_module_version": "1.2.0",
          "model_name": "LayoutModel",
          "state": {
            "_model_module": "@jupyter-widgets/base",
            "_model_module_version": "1.2.0",
            "_model_name": "LayoutModel",
            "_view_count": null,
            "_view_module": "@jupyter-widgets/base",
            "_view_module_version": "1.2.0",
            "_view_name": "LayoutView",
            "align_content": null,
            "align_items": null,
            "align_self": null,
            "border": null,
            "bottom": null,
            "display": null,
            "flex": null,
            "flex_flow": null,
            "grid_area": null,
            "grid_auto_columns": null,
            "grid_auto_flow": null,
            "grid_auto_rows": null,
            "grid_column": null,
            "grid_gap": null,
            "grid_row": null,
            "grid_template_areas": null,
            "grid_template_columns": null,
            "grid_template_rows": null,
            "height": null,
            "justify_content": null,
            "justify_items": null,
            "left": null,
            "margin": null,
            "max_height": null,
            "max_width": null,
            "min_height": null,
            "min_width": null,
            "object_fit": null,
            "object_position": null,
            "order": null,
            "overflow": null,
            "overflow_x": null,
            "overflow_y": null,
            "padding": null,
            "right": null,
            "top": null,
            "visibility": null,
            "width": null
          }
        },
        "d41787be091443b28a7604b9089e90d1": {
          "model_module": "@jupyter-widgets/controls",
          "model_module_version": "1.5.0",
          "model_name": "ProgressStyleModel",
          "state": {
            "_model_module": "@jupyter-widgets/controls",
            "_model_module_version": "1.5.0",
            "_model_name": "ProgressStyleModel",
            "_view_count": null,
            "_view_module": "@jupyter-widgets/base",
            "_view_module_version": "1.2.0",
            "_view_name": "StyleView",
            "bar_color": null,
            "description_width": ""
          }
        },
        "d6f9539510ec47ea9c538769f6c4fe28": {
          "model_module": "@jupyter-widgets/base",
          "model_module_version": "1.2.0",
          "model_name": "LayoutModel",
          "state": {
            "_model_module": "@jupyter-widgets/base",
            "_model_module_version": "1.2.0",
            "_model_name": "LayoutModel",
            "_view_count": null,
            "_view_module": "@jupyter-widgets/base",
            "_view_module_version": "1.2.0",
            "_view_name": "LayoutView",
            "align_content": null,
            "align_items": null,
            "align_self": null,
            "border": null,
            "bottom": null,
            "display": null,
            "flex": null,
            "flex_flow": null,
            "grid_area": null,
            "grid_auto_columns": null,
            "grid_auto_flow": null,
            "grid_auto_rows": null,
            "grid_column": null,
            "grid_gap": null,
            "grid_row": null,
            "grid_template_areas": null,
            "grid_template_columns": null,
            "grid_template_rows": null,
            "height": null,
            "justify_content": null,
            "justify_items": null,
            "left": null,
            "margin": null,
            "max_height": null,
            "max_width": null,
            "min_height": null,
            "min_width": null,
            "object_fit": null,
            "object_position": null,
            "order": null,
            "overflow": null,
            "overflow_x": null,
            "overflow_y": null,
            "padding": null,
            "right": null,
            "top": null,
            "visibility": null,
            "width": null
          }
        },
        "d83e11037f7d46c1b5a8a85a279c7dcf": {
          "model_module": "@jupyter-widgets/controls",
          "model_module_version": "1.5.0",
          "model_name": "ProgressStyleModel",
          "state": {
            "_model_module": "@jupyter-widgets/controls",
            "_model_module_version": "1.5.0",
            "_model_name": "ProgressStyleModel",
            "_view_count": null,
            "_view_module": "@jupyter-widgets/base",
            "_view_module_version": "1.2.0",
            "_view_name": "StyleView",
            "bar_color": null,
            "description_width": ""
          }
        },
        "e5072c3289ca4a538796911c0c1dc53f": {
          "model_module": "@jupyter-widgets/controls",
          "model_module_version": "1.5.0",
          "model_name": "ProgressStyleModel",
          "state": {
            "_model_module": "@jupyter-widgets/controls",
            "_model_module_version": "1.5.0",
            "_model_name": "ProgressStyleModel",
            "_view_count": null,
            "_view_module": "@jupyter-widgets/base",
            "_view_module_version": "1.2.0",
            "_view_name": "StyleView",
            "bar_color": null,
            "description_width": ""
          }
        },
        "e579f8fa4982468eb973f99e1a2a45f6": {
          "model_module": "@jupyter-widgets/base",
          "model_module_version": "1.2.0",
          "model_name": "LayoutModel",
          "state": {
            "_model_module": "@jupyter-widgets/base",
            "_model_module_version": "1.2.0",
            "_model_name": "LayoutModel",
            "_view_count": null,
            "_view_module": "@jupyter-widgets/base",
            "_view_module_version": "1.2.0",
            "_view_name": "LayoutView",
            "align_content": null,
            "align_items": null,
            "align_self": null,
            "border": null,
            "bottom": null,
            "display": null,
            "flex": null,
            "flex_flow": null,
            "grid_area": null,
            "grid_auto_columns": null,
            "grid_auto_flow": null,
            "grid_auto_rows": null,
            "grid_column": null,
            "grid_gap": null,
            "grid_row": null,
            "grid_template_areas": null,
            "grid_template_columns": null,
            "grid_template_rows": null,
            "height": null,
            "justify_content": null,
            "justify_items": null,
            "left": null,
            "margin": null,
            "max_height": null,
            "max_width": null,
            "min_height": null,
            "min_width": null,
            "object_fit": null,
            "object_position": null,
            "order": null,
            "overflow": null,
            "overflow_x": null,
            "overflow_y": null,
            "padding": null,
            "right": null,
            "top": null,
            "visibility": null,
            "width": null
          }
        },
        "e5b2041ab55f402193bd31cbe00c6349": {
          "model_module": "@jupyter-widgets/controls",
          "model_module_version": "1.5.0",
          "model_name": "FloatProgressModel",
          "state": {
            "_dom_classes": [],
            "_model_module": "@jupyter-widgets/controls",
            "_model_module_version": "1.5.0",
            "_model_name": "FloatProgressModel",
            "_view_count": null,
            "_view_module": "@jupyter-widgets/controls",
            "_view_module_version": "1.5.0",
            "_view_name": "ProgressView",
            "bar_style": "success",
            "description": "",
            "description_tooltip": null,
            "layout": "IPY_MODEL_9e52a0bd86944aae945d35f4ad393746",
            "max": 1,
            "min": 0,
            "orientation": "horizontal",
            "style": "IPY_MODEL_357a90c5b5f145689b10dd559aa30fce",
            "value": 1
          }
        },
        "f032562e0bc346dcbf76305c219fe33b": {
          "model_module": "@jupyter-widgets/base",
          "model_module_version": "1.2.0",
          "model_name": "LayoutModel",
          "state": {
            "_model_module": "@jupyter-widgets/base",
            "_model_module_version": "1.2.0",
            "_model_name": "LayoutModel",
            "_view_count": null,
            "_view_module": "@jupyter-widgets/base",
            "_view_module_version": "1.2.0",
            "_view_name": "LayoutView",
            "align_content": null,
            "align_items": null,
            "align_self": null,
            "border": null,
            "bottom": null,
            "display": null,
            "flex": null,
            "flex_flow": null,
            "grid_area": null,
            "grid_auto_columns": null,
            "grid_auto_flow": null,
            "grid_auto_rows": null,
            "grid_column": null,
            "grid_gap": null,
            "grid_row": null,
            "grid_template_areas": null,
            "grid_template_columns": null,
            "grid_template_rows": null,
            "height": null,
            "justify_content": null,
            "justify_items": null,
            "left": null,
            "margin": null,
            "max_height": null,
            "max_width": null,
            "min_height": null,
            "min_width": null,
            "object_fit": null,
            "object_position": null,
            "order": null,
            "overflow": null,
            "overflow_x": null,
            "overflow_y": null,
            "padding": null,
            "right": null,
            "top": null,
            "visibility": null,
            "width": null
          }
        },
        "f186bc43f5b44e5ca265d0c2c81dd592": {
          "model_module": "@jupyter-widgets/controls",
          "model_module_version": "1.5.0",
          "model_name": "DescriptionStyleModel",
          "state": {
            "_model_module": "@jupyter-widgets/controls",
            "_model_module_version": "1.5.0",
            "_model_name": "DescriptionStyleModel",
            "_view_count": null,
            "_view_module": "@jupyter-widgets/base",
            "_view_module_version": "1.2.0",
            "_view_name": "StyleView",
            "description_width": ""
          }
        },
        "f3219889b90e4340811f958965b90268": {
          "model_module": "@jupyter-widgets/controls",
          "model_module_version": "1.5.0",
          "model_name": "ProgressStyleModel",
          "state": {
            "_model_module": "@jupyter-widgets/controls",
            "_model_module_version": "1.5.0",
            "_model_name": "ProgressStyleModel",
            "_view_count": null,
            "_view_module": "@jupyter-widgets/base",
            "_view_module_version": "1.2.0",
            "_view_name": "StyleView",
            "bar_color": null,
            "description_width": ""
          }
        },
        "f335fc2d8200411399f7917d568d664e": {
          "model_module": "@jupyter-widgets/controls",
          "model_module_version": "1.5.0",
          "model_name": "IntProgressModel",
          "state": {
            "_dom_classes": [],
            "_model_module": "@jupyter-widgets/controls",
            "_model_module_version": "1.5.0",
            "_model_name": "IntProgressModel",
            "_view_count": null,
            "_view_module": "@jupyter-widgets/controls",
            "_view_module_version": "1.5.0",
            "_view_name": "ProgressView",
            "bar_style": "",
            "description": "Processing: ",
            "description_tooltip": null,
            "layout": "IPY_MODEL_9e86ddd416974f1fac1f92c1908a5b52",
            "max": 5,
            "min": 0,
            "orientation": "horizontal",
            "style": "IPY_MODEL_87ef86fa09fd482fa70992424c1c8700",
            "value": 5
          }
        },
        "f4680eed25de49e4ac24b8a13fde55da": {
          "model_module": "@jupyter-widgets/controls",
          "model_module_version": "1.5.0",
          "model_name": "DescriptionStyleModel",
          "state": {
            "_model_module": "@jupyter-widgets/controls",
            "_model_module_version": "1.5.0",
            "_model_name": "DescriptionStyleModel",
            "_view_count": null,
            "_view_module": "@jupyter-widgets/base",
            "_view_module_version": "1.2.0",
            "_view_name": "StyleView",
            "description_width": ""
          }
        },
        "f7c45e8ab2084a12896daf3b9e1faecc": {
          "model_module": "@jupyter-widgets/controls",
          "model_module_version": "1.5.0",
          "model_name": "IntProgressModel",
          "state": {
            "_dom_classes": [],
            "_model_module": "@jupyter-widgets/controls",
            "_model_module_version": "1.5.0",
            "_model_name": "IntProgressModel",
            "_view_count": null,
            "_view_module": "@jupyter-widgets/controls",
            "_view_module_version": "1.5.0",
            "_view_name": "ProgressView",
            "bar_style": "",
            "description": "Processing: ",
            "description_tooltip": null,
            "layout": "IPY_MODEL_bff895f26b2f47acb063b289f9fa52b8",
            "max": 5,
            "min": 0,
            "orientation": "horizontal",
            "style": "IPY_MODEL_263587581aac4ed98ef8eee5effa8cdb",
            "value": 3
          }
        },
        "fe974bc5bee946d18f20da1cd3679f2a": {
          "model_module": "@jupyter-widgets/controls",
          "model_module_version": "1.5.0",
          "model_name": "ToggleButtonsModel",
          "state": {
            "_dom_classes": [],
            "_model_module": "@jupyter-widgets/controls",
            "_model_module_version": "1.5.0",
            "_model_name": "ToggleButtonsModel",
            "_options_labels": [
              "Hyperparameters",
              "Residuals",
              "Prediction Error",
              "Cooks Distance",
              "Feature Selection",
              "Learning Curve",
              "Manifold Learning",
              "Validation Curve",
              "Feature Importance",
              "Feature Importance (All)",
              "Decision Tree",
              "Interactive Residuals"
            ],
            "_view_count": null,
            "_view_module": "@jupyter-widgets/controls",
            "_view_module_version": "1.5.0",
            "_view_name": "ToggleButtonsView",
            "button_style": "",
            "description": "Plot Type:",
            "description_tooltip": null,
            "disabled": false,
            "icons": [
              ""
            ],
            "index": 8,
            "layout": "IPY_MODEL_ab499d2285ec48daa580755081dba8ae",
            "style": "IPY_MODEL_2f2105a29e184c72b508d98ffe5c6bca",
            "tooltips": []
          }
        },
        "fea7ad2c6fa3427783a1abd701bbf981": {
          "model_module": "@jupyter-widgets/base",
          "model_module_version": "1.2.0",
          "model_name": "LayoutModel",
          "state": {
            "_model_module": "@jupyter-widgets/base",
            "_model_module_version": "1.2.0",
            "_model_name": "LayoutModel",
            "_view_count": null,
            "_view_module": "@jupyter-widgets/base",
            "_view_module_version": "1.2.0",
            "_view_name": "LayoutView",
            "align_content": null,
            "align_items": null,
            "align_self": null,
            "border": null,
            "bottom": null,
            "display": null,
            "flex": null,
            "flex_flow": null,
            "grid_area": null,
            "grid_auto_columns": null,
            "grid_auto_flow": null,
            "grid_auto_rows": null,
            "grid_column": null,
            "grid_gap": null,
            "grid_row": null,
            "grid_template_areas": null,
            "grid_template_columns": null,
            "grid_template_rows": null,
            "height": null,
            "justify_content": null,
            "justify_items": null,
            "left": null,
            "margin": null,
            "max_height": null,
            "max_width": null,
            "min_height": null,
            "min_width": null,
            "object_fit": null,
            "object_position": null,
            "order": null,
            "overflow": null,
            "overflow_x": null,
            "overflow_y": null,
            "padding": null,
            "right": null,
            "top": null,
            "visibility": null,
            "width": null
          }
        }
      }
    }
  },
  "nbformat": 4,
  "nbformat_minor": 0
}
