{
 "cells": [
  {
   "cell_type": "code",
   "execution_count": 2,
   "metadata": {},
   "outputs": [],
   "source": [
    "from crewai import Agent, Crew, Process, Task\n",
    "from crewai.project import CrewBase, agent, crew, task, before_kickoff, after_kickoff\n",
    "from crewai_tools import PDFSearchTool\n"
   ]
  },
  {
   "cell_type": "code",
   "execution_count": 3,
   "metadata": {},
   "outputs": [
    {
     "data": {
      "text/plain": [
       "DirectoryReadTool(name='List files in directory', description=\"Tool Name: List files in directory\\nTool Arguments: {}\\nTool Description: A tool that can be used to list ../../../../Papers/'s content.\", args_schema=<class 'crewai_tools.tools.directory_read_tool.directory_read_tool.FixedDirectoryReadToolSchema'>, description_updated=False, cache_function=<function BaseTool.<lambda> at 0x132027c40>, result_as_answer=False, directory='../../../../Papers/')"
      ]
     },
     "execution_count": 3,
     "metadata": {},
     "output_type": "execute_result"
    }
   ],
   "source": [
    "from crewai_tools import PDFSearchTool, DirectoryReadTool\n",
    "# Uncomment the following line to use an example of a custom tool\n",
    "# from projeto_1.tools.custom_tool import MyCustomTool\n",
    "# Uncomment the following line to use an example of a knowledge source\n",
    "# from crewai.knowledge.source.text_file_knowledge_source import TextFileKnowledgeSource\n",
    "\n",
    "# Check our tools documentations for more information on how to use them\n",
    "# from crewai_tools import SerperDevTool\n",
    "\n",
    "directory_path=\"../../../../Papers/\"\n",
    "directory_read_tool=DirectoryReadTool(directory_path)\n",
    "directory_read_tool"
   ]
  },
  {
   "cell_type": "code",
   "execution_count": 5,
   "metadata": {},
   "outputs": [
    {
     "name": "stdout",
     "output_type": "stream",
     "text": [
      "Using Tool: Read website content\n",
      "Power BI Playground\n"
     ]
    }
   ],
   "source": [
    "from crewai_tools import ScrapeWebsiteTool\n",
    "\n",
    "# To enable scrapping any website it finds during it's execution\n",
    "tool = ScrapeWebsiteTool()\n",
    "\n",
    "# Initialize the tool with the website URL, \n",
    "# so the agent can only scrap the content of the specified website\n",
    "tool = ScrapeWebsiteTool(website_url='https://playground.powerbi.com/en-us/showcases-gallery/personalize-top-insights')\n",
    "\n",
    "# Extract the text from the site\n",
    "text = tool.run()\n",
    "print(text)"
   ]
  },
  {
   "cell_type": "code",
   "execution_count": 17,
   "metadata": {},
   "outputs": [],
   "source": [
    "from crewai_tools import VisionTool\n",
    "\n",
    "import os\n",
    "\n",
    "os.environ[\"OPENAI_API_KEY\"]=\"put the key\"\n",
    "\n",
    "# To enable scrapping any website it finds during it's execution\n",
    "tool = VisionTool()\n",
    "\n",
    "# Initialize the tool with the website URL, \n",
    "# so the agent can only scrap the content of the specified website\n",
    "tool = VisionTool(image_path_url='https://upload.wikimedia.org/wikipedia/commons/thumb/4/40/Sunflower_sky_backdrop.jpg/1280px-Sunflower_sky_backdrop.jpg')\n"
   ]
  },
  {
   "cell_type": "code",
   "execution_count": 18,
   "metadata": {},
   "outputs": [
    {
     "name": "stdout",
     "output_type": "stream",
     "text": [
      "Using Tool: Vision Tool\n",
      "Image Path or URL is required.\n"
     ]
    }
   ],
   "source": [
    "# Extract the text from the site\n",
    "text = tool.run()\n",
    "print(text)"
   ]
  },
  {
   "cell_type": "code",
   "execution_count": 16,
   "metadata": {},
   "outputs": [
    {
     "data": {
      "text/plain": [
       "str"
      ]
     },
     "execution_count": 16,
     "metadata": {},
     "output_type": "execute_result"
    }
   ],
   "source": [
    "type(text)"
   ]
  },
  {
   "cell_type": "code",
   "execution_count": 4,
   "metadata": {},
   "outputs": [],
   "source": []
  },
  {
   "cell_type": "code",
   "execution_count": 5,
   "metadata": {},
   "outputs": [],
   "source": [
    "pdf_reader=PDFSearchTool()"
   ]
  },
  {
   "cell_type": "code",
   "execution_count": 7,
   "metadata": {},
   "outputs": [],
   "source": [
    "agent_1 = Agent(\n",
    "  role='Research Analyst',\n",
    "  goal='Provide a summary of the given articles',\n",
    "  backstory='An expert analyst with a keen eye for market trends.',\n",
    "  tools=[pdf_reader],\n",
    "  memory=True, # Enable memory\n",
    "  verbose=True,\n",
    "  #max_rpm=None, # No limit on requests per minute\n",
    "  #max_iter=25, # Default value for maximum iterations\n",
    ")"
   ]
  },
  {
   "cell_type": "code",
   "execution_count": 8,
   "metadata": {},
   "outputs": [],
   "source": [
    "task_1 = Task(\n",
    "    description=\"Review the context you got and expand each topic into a full section for a report.\"\n",
    "    \"Make sure the report is detailed and contains any and all relevant information.\",\n",
    "  expected_output=\"A fully fledge reports with the mains topics, each with a full section of information.\"\n",
    "    \"Formatted as markdown without '```'\",\n",
    "  agent= agent_1\n",
    ")"
   ]
  },
  {
   "cell_type": "code",
   "execution_count": null,
   "metadata": {},
   "outputs": [],
   "source": [
    "import sys\n",
    "from crewai import Agent, Task\n",
    "import os\n",
    "from dotenv import load_dotenv\n",
    "from crewai import Crew, Process\n",
    "from langchain_openai import AzureChatOpenAI\n",
    "\n",
    "load_dotenv()\n",
    "\n",
    "default_llm = AzureChatOpenAI(\n",
    "    openai_api_version=os.environ.get(\"AZURE_OPENAI_VERSION\", \"2023-07-01-preview\"),\n",
    "    azure_deployment=os.environ.get(\"AZURE_OPENAI_DEPLOYMENT\", \"gpt35\"),\n",
    "    azure_endpoint=os.environ.get(\"AZURE_OPENAI_ENDPOINT\", \"https://<your-endpoint>.openai.azure.com/\"),\n",
    "    api_key=os.environ.get(\"AZURE_OPENAI_KEY\")\n",
    ")\n",
    "\n",
    "\n",
    "# Create a researcher agent\n",
    "researcher = Agent(\n",
    "  role='Senior Researcher',\n",
    "  goal='Discover groundbreaking technologies',\n",
    "  verbose=True,\n",
    "  llm=default_llm,\n",
    "  backstory='A curious mind fascinated by cutting-edge innovation and the potential to change the world, you know everything about tech.'\n",
    ")\n",
    "\n",
    "# Task for the researcher\n",
    "research_task = Task(\n",
    "  description='Identify the next big trend in AI',\n",
    "  agent=researcher  # Assigning the task to the researcher\n",
    ")\n",
    "\n",
    "\n",
    "# Instantiate your crew\n",
    "tech_crew = Crew(\n",
    "  agents=[researcher],\n",
    "  tasks=[research_task],\n",
    "  process=Process.sequential  # Tasks will be executed one after the other\n",
    ")\n",
    "\n",
    "# Begin the task execution\n",
    "tech_crew.kickoff()"
   ]
  }
 ],
 "metadata": {
  "kernelspec": {
   "display_name": "teste_ai",
   "language": "python",
   "name": "python3"
  },
  "language_info": {
   "codemirror_mode": {
    "name": "ipython",
    "version": 3
   },
   "file_extension": ".py",
   "mimetype": "text/x-python",
   "name": "python",
   "nbconvert_exporter": "python",
   "pygments_lexer": "ipython3",
   "version": "3.11.7"
  }
 },
 "nbformat": 4,
 "nbformat_minor": 2
}
